{
 "cells": [
  {
   "cell_type": "code",
   "execution_count": 106,
   "id": "external-sight",
   "metadata": {},
   "outputs": [],
   "source": [
    "import ROOT\n",
    "import os\n",
    "%run ./toolkit/asym_tools.ipynb\n",
    "ROOT.gStyle.SetEndErrorSize(0)\n",
    "c = ROOT.TCanvas(\"c\",\"c\",800,800)"
   ]
  },
  {
   "cell_type": "markdown",
   "id": "educated-demand",
   "metadata": {},
   "source": [
    "# Double Beam Asymmetry\n",
    "---\n",
    "Gregory Matousek\n",
    "8/22/2022\n",
    "\n",
    "Purpose: To calculate the bin-by-bin double spin asymmetry for RG-C. This program is currently in development\n",
    "\n",
    "---\n",
    "\n",
    "$$ A_{LL} = \\frac{\\left(N_{_{\\leftarrow}^{\\rightarrow}} + N_{_{\\rightarrow}^{\\leftarrow}}\\right) - \\left(N_{_{\\leftarrow}^{\\leftarrow}} + N_{_{\\rightarrow}^{\\rightarrow}}\\right)}{N_{_{\\leftarrow}^{\\rightarrow}} + N_{_{\\rightarrow}^{\\leftarrow}} + N_{_{\\leftarrow}^{\\leftarrow}} + N_{_{\\rightarrow}^{\\rightarrow}}}  $$\n",
    "\n"
   ]
  },
  {
   "cell_type": "markdown",
   "id": "handy-shopping",
   "metadata": {},
   "source": [
    "Default file prefix in volatile"
   ]
  },
  {
   "cell_type": "code",
   "execution_count": 10,
   "id": "trained-equation",
   "metadata": {},
   "outputs": [],
   "source": [
    "prefix = \"/volatile/clas12/users/gmat/clas12analysis.sidis.data/rgc-su-train/\""
   ]
  },
  {
   "cell_type": "markdown",
   "id": "automotive-deputy",
   "metadata": {},
   "source": [
    "# SIDIS PiPlus\n",
    "Creating the x histogram for A_LL"
   ]
  },
  {
   "cell_type": "code",
   "execution_count": 6,
   "id": "immediate-fiction",
   "metadata": {},
   "outputs": [
    {
     "name": "stdout",
     "output_type": "stream",
     "text": [
      "Analyzing file /volatile/clas12/users/gmat/clas12analysis.sidis.data/rgc-su-train/aug22_piplus/ND3-hwp-out/run-16411.root\n",
      "Analyzing file /volatile/clas12/users/gmat/clas12analysis.sidis.data/rgc-su-train/aug22_piplus/ND3-hwp-out/run-16424.root\n",
      "Analyzing file /volatile/clas12/users/gmat/clas12analysis.sidis.data/rgc-su-train/aug22_piplus/ND3-hwp-out/run-16415.root\n",
      "Analyzing file /volatile/clas12/users/gmat/clas12analysis.sidis.data/rgc-su-train/aug22_piplus/ND3-hwp-out/run-16419.root\n",
      "Analyzing file /volatile/clas12/users/gmat/clas12analysis.sidis.data/rgc-su-train/aug22_piplus/ND3-hwp-out/run-16410.root\n",
      "Analyzing file /volatile/clas12/users/gmat/clas12analysis.sidis.data/rgc-su-train/aug22_piplus/ND3-hwp-out/run-16421.root\n",
      "Analyzing file /volatile/clas12/users/gmat/clas12analysis.sidis.data/rgc-su-train/aug22_piplus/ND3-hwp-out/run-16425.root\n",
      "Analyzing file /volatile/clas12/users/gmat/clas12analysis.sidis.data/rgc-su-train/aug22_piplus/ND3-hwp-out/run-16414.root\n",
      "Analyzing file /volatile/clas12/users/gmat/clas12analysis.sidis.data/rgc-su-train/aug22_piplus/ND3-hwp-out/run-16412.root\n",
      "Analyzing file /volatile/clas12/users/gmat/clas12analysis.sidis.data/rgc-su-train/aug22_piplus/ND3-hwp-out/run-16423.root\n",
      "Analyzing file /volatile/clas12/users/gmat/clas12analysis.sidis.data/rgc-su-train/aug22_piplus/ND3-hwp-out/run-16416.root\n",
      "Analyzing file /volatile/clas12/users/gmat/clas12analysis.sidis.data/rgc-su-train/aug22_piplus/ND3-hwp-out/run-16422.root\n",
      "Analyzing file /volatile/clas12/users/gmat/clas12analysis.sidis.data/rgc-su-train/aug22_piplus/ND3-hwp-out/run-16426.root\n",
      "Analyzing file /volatile/clas12/users/gmat/clas12analysis.sidis.data/rgc-su-train/aug22_piplus/ND3-hwp-in/run-16406.root\n",
      "Analyzing file /volatile/clas12/users/gmat/clas12analysis.sidis.data/rgc-su-train/aug22_piplus/ND3-hwp-in/run-16403.root\n",
      "Analyzing file /volatile/clas12/users/gmat/clas12analysis.sidis.data/rgc-su-train/aug22_piplus/ND3-hwp-in/run-16407.root\n",
      "Analyzing file /volatile/clas12/users/gmat/clas12analysis.sidis.data/rgc-su-train/aug22_piplus/ND3-hwp-in/run-16409.root\n",
      "Analyzing file /volatile/clas12/users/gmat/clas12analysis.sidis.data/rgc-su-train/aug22_piplus/ND3-hwp-in/run-16401.root\n",
      "Analyzing file /volatile/clas12/users/gmat/clas12analysis.sidis.data/rgc-su-train/aug22_piplus/ND3-hwp-in/run-16405.root\n",
      "Analyzing file /volatile/clas12/users/gmat/clas12analysis.sidis.data/rgc-su-train/aug22_piplus/ND3-hwp-in/run-16404.root\n",
      "Analyzing file /volatile/clas12/users/gmat/clas12analysis.sidis.data/rgc-su-train/aug22_piplus/ND3-hwp-in/run-16408.root\n",
      "Completed run 16401\n",
      "Completed run 16403\n",
      "Completed run 16404\n",
      "Completed run 16405\n",
      "Completed run 16406\n",
      "Completed run 16407\n",
      "Completed run 16408\n",
      "Completed run 16409\n",
      "Completed run 16410\n",
      "Completed run 16411\n",
      "Completed run 16412\n",
      "Completed run 16414\n",
      "Completed run 16415\n",
      "Completed run 16416\n",
      "Completed run 16419\n",
      "Completed run 16421\n",
      "Completed run 16422\n",
      "Completed run 16423\n",
      "Completed run 16424\n",
      "Completed run 16425\n",
      "Completed run 16426\n"
     ]
    }
   ],
   "source": [
    "file = prefix + \"aug22_piplus/\"\n",
    "target = \"ND3\"\n",
    "bins = np.linspace(0,0.6,5)\n",
    "bintype = \"x\"\n",
    "runMin = 16400\n",
    "runMax = 16430\n",
    "\n",
    "xH = compute_asym(file,target,bins,bintype,runMin,runMax, doRunCumulative=False, doRunOrdering=True)"
   ]
  },
  {
   "cell_type": "code",
   "execution_count": 60,
   "id": "floppy-gentleman",
   "metadata": {},
   "outputs": [
    {
     "name": "stdout",
     "output_type": "stream",
     "text": [
      "Directory 'plots/aug22' already exists...Continuing...\n"
     ]
    }
   ],
   "source": [
    "pt = ROOT.TPaveText(0.15,0.15,0.4,0.3,\"NDC\")\n",
    "pt.AddText(\"e'p#pi^{+}X\").SetTextColor(14)\n",
    "#pt.GetListOfLines().Last().SetTextColor(2)\n",
    "pt.AddText(\"No fiducial cuts\").SetTextColor(14)\n",
    "pt.SetFillColor(0)\n",
    "adj_asym_plots(xH,[pt,pt],\"aug22\")"
   ]
  },
  {
   "cell_type": "markdown",
   "id": "tired-cinema",
   "metadata": {},
   "source": [
    "# Inclusive DIS\n",
    " Binned in 'x'"
   ]
  },
  {
   "cell_type": "code",
   "execution_count": 125,
   "id": "forced-indian",
   "metadata": {},
   "outputs": [
    {
     "name": "stdout",
     "output_type": "stream",
     "text": [
      "Completed run 16401\n",
      "Completed run 16403\n",
      "Completed run 16404\n",
      "Completed run 16405\n",
      "Completed run 16406\n",
      "Completed run 16407\n",
      "Completed run 16408\n",
      "Completed run 16409\n",
      "Completed run 16410\n",
      "Completed run 16411\n",
      "Completed run 16412\n",
      "Completed run 16414\n",
      "Completed run 16415\n",
      "Completed run 16416\n",
      "Completed run 16419\n",
      "Completed run 16421\n",
      "Completed run 16422\n",
      "Completed run 16423\n",
      "Completed run 16424\n",
      "Completed run 16425\n",
      "Completed run 16426\n",
      "Done\n"
     ]
    }
   ],
   "source": [
    "file = prefix + \"aug23_elastic/\"\n",
    "target = \"ND3\"\n",
    "bins = np.linspace(0.1,0.6,5)\n",
    "bintype = \"x\"\n",
    "runMin = 16400\n",
    "runMax = 16430\n",
    "\n",
    "xH = compute_asym(file,target,bins,bintype,runMin,runMax, doRunCumulative=False, doRunOrdering=True)"
   ]
  },
  {
   "cell_type": "code",
   "execution_count": 127,
   "id": "dangerous-hunter",
   "metadata": {},
   "outputs": [
    {
     "name": "stdout",
     "output_type": "stream",
     "text": [
      "Directory 'plots/ND3_16400_16430_xbin' already exists...Continuing...\n"
     ]
    }
   ],
   "source": [
    "pt = ROOT.TPaveText(0.15,0.45,0.4,0.6,\"NDC\")\n",
    "pt.AddText(\"e'X\").SetTextColor(14)\n",
    "pt.AddText(\"No fiducial cuts\").SetTextColor(14)\n",
    "pt.SetFillColor(0)\n",
    "adj_asym_plots(xH,[pt,False,False],\"ND3_16400_16430_xbin\",[False,False,[16400,16426.5,-0.008,0.010],[16400,16426.5,0.15,0.4]])"
   ]
  },
  {
   "cell_type": "markdown",
   "id": "requested-resistance",
   "metadata": {},
   "source": [
    "# Inclusive DIS\n",
    "Integrated"
   ]
  },
  {
   "cell_type": "code",
   "execution_count": 120,
   "id": "republican-central",
   "metadata": {},
   "outputs": [
    {
     "name": "stdout",
     "output_type": "stream",
     "text": [
      "Completed run 16401\n",
      "Completed run 16403\n",
      "Completed run 16404\n",
      "Completed run 16405\n",
      "Completed run 16406\n",
      "Completed run 16407\n",
      "Completed run 16408\n",
      "Completed run 16409\n",
      "Completed run 16410\n",
      "Completed run 16411\n",
      "Completed run 16412\n",
      "Completed run 16414\n",
      "Completed run 16415\n",
      "Completed run 16416\n",
      "Completed run 16419\n",
      "Completed run 16421\n",
      "Completed run 16422\n",
      "Completed run 16423\n",
      "Completed run 16424\n",
      "Completed run 16425\n",
      "Completed run 16426\n",
      "Done\n"
     ]
    }
   ],
   "source": [
    "file = prefix + \"aug23_elastic/\"\n",
    "target = \"ND3\"\n",
    "bins = np.array([0.0,1.0])\n",
    "bintype = \"x\"\n",
    "runMin = 16400\n",
    "runMax = 16430\n",
    "\n",
    "xH = compute_asym(file,target,bins,bintype,runMin,runMax, doRunCumulative=False, doRunOrdering=True)"
   ]
  },
  {
   "cell_type": "code",
   "execution_count": 121,
   "id": "anticipated-launch",
   "metadata": {},
   "outputs": [
    {
     "name": "stdout",
     "output_type": "stream",
     "text": [
      "Directory 'plots/ND3_16400_16430_integrate' already exists...Continuing...\n"
     ]
    }
   ],
   "source": [
    "%run ./toolkit/asym_tools.ipynb\n",
    "pt = ROOT.TPaveText(0.15,0.15,0.4,0.3,\"NDC\")\n",
    "pt.AddText(\"e'X\").SetTextColor(14)\n",
    "pt.AddText(\"No fiducial cuts\").SetTextColor(14)\n",
    "pt.SetFillColor(0)\n",
    "adj_asym_plots(xH,[pt,False,pt],\"ND3_16400_16430_integrate\",[False,False,[16400,16426.5,-0.008,0.010],[16400,16426.5,0.15,0.4]])"
   ]
  },
  {
   "cell_type": "markdown",
   "id": "dental-novelty",
   "metadata": {},
   "source": [
    "# Inclusive DIS\n",
    "Runs 16327 - 16330 NH3 Binned in x"
   ]
  },
  {
   "cell_type": "code",
   "execution_count": 129,
   "id": "referenced-documentation",
   "metadata": {},
   "outputs": [
    {
     "name": "stdout",
     "output_type": "stream",
     "text": [
      "Completed run 16327\n",
      "Completed run 16328\n",
      "Completed run 16329\n",
      "Completed run 16330\n",
      "Done\n"
     ]
    }
   ],
   "source": [
    "file = prefix + \"aug23_elastic/\"\n",
    "target = \"NH3\"\n",
    "bins = np.arange(0.05,0.85,0.1)\n",
    "bintype = \"x\"\n",
    "runMin = 16327\n",
    "runMax = 16330\n",
    "\n",
    "xH = compute_asym(file,target,bins,bintype,runMin,runMax, doRunCumulative=False, doRunOrdering=True)"
   ]
  },
  {
   "cell_type": "code",
   "execution_count": 130,
   "id": "perceived-information",
   "metadata": {},
   "outputs": [
    {
     "name": "stdout",
     "output_type": "stream",
     "text": [
      "Directory 'plots/NH3_16327_16330' already exists...Continuing...\n"
     ]
    }
   ],
   "source": [
    "%run ./toolkit/asym_tools.ipynb\n",
    "pt = ROOT.TPaveText(0.15,0.55,0.4,0.7,\"NDC\")\n",
    "pt.AddText(\"e'X\").SetTextColor(14)\n",
    "pt.AddText(\"No fiducial cuts\").SetTextColor(14)\n",
    "pt.SetFillColor(0)\n",
    "adj_asym_plots(xH,[pt,False,False],\"NH3_16327_16330\",[False,False,False,[16326,16331,0.15,0.4]])"
   ]
  },
  {
   "cell_type": "code",
   "execution_count": null,
   "id": "impaired-flour",
   "metadata": {},
   "outputs": [],
   "source": []
  }
 ],
 "metadata": {
  "kernelspec": {
   "display_name": "Python 3",
   "language": "python",
   "name": "python3"
  },
  "language_info": {
   "codemirror_mode": {
    "name": "ipython",
    "version": 3
   },
   "file_extension": ".py",
   "mimetype": "text/x-python",
   "name": "python",
   "nbconvert_exporter": "python",
   "pygments_lexer": "ipython3",
   "version": "3.8.6"
  }
 },
 "nbformat": 4,
 "nbformat_minor": 5
}
