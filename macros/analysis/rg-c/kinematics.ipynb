{
 "cells": [
  {
   "cell_type": "code",
   "execution_count": 1,
   "id": "parliamentary-seven",
   "metadata": {},
   "outputs": [
    {
     "name": "stdout",
     "output_type": "stream",
     "text": [
      "Welcome to JupyROOT 6.22/06\n"
     ]
    }
   ],
   "source": [
    "import ROOT\n",
    "%run ./toolkit/kin_tools.ipynb"
   ]
  },
  {
   "cell_type": "code",
   "execution_count": 2,
   "id": "played-design",
   "metadata": {},
   "outputs": [
    {
     "name": "stdout",
     "output_type": "stream",
     "text": [
      "['x', 'y', 'Q2', 'W', 'Mmiss', 'Ptmiss', 'Ee', 'Pp', 'p_piplus', 'p_piminus', 'thetae', 'thetap', 'thetapiplus', 'thetapiminus', 'thetap_predict', 'phie', 'phip', 'vze', 'vzp', 'vzpiplus', 'vzpiminus', 'pte', 'p_e:theta_e', 'p_p:theta_p', 'Dy', 'Dy:xB', 'Mdihadron', 'Ptmiss', 'Mmiss_p', 'chi2_piplus', 'chi2_piminus', 'chi2_p']\n"
     ]
    }
   ],
   "source": [
    "print(draw_options())"
   ]
  },
  {
   "cell_type": "markdown",
   "id": "guided-hughes",
   "metadata": {},
   "source": [
    "# Elastic Scattering Data\n",
    "---\n",
    "From the gmn train"
   ]
  },
  {
   "cell_type": "code",
   "execution_count": 3,
   "id": "distributed-mission",
   "metadata": {},
   "outputs": [
    {
     "name": "stdout",
     "output_type": "stream",
     "text": [
      "Directory 'plots/kin/sept1_elastic' already exists...Continuing...\n",
      "x_{B} 0.5219760554364025\n",
      "y 0.21921574089591167\n",
      "Q^{2} [GeV^{2}] 2.368729284169799\n",
      "W [GeV] 1.6624241622139988\n",
      "M_{miss} [GeV] 0.6023348449874707\n",
      "Pt_{miss} [GeV] 0.8329636085668359\n",
      "#theta(p)_{predict}-#theta(p) 6.07962288880968\n",
      "p_{T}(e') [GeV] 1.3199149768164529\n",
      "E(e') [GeV] 8.234956897445226\n",
      "#theta(e') 9.406308166349712\n",
      "#phi(e') -7.412181303431256\n",
      "#theta(e') 9.40649141179323\n",
      "P(p') [GeV] 1.35702485377981\n",
      "#theta(p) 36.71032254372104\n",
      "#phi(p) -6.599654613581627\n",
      "#theta(p) 26.487983239627408\n",
      "Vertex z(e') [cm] -3.913236614023415\n",
      "Vertex z(p) [cm] -4.1547670680035536\n"
     ]
    }
   ],
   "source": [
    "create_kin_plots(rootdir_data = \"/volatile/clas12/users/gmat/clas12analysis.sidis.data/rgc-su-train/sept1_elastic/\",\n",
    "                     rootdir_MC = \"\",\n",
    "                     target = \"NH3\",\n",
    "                     runMin = 16700,\n",
    "                     runMax = 16771,\n",
    "                     runList = [],\n",
    "                     plotList = [\"x\",\"y\",\"Q2\",\"W\",\n",
    "                                 \"Mmiss\",\"Ptmiss\",\"thetap_predict\",\"pte\",\n",
    "                                 \"Ee\",\"thetae\",\"phie\",\"p_e:theta_e\",\n",
    "                                 \"Pp\",\"thetap\",\"phip\",\"p_p:theta_p\",\n",
    "                                 \"vze\",\"vzp\"],\n",
    "                     outdir = \"sept1_elastic\",\n",
    "                     )"
   ]
  },
  {
   "cell_type": "markdown",
   "id": "intellectual-torture",
   "metadata": {},
   "source": [
    "With exclusive cuts placed"
   ]
  },
  {
   "cell_type": "code",
   "execution_count": 19,
   "id": "generic-million",
   "metadata": {},
   "outputs": [
    {
     "name": "stdout",
     "output_type": "stream",
     "text": [
      "Creating directory 'plots/kin/sept1_elastic_cuts'\n"
     ]
    }
   ],
   "source": [
    "create_kin_plots(rootdir_data = \"/volatile/clas12/users/gmat/clas12analysis.sidis.data/rgc-su-train/sept1_elastic/\",\n",
    "                     rootdir_MC = \"\",\n",
    "                     target = \"NH3\",\n",
    "                     runMin = 16700,\n",
    "                     runMax = 16771,\n",
    "                     runList = [],\n",
    "                     plotList = [\"x\",\"y\",\"Q2\",\"W\",\n",
    "                                 \"Mmiss\",\"Ptmiss\",\"thetap_predict\",\"pte\",\n",
    "                                 \"Ee\",\"thetae\",\"phie\",\"p_e:theta_e\",\n",
    "                                 \"Pp\",\"thetap\",\"phip\",\"p_p:theta_p\",\n",
    "                                 \"vze\",\"vzp\"],\n",
    "                     outdir = \"sept1_elastic_cuts\",\n",
    "                     #cuts = [\"W > 0.84 && W < 1.02\",\"abs(Ptmiss)<0.05\",\"abs(th_p_predict*180/3.1415)<1.1\"])\n",
    "                     cuts = [\"W > 0.84 && W < 1.02\",\"abs(Ptmiss)<0.05\",\"abs(th_p_predict*180/3.1415)<1.1\"])"
   ]
  },
  {
   "cell_type": "markdown",
   "id": "adapted-machinery",
   "metadata": {},
   "source": [
    "# Inclusive Scattering Data\n",
    "---"
   ]
  },
  {
   "cell_type": "code",
   "execution_count": 3,
   "id": "coastal-roots",
   "metadata": {},
   "outputs": [
    {
     "name": "stdout",
     "output_type": "stream",
     "text": [
      "Directory 'plots/kin/nd3_collab_nov' already exists...Continuing...\n",
      "[17265, 17269, 17227, 17237, 17262, 17273]\n",
      "[]\n",
      "x_{B} 0.2428640019660196\n",
      "y 0.5473611462758825\n",
      "Q^{2} [GeV^{2}] 2.6178014007204298\n",
      "W [GeV] 2.9804083214287913\n",
      "E(e') [GeV] 4.774117781913618\n",
      "#theta(e') 13.33206107612942\n",
      "#phi(e') 7.425131646646103\n",
      "Vertex z(e') [cm] -3.960977152238815\n"
     ]
    },
    {
     "data": {
      "text/plain": [
       "[[<cppyy.gbl.ROOT.RDF.RResultPtr<TH1D> object at 0x55acbd35a940>,\n",
       "  <cppyy.gbl.ROOT.RDF.RResultPtr<TH1D> object at 0x55acbd4b4510>,\n",
       "  <cppyy.gbl.ROOT.RDF.RResultPtr<TH1D> object at 0x55acc08f9d70>,\n",
       "  <cppyy.gbl.ROOT.RDF.RResultPtr<TH1D> object at 0x55acbdbcf8b0>,\n",
       "  <cppyy.gbl.ROOT.RDF.RResultPtr<TH1D> object at 0x55acbe119da0>,\n",
       "  <cppyy.gbl.ROOT.RDF.RResultPtr<TH1D> object at 0x55acc23fb180>],\n",
       " [<cppyy.gbl.ROOT.RDF.RResultPtr<TH1D> object at 0x55acc0c834a0>,\n",
       "  <cppyy.gbl.ROOT.RDF.RResultPtr<TH1D> object at 0x55acbd3c6090>,\n",
       "  <cppyy.gbl.ROOT.RDF.RResultPtr<TH1D> object at 0x55acbd33e0a0>,\n",
       "  <cppyy.gbl.ROOT.RDF.RResultPtr<TH1D> object at 0x55acbd048980>,\n",
       "  <cppyy.gbl.ROOT.RDF.RResultPtr<TH1D> object at 0x55acbac20290>,\n",
       "  <cppyy.gbl.ROOT.RDF.RResultPtr<TH1D> object at 0x55acbd2c7f90>],\n",
       " [<cppyy.gbl.ROOT.RDF.RResultPtr<TH1D> object at 0x55acbdb2c1f0>,\n",
       "  <cppyy.gbl.ROOT.RDF.RResultPtr<TH1D> object at 0x55acbd314580>,\n",
       "  <cppyy.gbl.ROOT.RDF.RResultPtr<TH1D> object at 0x55acbd2ed180>,\n",
       "  <cppyy.gbl.ROOT.RDF.RResultPtr<TH1D> object at 0x55acbd489580>,\n",
       "  <cppyy.gbl.ROOT.RDF.RResultPtr<TH1D> object at 0x55acbd052070>,\n",
       "  <cppyy.gbl.ROOT.RDF.RResultPtr<TH1D> object at 0x55acbd1f52b0>],\n",
       " [<cppyy.gbl.ROOT.RDF.RResultPtr<TH1D> object at 0x55acbff84040>,\n",
       "  <cppyy.gbl.ROOT.RDF.RResultPtr<TH1D> object at 0x55acbd315a40>,\n",
       "  <cppyy.gbl.ROOT.RDF.RResultPtr<TH1D> object at 0x55acc05a2aa0>,\n",
       "  <cppyy.gbl.ROOT.RDF.RResultPtr<TH1D> object at 0x55acbdb663b0>,\n",
       "  <cppyy.gbl.ROOT.RDF.RResultPtr<TH1D> object at 0x55acbd2c54f0>,\n",
       "  <cppyy.gbl.ROOT.RDF.RResultPtr<TH1D> object at 0x55acbcfe1700>],\n",
       " [<cppyy.gbl.ROOT.RDF.RResultPtr<TH1D> object at 0x55acc01b2c10>,\n",
       "  <cppyy.gbl.ROOT.RDF.RResultPtr<TH1D> object at 0x55acbe0fffd0>,\n",
       "  <cppyy.gbl.ROOT.RDF.RResultPtr<TH1D> object at 0x55acbff7ac30>,\n",
       "  <cppyy.gbl.ROOT.RDF.RResultPtr<TH1D> object at 0x55acbd4d35a0>,\n",
       "  <cppyy.gbl.ROOT.RDF.RResultPtr<TH1D> object at 0x55acbd1ef6d0>,\n",
       "  <cppyy.gbl.ROOT.RDF.RResultPtr<TH1D> object at 0x55acbd2ee010>],\n",
       " [<cppyy.gbl.ROOT.RDF.RResultPtr<TH1D> object at 0x55acb8abf9b0>,\n",
       "  <cppyy.gbl.ROOT.RDF.RResultPtr<TH1D> object at 0x55acc0c7d970>,\n",
       "  <cppyy.gbl.ROOT.RDF.RResultPtr<TH1D> object at 0x55acbdc51390>,\n",
       "  <cppyy.gbl.ROOT.RDF.RResultPtr<TH1D> object at 0x55acb67a7ff0>,\n",
       "  <cppyy.gbl.ROOT.RDF.RResultPtr<TH1D> object at 0x55acc04e91a0>,\n",
       "  <cppyy.gbl.ROOT.RDF.RResultPtr<TH1D> object at 0x55acbdc65930>],\n",
       " [<cppyy.gbl.ROOT.RDF.RResultPtr<TH1D> object at 0x55acbdc4ae80>,\n",
       "  <cppyy.gbl.ROOT.RDF.RResultPtr<TH1D> object at 0x55acbdbbc6c0>,\n",
       "  <cppyy.gbl.ROOT.RDF.RResultPtr<TH1D> object at 0x55acbacf28c0>,\n",
       "  <cppyy.gbl.ROOT.RDF.RResultPtr<TH1D> object at 0x55acbdc52000>,\n",
       "  <cppyy.gbl.ROOT.RDF.RResultPtr<TH1D> object at 0x55acbe147f00>,\n",
       "  <cppyy.gbl.ROOT.RDF.RResultPtr<TH1D> object at 0x55acc0bf0870>],\n",
       " [<cppyy.gbl.ROOT.RDF.RResultPtr<TH1D> object at 0x55acbdc383e0>,\n",
       "  <cppyy.gbl.ROOT.RDF.RResultPtr<TH1D> object at 0x55acbdc5b440>,\n",
       "  <cppyy.gbl.ROOT.RDF.RResultPtr<TH1D> object at 0x55acbdc345b0>,\n",
       "  <cppyy.gbl.ROOT.RDF.RResultPtr<TH1D> object at 0x55acbda8d8d0>,\n",
       "  <cppyy.gbl.ROOT.RDF.RResultPtr<TH1D> object at 0x55acc0977570>,\n",
       "  <cppyy.gbl.ROOT.RDF.RResultPtr<TH1D> object at 0x55acc076cb80>]]"
      ]
     },
     "execution_count": 3,
     "metadata": {},
     "output_type": "execute_result"
    }
   ],
   "source": [
    "%run ./toolkit/kin_tools.ipynb\n",
    "\n",
    "create_kin_plots(rootdir_data = \"/volatile/clas12/users/gmat/clas12analysis.sidis.data/rgc/sidisdvcs/test8.3.2/\",\n",
    "                     rootdir_MC = \"/volatile/clas12/users/gmat/clas12analysis.sidis.data/rgc/MC/test2/merged_run.root\",\n",
    "                     target = \"ND3\",\n",
    "                     runMin = 17227,\n",
    "                     runMax = 18000,\n",
    "                     runList = [],\n",
    "                     plotList = [\"x\",\"y\",\"Q2\",\"W\",\n",
    "                                \"Ee\",\"thetae\",\"phie\",\"vze\"],\n",
    "                     outdir = \"nd3_collab_nov\",\n",
    "                     cuts = [\"p_e > 2.6 && th_e > 0.14 && th_e < 0.611 && abs(vz_e+4.5) < 4\"])\n",
    "                     #cuts=[])"
   ]
  },
  {
   "cell_type": "code",
   "execution_count": 6,
   "id": "handy-drill",
   "metadata": {},
   "outputs": [
    {
     "name": "stdout",
     "output_type": "stream",
     "text": [
      "Directory 'plots/kin/sept13_inclusive' already exists...Continuing...\n",
      "x_{B} 0.24112658294817704\n",
      "y 0.5482694892769704\n",
      "Q^{2} [GeV^{2}] 2.6026334380321647\n",
      "W [GeV] 2.985664226941011\n",
      "E(e') [GeV] 4.775216545659036\n",
      "#theta(e') 13.294026865253032\n",
      "#phi(e') -8.864441585488452\n",
      "Vertex z(e') [cm] -4.177359954465644\n",
      "D(y) 0.6534269979158429\n",
      "x 0.24112658294817704\n"
     ]
    }
   ],
   "source": [
    "%run ./toolkit/kin_tools.ipynb\n",
    "\n",
    "create_kin_plots(rootdir_data = \"/volatile/clas12/users/gmat/clas12analysis.sidis.data/rgc-su-train/sept11/\",\n",
    "                     rootdir_MC = \"\",\n",
    "                     target = \"ND3\",\n",
    "                     runMin = 16889,\n",
    "                     runMax = 16890,\n",
    "                     runList = [],\n",
    "                     plotList = [\"x\",\"y\",\"Q2\",\"W\",\n",
    "                                \"Ee\",\"thetae\",\"phie\",\"vze\",\n",
    "                                \"Dy\",\"Dy:xB\"],\n",
    "                     outdir = \"sept13_inclusive\",\n",
    "                     cuts = [\"p_e > 2.6 && th_e > 0.14 && th_e < 0.611 && abs(vz_e+4.5) < 4\"])"
   ]
  },
  {
   "cell_type": "markdown",
   "id": "about-spring",
   "metadata": {},
   "source": [
    "# Exclusive pi+ pi-\n",
    "---"
   ]
  },
  {
   "cell_type": "code",
   "execution_count": null,
   "id": "animated-tumor",
   "metadata": {},
   "outputs": [],
   "source": [
    "create_kin_plots(rootdir_data = \"/volatile/clas12/users/gmat/clas12analysis.sidis.data/rgc/sidisdvcs/exclusive_pipiproton_test8.3.2/\",\n",
    "                     rootdir_MC = \"\",\n",
    "                     target = \"NH3\",\n",
    "                     runMin = 16700,\n",
    "                     runMax = 16771,\n",
    "                     runList = [],\n",
    "                     plotList = [\"x\",\"y\",\"Q2\",\"W\",\n",
    "                                 \"Mmiss\",\"Ptmiss\",\"thetap_predict\",\"pte\",\n",
    "                                 \"Ee\",\"thetae\",\"phie\",\"p_e:theta_e\",\n",
    "                                 \"Pp\",\"thetap\",\"phip\",\"p_p:theta_p\",\n",
    "                                 \"vze\",\"vzp\"],\n",
    "                     outdir = \"test\")"
   ]
  }
 ],
 "metadata": {
  "kernelspec": {
   "display_name": "Python 3",
   "language": "python",
   "name": "python3"
  },
  "language_info": {
   "codemirror_mode": {
    "name": "ipython",
    "version": 3
   },
   "file_extension": ".py",
   "mimetype": "text/x-python",
   "name": "python",
   "nbconvert_exporter": "python",
   "pygments_lexer": "ipython3",
   "version": "3.8.6"
  }
 },
 "nbformat": 4,
 "nbformat_minor": 5
}
