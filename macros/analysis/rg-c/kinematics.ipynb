{
 "cells": [
  {
   "cell_type": "code",
   "execution_count": 1,
   "id": "cultural-separate",
   "metadata": {},
   "outputs": [
    {
     "name": "stdout",
     "output_type": "stream",
     "text": [
      "Welcome to JupyROOT 6.22/06\n"
     ]
    }
   ],
   "source": [
    "import ROOT\n",
    "%run ./toolkit/kin_tools.ipynb"
   ]
  },
  {
   "cell_type": "code",
   "execution_count": 3,
   "id": "infectious-watershed",
   "metadata": {},
   "outputs": [
    {
     "name": "stdout",
     "output_type": "stream",
     "text": [
      "['x', 'y', 'Q2', 'W', 'Mmiss', 'Ptmiss', 'Ee', 'Pp', 'Epiplus', 'thetae', 'thetap', 'thetap_predict', 'phie', 'phip', 'vze', 'vzp', 'pte', 'p_e:theta_e', 'p_p:theta_p', 'Dy', 'Dy:xB']\n"
     ]
    }
   ],
   "source": [
    "print(draw_options())"
   ]
  },
  {
   "cell_type": "markdown",
   "id": "welsh-progress",
   "metadata": {},
   "source": [
    "# Elastic Scattering Data\n",
    "---\n",
    "From the gmn train"
   ]
  },
  {
   "cell_type": "code",
   "execution_count": 18,
   "id": "mysterious-right",
   "metadata": {},
   "outputs": [
    {
     "name": "stdout",
     "output_type": "stream",
     "text": [
      "Directory 'plots/kin/sept1_elastic' already exists...Continuing...\n"
     ]
    }
   ],
   "source": [
    "create_kin_plots(rootdir_data = \"/volatile/clas12/users/gmat/clas12analysis.sidis.data/rgc-su-train/sept1_elastic/\",\n",
    "                     rootdir_MC = \"\",\n",
    "                     target = \"NH3\",\n",
    "                     runMin = 16700,\n",
    "                     runMax = 16771,\n",
    "                     runList = [],\n",
    "                     plotList = [\"x\",\"y\",\"Q2\",\"W\",\n",
    "                                 \"Mmiss\",\"Ptmiss\",\"thetap_predict\",\"pte\",\n",
    "                                 \"Ee\",\"thetae\",\"phie\",\"p_e:theta_e\",\n",
    "                                 \"Pp\",\"thetap\",\"phip\",\"p_p:theta_p\",\n",
    "                                 \"vze\",\"vzp\"],\n",
    "                     outdir = \"sept1_elastic\")"
   ]
  },
  {
   "cell_type": "markdown",
   "id": "sacred-return",
   "metadata": {},
   "source": [
    "With exclusive cuts placed"
   ]
  },
  {
   "cell_type": "code",
   "execution_count": 19,
   "id": "described-belarus",
   "metadata": {},
   "outputs": [
    {
     "name": "stdout",
     "output_type": "stream",
     "text": [
      "Creating directory 'plots/kin/sept1_elastic_cuts'\n"
     ]
    }
   ],
   "source": [
    "create_kin_plots(rootdir_data = \"/volatile/clas12/users/gmat/clas12analysis.sidis.data/rgc-su-train/sept1_elastic/\",\n",
    "                     rootdir_MC = \"\",\n",
    "                     target = \"NH3\",\n",
    "                     runMin = 16700,\n",
    "                     runMax = 16771,\n",
    "                     runList = [],\n",
    "                     plotList = [\"x\",\"y\",\"Q2\",\"W\",\n",
    "                                 \"Mmiss\",\"Ptmiss\",\"thetap_predict\",\"pte\",\n",
    "                                 \"Ee\",\"thetae\",\"phie\",\"p_e:theta_e\",\n",
    "                                 \"Pp\",\"thetap\",\"phip\",\"p_p:theta_p\",\n",
    "                                 \"vze\",\"vzp\"],\n",
    "                     outdir = \"sept1_elastic_cuts\",\n",
    "                     #cuts = [\"W > 0.84 && W < 1.02\",\"abs(Ptmiss)<0.05\",\"abs(th_p_predict*180/3.1415)<1.1\"])\n",
    "                     cuts = [\"W > 0.84 && W < 1.02\",\"abs(Ptmiss)<0.05\",\"abs(th_p_predict*180/3.1415)<1.1\"])"
   ]
  },
  {
   "cell_type": "markdown",
   "id": "necessary-yukon",
   "metadata": {},
   "source": [
    "# Inclusive Scattering Data\n",
    "---"
   ]
  },
  {
   "cell_type": "code",
   "execution_count": 2,
   "id": "blond-sitting",
   "metadata": {},
   "outputs": [
    {
     "name": "stdout",
     "output_type": "stream",
     "text": [
      "Creating directory 'plots/kin/sept13_inclusive'\n",
      "ERROR: get_files() found a **MONTECARLO** .root file without a tree_reco...skipping...\n"
     ]
    },
    {
     "ename": "KeyboardInterrupt",
     "evalue": "",
     "output_type": "error",
     "traceback": [
      "\u001b[0;31m---------------------------------------------------------------------------\u001b[0m",
      "\u001b[0;31mKeyboardInterrupt\u001b[0m                         Traceback (most recent call last)",
      "\u001b[0;32m<ipython-input-2-1071da02d3d2>\u001b[0m in \u001b[0;36m<module>\u001b[0;34m\u001b[0m\n\u001b[1;32m      1\u001b[0m \u001b[0mget_ipython\u001b[0m\u001b[0;34m(\u001b[0m\u001b[0;34m)\u001b[0m\u001b[0;34m.\u001b[0m\u001b[0mrun_line_magic\u001b[0m\u001b[0;34m(\u001b[0m\u001b[0;34m'run'\u001b[0m\u001b[0;34m,\u001b[0m \u001b[0;34m'./toolkit/kin_tools.ipynb'\u001b[0m\u001b[0;34m)\u001b[0m\u001b[0;34m\u001b[0m\u001b[0;34m\u001b[0m\u001b[0m\n\u001b[1;32m      2\u001b[0m \u001b[0;34m\u001b[0m\u001b[0m\n\u001b[0;32m----> 3\u001b[0;31m create_kin_plots(rootdir_data = \"/volatile/clas12/users/gmat/clas12analysis.sidis.data/rgc-su-train/sept1_inclusive/\",\n\u001b[0m\u001b[1;32m      4\u001b[0m                      \u001b[0mrootdir_MC\u001b[0m \u001b[0;34m=\u001b[0m \u001b[0;34m\"/volatile/clas12/users/gmat/clas12analysis.sidis.data/rgc-mc/sept1_mc_inclusive/sept1_mc_inclusive_*_proton_*.root\"\u001b[0m\u001b[0;34m,\u001b[0m\u001b[0;34m\u001b[0m\u001b[0;34m\u001b[0m\u001b[0m\n\u001b[1;32m      5\u001b[0m                      \u001b[0mtarget\u001b[0m \u001b[0;34m=\u001b[0m \u001b[0;34m\"NH3\"\u001b[0m\u001b[0;34m,\u001b[0m\u001b[0;34m\u001b[0m\u001b[0;34m\u001b[0m\u001b[0m\n",
      "\u001b[0;32m<ipython-input-2-f14206204d7d>\u001b[0m in \u001b[0;36mcreate_kin_plots\u001b[0;34m(rootdir_data, rootdir_MC, target, runMin, runMax, runList, plotList, outdir, cuts)\u001b[0m\n\u001b[1;32m     28\u001b[0m     \u001b[0;31m# Obtain path to all .root files for analysis\u001b[0m\u001b[0;34m\u001b[0m\u001b[0;34m\u001b[0m\u001b[0;34m\u001b[0m\u001b[0m\n\u001b[1;32m     29\u001b[0m     \u001b[0mfiles_data\u001b[0m \u001b[0;34m=\u001b[0m \u001b[0mget_files\u001b[0m\u001b[0;34m(\u001b[0m\u001b[0mrootdir_data\u001b[0m\u001b[0;34m,\u001b[0m \u001b[0mtarget\u001b[0m\u001b[0;34m,\u001b[0m \u001b[0mrunMin\u001b[0m\u001b[0;34m,\u001b[0m \u001b[0mrunMax\u001b[0m\u001b[0;34m,\u001b[0m \u001b[0mrunList\u001b[0m\u001b[0;34m,\u001b[0m \u001b[0;32mTrue\u001b[0m\u001b[0;34m,\u001b[0m \u001b[0mmonteCarlo\u001b[0m \u001b[0;34m=\u001b[0m \u001b[0;32mFalse\u001b[0m\u001b[0;34m)\u001b[0m\u001b[0;34m\u001b[0m\u001b[0;34m\u001b[0m\u001b[0m\n\u001b[0;32m---> 30\u001b[0;31m     \u001b[0mfiles_MC\u001b[0m \u001b[0;34m=\u001b[0m \u001b[0mget_files\u001b[0m\u001b[0;34m(\u001b[0m\u001b[0mrootdir_MC\u001b[0m\u001b[0;34m,\u001b[0m \u001b[0mtarget\u001b[0m\u001b[0;34m,\u001b[0m \u001b[0mrunMin\u001b[0m\u001b[0;34m,\u001b[0m \u001b[0mrunMax\u001b[0m\u001b[0;34m,\u001b[0m \u001b[0mrunList\u001b[0m\u001b[0;34m,\u001b[0m \u001b[0;32mTrue\u001b[0m\u001b[0;34m,\u001b[0m \u001b[0mmonteCarlo\u001b[0m \u001b[0;34m=\u001b[0m \u001b[0;32mTrue\u001b[0m\u001b[0;34m)\u001b[0m\u001b[0;34m\u001b[0m\u001b[0;34m\u001b[0m\u001b[0m\n\u001b[0m\u001b[1;32m     31\u001b[0m     \u001b[0;32mif\u001b[0m\u001b[0;34m(\u001b[0m\u001b[0mfiles_data\u001b[0m\u001b[0;34m==\u001b[0m\u001b[0;34m[\u001b[0m\u001b[0;34m]\u001b[0m \u001b[0;32mand\u001b[0m \u001b[0mrootdir_data\u001b[0m\u001b[0;34m!=\u001b[0m\u001b[0;34m\"\"\u001b[0m\u001b[0;34m)\u001b[0m\u001b[0;34m:\u001b[0m\u001b[0;34m\u001b[0m\u001b[0;34m\u001b[0m\u001b[0m\n\u001b[1;32m     32\u001b[0m         \u001b[0mprint\u001b[0m\u001b[0;34m(\u001b[0m\u001b[0;34m\"ERROR: create_kin_plots() could not find any data files...Aborting...\"\u001b[0m\u001b[0;34m)\u001b[0m\u001b[0;34m\u001b[0m\u001b[0;34m\u001b[0m\u001b[0m\n",
      "\u001b[0;32m<ipython-input-2-c03ed7608ee6>\u001b[0m in \u001b[0;36mget_files\u001b[0;34m(rootdir, target, runMin, runMax, runList, consecutive, monteCarlo)\u001b[0m\n\u001b[1;32m     23\u001b[0m     \u001b[0;32mif\u001b[0m\u001b[0;34m(\u001b[0m\u001b[0mmonteCarlo\u001b[0m\u001b[0;34m==\u001b[0m\u001b[0;32mTrue\u001b[0m\u001b[0;34m)\u001b[0m\u001b[0;34m:\u001b[0m\u001b[0;34m\u001b[0m\u001b[0;34m\u001b[0m\u001b[0m\n\u001b[1;32m     24\u001b[0m         \u001b[0;32mfor\u001b[0m \u001b[0mpath\u001b[0m \u001b[0;32min\u001b[0m \u001b[0mglob\u001b[0m\u001b[0;34m.\u001b[0m\u001b[0mglob\u001b[0m\u001b[0;34m(\u001b[0m\u001b[0mrootdir\u001b[0m\u001b[0;34m)\u001b[0m\u001b[0;34m:\u001b[0m\u001b[0;34m\u001b[0m\u001b[0;34m\u001b[0m\u001b[0m\n\u001b[0;32m---> 25\u001b[0;31m             \u001b[0mtfile\u001b[0m \u001b[0;34m=\u001b[0m \u001b[0mROOT\u001b[0m\u001b[0;34m.\u001b[0m\u001b[0mTFile\u001b[0m\u001b[0;34m(\u001b[0m\u001b[0mstr\u001b[0m\u001b[0;34m(\u001b[0m\u001b[0mpath\u001b[0m\u001b[0;34m)\u001b[0m\u001b[0;34m,\u001b[0m\u001b[0;34m\"READ\"\u001b[0m\u001b[0;34m)\u001b[0m\u001b[0;34m\u001b[0m\u001b[0;34m\u001b[0m\u001b[0m\n\u001b[0m\u001b[1;32m     26\u001b[0m             \u001b[0;32mif\u001b[0m\u001b[0;34m(\u001b[0m\u001b[0mtfile\u001b[0m\u001b[0;34m.\u001b[0m\u001b[0mGetListOfKeys\u001b[0m\u001b[0;34m(\u001b[0m\u001b[0;34m)\u001b[0m\u001b[0;34m.\u001b[0m\u001b[0mContains\u001b[0m\u001b[0;34m(\u001b[0m\u001b[0;34m\"tree_postprocess\"\u001b[0m\u001b[0;34m)\u001b[0m\u001b[0;34m)\u001b[0m\u001b[0;34m:\u001b[0m\u001b[0;34m\u001b[0m\u001b[0;34m\u001b[0m\u001b[0m\n\u001b[1;32m     27\u001b[0m                 \u001b[0mfiles\u001b[0m\u001b[0;34m.\u001b[0m\u001b[0mappend\u001b[0m\u001b[0;34m(\u001b[0m\u001b[0mstr\u001b[0m\u001b[0;34m(\u001b[0m\u001b[0mpath\u001b[0m\u001b[0;34m)\u001b[0m\u001b[0;34m)\u001b[0m\u001b[0;34m\u001b[0m\u001b[0;34m\u001b[0m\u001b[0m\n",
      "\u001b[0;31mKeyboardInterrupt\u001b[0m: "
     ]
    }
   ],
   "source": [
    "%run ./toolkit/kin_tools.ipynb\n",
    "\n",
    "create_kin_plots(rootdir_data = \"/volatile/clas12/users/gmat/clas12analysis.sidis.data/rgc-su-train/sept1_inclusive/\",\n",
    "                     rootdir_MC = \"/volatile/clas12/users/gmat/clas12analysis.sidis.data/rgc-mc/sept1_mc_inclusive/sept1_mc_inclusive_*_proton_*.root\",\n",
    "                     target = \"NH3\",\n",
    "                     runMin = 16889,\n",
    "                     runMax = 16890,\n",
    "                     runList = [],\n",
    "                     plotList = [\"x\",\"y\",\"Q2\",\"W\",\n",
    "                                \"Ee\",\"thetae\",\"phie\",\"vze\",\n",
    "                                \"Dy\",\"Dy:xB\"],\n",
    "                     outdir = \"sept13_inclusive\",\n",
    "                     cuts = [\"p_e > 2.6 && th_e > 0.14 && th_e < 0.611 && abs(vz_e+4.5) < 4\"])"
   ]
  },
  {
   "cell_type": "code",
   "execution_count": 6,
   "id": "sound-tribe",
   "metadata": {},
   "outputs": [
    {
     "name": "stdout",
     "output_type": "stream",
     "text": [
      "Directory 'plots/kin/sept13_inclusive' already exists...Continuing...\n",
      "x_{B} 0.24112658294817704\n",
      "y 0.5482694892769704\n",
      "Q^{2} [GeV^{2}] 2.6026334380321647\n",
      "W [GeV] 2.985664226941011\n",
      "E(e') [GeV] 4.775216545659036\n",
      "#theta(e') 13.294026865253032\n",
      "#phi(e') -8.864441585488452\n",
      "Vertex z(e') [cm] -4.177359954465644\n",
      "D(y) 0.6534269979158429\n",
      "x 0.24112658294817704\n"
     ]
    }
   ],
   "source": [
    "%run ./toolkit/kin_tools.ipynb\n",
    "\n",
    "create_kin_plots(rootdir_data = \"/volatile/clas12/users/gmat/clas12analysis.sidis.data/rgc-su-train/sept11/\",\n",
    "                     rootdir_MC = \"\",\n",
    "                     target = \"ND3\",\n",
    "                     runMin = 16889,\n",
    "                     runMax = 16890,\n",
    "                     runList = [],\n",
    "                     plotList = [\"x\",\"y\",\"Q2\",\"W\",\n",
    "                                \"Ee\",\"thetae\",\"phie\",\"vze\",\n",
    "                                \"Dy\",\"Dy:xB\"],\n",
    "                     outdir = \"sept13_inclusive\",\n",
    "                     cuts = [\"p_e > 2.6 && th_e > 0.14 && th_e < 0.611 && abs(vz_e+4.5) < 4\"])"
   ]
  },
  {
   "cell_type": "code",
   "execution_count": null,
   "id": "according-minnesota",
   "metadata": {},
   "outputs": [],
   "source": []
  }
 ],
 "metadata": {
  "kernelspec": {
   "display_name": "Python 3",
   "language": "python",
   "name": "python3"
  },
  "language_info": {
   "codemirror_mode": {
    "name": "ipython",
    "version": 3
   },
   "file_extension": ".py",
   "mimetype": "text/x-python",
   "name": "python",
   "nbconvert_exporter": "python",
   "pygments_lexer": "ipython3",
   "version": "3.8.6"
  }
 },
 "nbformat": 4,
 "nbformat_minor": 5
}
