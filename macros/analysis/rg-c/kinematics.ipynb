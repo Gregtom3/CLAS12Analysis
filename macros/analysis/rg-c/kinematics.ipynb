{
 "cells": [
  {
   "cell_type": "code",
   "execution_count": 52,
   "id": "broke-while",
   "metadata": {},
   "outputs": [],
   "source": [
    "import ROOT\n",
    "%run ./toolkit/kin_tools.ipynb"
   ]
  },
  {
   "cell_type": "code",
   "execution_count": 53,
   "id": "valued-ending",
   "metadata": {},
   "outputs": [
    {
     "name": "stdout",
     "output_type": "stream",
     "text": [
      "Directory 'plots/kin/aug25' already exists...Continuing...\n",
      "ERROR: get_files() found a **MONTECARLO** .root file without a tree_reco...skipping...\n"
     ]
    }
   ],
   "source": [
    "create_kin_plots(rootdir_data = \"/volatile/clas12/users/gmat/clas12analysis.sidis.data/rgc-su-train/aug22_piplus/\",\n",
    "                     rootdir_MC = \"/volatile/clas12/users/gmat/clas12analysis.sidis.data/rgc-mc/aug23_elastic/aug23_elastic_plus_proton_*.root\",\n",
    "                     target = \"NH3\",\n",
    "                     runMin = 16327,\n",
    "                     runMax = 16330,\n",
    "                     runList = [],\n",
    "                     plotList = [\"x\",\"y\",\"Q2\",\"W\",\"Ee\",\"thetae\",\"phie\",\"p:theta\"],\n",
    "                     outdir = \"aug25\")"
   ]
  },
  {
   "cell_type": "code",
   "execution_count": null,
   "id": "coated-wheat",
   "metadata": {},
   "outputs": [],
   "source": []
  }
 ],
 "metadata": {
  "kernelspec": {
   "display_name": "Python 3",
   "language": "python",
   "name": "python3"
  },
  "language_info": {
   "codemirror_mode": {
    "name": "ipython",
    "version": 3
   },
   "file_extension": ".py",
   "mimetype": "text/x-python",
   "name": "python",
   "nbconvert_exporter": "python",
   "pygments_lexer": "ipython3",
   "version": "3.8.6"
  }
 },
 "nbformat": 4,
 "nbformat_minor": 5
}
