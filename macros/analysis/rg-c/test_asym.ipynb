{
 "cells": [
  {
   "cell_type": "code",
   "execution_count": 1,
   "id": "medium-drink",
   "metadata": {},
   "outputs": [
    {
     "name": "stdout",
     "output_type": "stream",
     "text": [
      "Welcome to JupyROOT 6.22/06\n"
     ]
    }
   ],
   "source": [
    "import ROOT\n",
    "import sys\n",
    "from pathlib import Path\n",
    "sys.path.append(\"/work/clas12/users/gmat/packages/clas12root/rcdb/python/\")\n",
    "\n",
    "import rcdb\n",
    "from rcdb.provider import RCDBProvider\n",
    "from rcdb.model import ConditionType\n",
    "\n",
    "c = ROOT.TCanvas(\"c\",\"c\",1100,800)"
   ]
  },
  {
   "cell_type": "markdown",
   "id": "fifteen-knight",
   "metadata": {},
   "source": [
    "Directory containing analyzed .root files"
   ]
  },
  {
   "cell_type": "code",
   "execution_count": 2,
   "id": "limiting-alpha",
   "metadata": {},
   "outputs": [],
   "source": [
    "filedir = \"/volatile/clas12/users/gmat/clas12analysis.sidis.data/rgc-su-train/aug18/\"\n",
    "files = []\n",
    "for path in Path(filedir).glob(\"*.*\"):\n",
    "    files.append(str(path))"
   ]
  },
  {
   "cell_type": "markdown",
   "id": "african-circular",
   "metadata": {},
   "source": [
    "Read in the CLAS RCDB"
   ]
  },
  {
   "cell_type": "code",
   "execution_count": 3,
   "id": "educational-excellence",
   "metadata": {},
   "outputs": [],
   "source": [
    "db = RCDBProvider(\"mysql://rcdb@clasdb/rcdb\")"
   ]
  },
  {
   "cell_type": "markdown",
   "id": "breathing-sheffield",
   "metadata": {},
   "source": [
    "Pull RCDB information from the runs\n",
    "\n",
    "Store them in arrays for the files"
   ]
  },
  {
   "cell_type": "code",
   "execution_count": 40,
   "id": "virtual-graphic",
   "metadata": {},
   "outputs": [
    {
     "name": "stdout",
     "output_type": "stream",
     "text": [
      "Run #   |Tpol (NMR)  |HWP(in 0 out 1) |Target\n",
      "------------------------------------\n",
      "16414   |0.353051    |0               |ND3  \n",
      "16473   |-0.390458   |0               |ND3  \n",
      "16626   |-0.407418   |1               |ND3  \n",
      "16482   |-0.486996   |0               |ND3  \n",
      "16421   |0.390059    |0               |ND3  \n",
      "16615   |-0.205105   |0               |ND3  \n",
      "16630   |-0.43593    |1               |ND3  \n",
      "16403   |0.19089     |1               |ND3  \n",
      "16620   |-0.397436   |0               |ND3  \n",
      "16291   |-0.00276352 |1               |C    \n",
      "16425   |0.395745    |0               |ND3  \n",
      "16281   |0.0603312   |0               |ND3  \n",
      "16329   |0.604812    |1               |NH3  \n",
      "16407   |0.294305    |1               |ND3  \n",
      "16460   |-0.337236   |1               |ND3  \n",
      "16286   |0.0685282   |1               |ND3  \n",
      "16401   |0.163199    |1               |ND3  \n",
      "16292   |-0.00276352 |1               |C    \n",
      "16618   |-0.370347   |0               |ND3  \n",
      "16280   |0.0614436   |0               |ND3  \n",
      "16424   |0.391009    |0               |ND3  \n",
      "16330   |0.602334    |1               |NH3  \n",
      "16406   |-0.00366245 |1               |ND3  \n",
      "16285   |0.0592744   |1               |ND3  \n",
      "16455   |-0.327199   |1               |ND3  \n",
      "16412   |0.345151    |0               |ND3  \n",
      "16468   |-0.317132   |1               |ND3  \n",
      "16627   |-0.416777   |1               |ND3  \n",
      "16475   |-0.417837   |0               |ND3  \n",
      "16419   |0.365932    |0               |ND3  \n",
      "16489   |-0.430505   |1               |ND3  \n",
      "16337   |-0.526338   |1               |NH3  \n",
      "16290   |0.0378987   |1               |12C  \n",
      "16422   |0.384794    |0               |ND3  \n",
      "16426   |0.401926    |0               |ND3  \n",
      "16277   |0.083465    |0               |ND3  \n",
      "16328   |0.607697    |1               |NH3  \n",
      "16404   |0.23147     |1               |ND3  \n",
      "16461   |-0.342686   |1               |ND3  \n",
      "16283   |0.0648128   |1               |ND3  \n",
      "16410   |0.348754    |0               |ND3  \n",
      "16287   |0.0705322   |1               |ND3  \n",
      "16408   |0.305884    |1               |ND3  \n",
      "16629   |-0.435306   |1               |ND3  \n",
      "16483   |-0.432714   |0               |ND3  \n",
      "16336   |-0.520984   |1               |NH3  \n",
      "16415   |0.372877    |0               |ND3  \n",
      "16616   |-0.304318   |0               |ND3  \n",
      "16411   |0.359218    |0               |ND3  \n",
      "16288   |0.0767131   |1               |ND3  \n",
      "16628   |-0.435259   |1               |ND3  \n",
      "16409   |0.315429    |1               |ND3  \n",
      "16335   |-0.500934   |1               |NH3  \n",
      "16484   |-0.407541   |0               |ND3  \n",
      "16416   |0.358349    |0               |ND3  \n",
      "16617   |-0.338102   |0               |ND3  \n",
      "16338   |-0.533529   |1               |NH3  \n",
      "16289   |0.0759945   |1               |ND3  \n",
      "16423   |0.386834    |0               |ND3  \n",
      "16279   |0.0234357   |0               |ND3  \n",
      "16432   |0.386775    |0               |ND3  \n",
      "16327   |0.615399    |1               |NH3  \n",
      "16405   |0.266473    |1               |ND3  \n",
      "16284   |0.0660203   |1               |ND3  \n",
      "16467   |-0.272752   |1               |ND3  \n"
     ]
    }
   ],
   "source": [
    "runNumberArr = []\n",
    "TpolArr = []\n",
    "HWPArr = []\n",
    "targetArr = []\n",
    "\n",
    "print(\"{0:<8}|{1: <12}|{2:<16}|{3: <5}\".format(\"Run #\",\"Tpol (NMR)\",\"HWP(in 0 out 1)\",\"Target\"))\n",
    "print(\"------------------------------------\")\n",
    "for file in files:\n",
    "    f = ROOT.TFile(file,\"READ\")\n",
    "    t = f.Get(\"tree_reco\")\n",
    "    for iev in t:\n",
    "        # Get run from TTree\n",
    "        runNumber = iev.run\n",
    "        # Get run from database\n",
    "        run = db.get_run(runNumber)\n",
    "        # Setup conditions from database\n",
    "        target_pol_cnd = run.get_condition('target_polarization')\n",
    "        hwp_cnd = run.get_condition('half_wave_plate')\n",
    "        target_cnd = run.get_condition('target')\n",
    "        # Print values\n",
    "        print(\"{0:<8}|{1: <12}|{2:<16}|{3: <5}\".format(int(runNumber),target_pol_cnd.value,hwp_cnd.value,target_cnd.value))\n",
    "        # Save the run-by-run info\n",
    "        runNumberArr.append(runNumber)\n",
    "        TpolArr.append(target_pol_cnd.value)\n",
    "        HWPArr.append(hwp_cnd.value)\n",
    "        targetArr.append(target_cnd.value)\n",
    "        break\n",
    "    f.Close()"
   ]
  },
  {
   "cell_type": "markdown",
   "id": "shaped-equity",
   "metadata": {},
   "source": [
    "files"
   ]
  },
  {
   "cell_type": "code",
   "execution_count": null,
   "id": "natural-affairs",
   "metadata": {},
   "outputs": [],
   "source": []
  }
 ],
 "metadata": {
  "kernelspec": {
   "display_name": "Python 3",
   "language": "python",
   "name": "python3"
  },
  "language_info": {
   "codemirror_mode": {
    "name": "ipython",
    "version": 3
   },
   "file_extension": ".py",
   "mimetype": "text/x-python",
   "name": "python",
   "nbconvert_exporter": "python",
   "pygments_lexer": "ipython3",
   "version": "3.8.6"
  }
 },
 "nbformat": 4,
 "nbformat_minor": 5
}
