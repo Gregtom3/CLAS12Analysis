{
 "cells": [
  {
   "cell_type": "code",
   "execution_count": 1,
   "id": "dimensional-roulette",
   "metadata": {},
   "outputs": [
    {
     "name": "stdout",
     "output_type": "stream",
     "text": [
      "Welcome to JupyROOT 6.22/06\n"
     ]
    }
   ],
   "source": [
    "import ROOT\n",
    "import numpy as np\n",
    "import pandas as pd"
   ]
  },
  {
   "cell_type": "code",
   "execution_count": 3,
   "id": "novel-florida",
   "metadata": {},
   "outputs": [],
   "source": [
    "df = pd.read_csv(\"/volatile/clas12/users/gmat/clas12analysis.sidis.data/rgc-scaler/run16767_HELScaler-all.csv\")"
   ]
  },
  {
   "cell_type": "code",
   "execution_count": 4,
   "id": "acute-planet",
   "metadata": {},
   "outputs": [
    {
     "data": {
      "text/plain": [
       "13012.107546071402"
      ]
     },
     "execution_count": 4,
     "metadata": {},
     "output_type": "execute_result"
    }
   ],
   "source": [
    "df.fcup_33ms.sum()+df.fcup_500us.sum()"
   ]
  },
  {
   "cell_type": "code",
   "execution_count": 11,
   "id": "collaborative-wrong",
   "metadata": {},
   "outputs": [],
   "source": [
    "df=df[(df.clock_33ms>1000) & (df.clockgated>0.001)]"
   ]
  },
  {
   "cell_type": "code",
   "execution_count": 18,
   "id": "resistant-kazakhstan",
   "metadata": {},
   "outputs": [
    {
     "data": {
      "text/plain": [
       "array([33330, 33331])"
      ]
     },
     "execution_count": 18,
     "metadata": {},
     "output_type": "execute_result"
    }
   ],
   "source": [
    "np.unique(df[(df.clock_500us==500)].clock_33ms)"
   ]
  },
  {
   "cell_type": "code",
   "execution_count": 13,
   "id": "prompt-constitutional",
   "metadata": {},
   "outputs": [
    {
     "data": {
      "text/plain": [
       "array([[<AxesSubplot:title={'center':'clock_33ms'}>]], dtype=object)"
      ]
     },
     "execution_count": 13,
     "metadata": {},
     "output_type": "execute_result"
    },
    {
     "data": {
      "image/png": "[encoded data removed]",
      "text/plain": [
       "<Figure size 432x288 with 1 Axes>"
      ]
     },
     "metadata": {
      "needs_background": "light"
     },
     "output_type": "display_data"
    }
   ],
   "source": [
    "df[df.clock_500us==500].hist(\"clock_33ms\",bins=100)"
   ]
  },
  {
   "cell_type": "code",
   "execution_count": null,
   "id": "demonstrated-florist",
   "metadata": {},
   "outputs": [],
   "source": []
  }
 ],
 "metadata": {
  "kernelspec": {
   "display_name": "Python 3",
   "language": "python",
   "name": "python3"
  },
  "language_info": {
   "codemirror_mode": {
    "name": "ipython",
    "version": 3
   },
   "file_extension": ".py",
   "mimetype": "text/x-python",
   "name": "python",
   "nbconvert_exporter": "python",
   "pygments_lexer": "ipython3",
   "version": "3.8.6"
  }
 },
 "nbformat": 4,
 "nbformat_minor": 5
}
