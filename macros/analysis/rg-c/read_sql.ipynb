{
 "cells": [
  {
   "cell_type": "markdown",
   "id": "abstract-playing",
   "metadata": {},
   "source": [
    "In order to import **rcdb** we need to append the folder location of \\__init\\__.py to the PYTHONPATH"
   ]
  },
  {
   "cell_type": "code",
   "execution_count": 1,
   "id": "medieval-polyester",
   "metadata": {},
   "outputs": [
    {
     "name": "stdout",
     "output_type": "stream",
     "text": [
      "Welcome to JupyROOT 6.22/06\n"
     ]
    }
   ],
   "source": [
    "import ROOT\n",
    "import sys\n",
    "sys.path.append(\"/work/clas12/users/gmat/packages/clas12root/rcdb/python/\")\n",
    "\n",
    "import rcdb\n",
    "from rcdb.provider import RCDBProvider\n",
    "from rcdb.model import ConditionType"
   ]
  },
  {
   "cell_type": "markdown",
   "id": "looking-speaker",
   "metadata": {},
   "source": [
    "Load up the database"
   ]
  },
  {
   "cell_type": "code",
   "execution_count": 2,
   "id": "arbitrary-scope",
   "metadata": {},
   "outputs": [],
   "source": [
    "db = RCDBProvider(\"mysql://rcdb@clasdb/rcdb\")"
   ]
  },
  {
   "cell_type": "markdown",
   "id": "relative-persian",
   "metadata": {},
   "source": [
    "Get desired run"
   ]
  },
  {
   "cell_type": "code",
   "execution_count": 3,
   "id": "federal-distribution",
   "metadata": {},
   "outputs": [],
   "source": [
    "runNumber = 16338\n",
    "run = db.get_run(runNumber)"
   ]
  },
  {
   "cell_type": "markdown",
   "id": "duplicate-custom",
   "metadata": {},
   "source": [
    "Get condition object for the target polarization"
   ]
  },
  {
   "cell_type": "code",
   "execution_count": 6,
   "id": "seven-yellow",
   "metadata": {},
   "outputs": [],
   "source": [
    "target_pol_cnd = run.get_condition('target_polarization')"
   ]
  },
  {
   "cell_type": "markdown",
   "id": "external-shooting",
   "metadata": {},
   "source": [
    "Print out the target polarization"
   ]
  },
  {
   "cell_type": "code",
   "execution_count": 7,
   "id": "ready-congress",
   "metadata": {},
   "outputs": [
    {
     "name": "stdout",
     "output_type": "stream",
     "text": [
      "Target Polarization (Run = 16338) is -0.533529\n"
     ]
    }
   ],
   "source": [
    "print(\"Target Polarization (Run = {}) is {}\".format(runNumber,target_pol_cnd.value))"
   ]
  },
  {
   "cell_type": "code",
   "execution_count": 17,
   "id": "generous-thread",
   "metadata": {},
   "outputs": [
    {
     "ename": "NameError",
     "evalue": "name 'df' is not defined",
     "output_type": "error",
     "traceback": [
      "\u001b[0;31m---------------------------------------------------------------------------\u001b[0m",
      "\u001b[0;31mNameError\u001b[0m                                 Traceback (most recent call last)",
      "\u001b[0;32m<ipython-input-17-f315b8181f56>\u001b[0m in \u001b[0;36m<module>\u001b[0;34m\u001b[0m\n\u001b[0;32m----> 1\u001b[0;31m \u001b[0mdf\u001b[0m\u001b[0;34m.\u001b[0m\u001b[0mForeach\u001b[0m\u001b[0;34m(\u001b[0m\u001b[0;34m)\u001b[0m\u001b[0;34m\u001b[0m\u001b[0;34m\u001b[0m\u001b[0m\n\u001b[0m",
      "\u001b[0;31mNameError\u001b[0m: name 'df' is not defined"
     ]
    }
   ],
   "source": []
  },
  {
   "cell_type": "code",
   "execution_count": null,
   "id": "general-eclipse",
   "metadata": {},
   "outputs": [],
   "source": []
  }
 ],
 "metadata": {
  "kernelspec": {
   "display_name": "Python 3",
   "language": "python",
   "name": "python3"
  },
  "language_info": {
   "codemirror_mode": {
    "name": "ipython",
    "version": 3
   },
   "file_extension": ".py",
   "mimetype": "text/x-python",
   "name": "python",
   "nbconvert_exporter": "python",
   "pygments_lexer": "ipython3",
   "version": "3.8.6"
  }
 },
 "nbformat": 4,
 "nbformat_minor": 5
}
