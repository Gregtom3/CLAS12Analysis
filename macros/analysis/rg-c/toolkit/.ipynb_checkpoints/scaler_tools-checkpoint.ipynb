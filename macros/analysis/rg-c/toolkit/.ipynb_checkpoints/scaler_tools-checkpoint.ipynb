{
 "cells": [
  {
   "cell_type": "code",
   "execution_count": 2,
   "id": "looking-advancement",
   "metadata": {},
   "outputs": [
    {
     "name": "stderr",
     "output_type": "stream",
     "text": [
      "Matplotlib created a temporary config/cache directory at /tmp/matplotlib-e3vvqqxi because the default path (/home/jovyan/.cache/matplotlib) is not a writable directory; it is highly recommended to set the MPLCONFIGDIR environment variable to a writable directory, in particular to speed up the import of Matplotlib and to better support multiprocessing.\n"
     ]
    }
   ],
   "source": [
    "import ROOT\n",
    "import matplotlib.pyplot as plt\n",
    "import pandas as pd"
   ]
  },
  {
   "cell_type": "code",
   "execution_count": null,
   "id": "horizontal-sheffield",
   "metadata": {},
   "outputs": [],
   "source": [
    "def get_csv(filepath, run):\n",
    "    return filepath + \"run{}_RUNScaler.csv\".format(run) , filepath + \"run{}_HELScaler.csv\".format(run)"
   ]
  },
  {
   "cell_type": "markdown",
   "id": "graduate-textbook",
   "metadata": {},
   "source": [
    "# MAIN CODE\n",
    "---"
   ]
  },
  {
   "cell_type": "code",
   "execution_count": null,
   "id": "mental-strip",
   "metadata": {},
   "outputs": [],
   "source": [
    "def scaler_ana(filepath = \"\",\n",
    "               run = 0):\n",
    "    # Default filepath\n",
    "    if(filepath==\"\"):\n",
    "        filepath = \"/volatile/clas12/users/gmat/clas12analysis.sidis.data/rgc-scaler/\"\n",
    "        \n",
    "    # Get CSV scalers\n",
    "    csvRUN, csvHEL = get_csv(filepath,run)\n",
    "    "
   ]
  }
 ],
 "metadata": {
  "kernelspec": {
   "display_name": "Python 3",
   "language": "python",
   "name": "python3"
  },
  "language_info": {
   "codemirror_mode": {
    "name": "ipython",
    "version": 3
   },
   "file_extension": ".py",
   "mimetype": "text/x-python",
   "name": "python",
   "nbconvert_exporter": "python",
   "pygments_lexer": "ipython3",
   "version": "3.8.6"
  }
 },
 "nbformat": 4,
 "nbformat_minor": 5
}
