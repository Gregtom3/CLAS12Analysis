{
 "cells": [
  {
   "cell_type": "code",
   "execution_count": null,
   "id": "strange-shepherd",
   "metadata": {},
   "outputs": [],
   "source": [
    "from ROOT import TFile,TTree,TCanvas,TH1F, gStyle, TLatex, gPad, TLegend, TLorentzVector, TH2F, TLine, TF1, TBox, RDataFrame, TPad, TF2\n",
    "import ROOT\n",
    "import numpy as np"
   ]
  },
  {
   "cell_type": "code",
   "execution_count": null,
   "id": "controlling-chambers",
   "metadata": {},
   "outputs": [],
   "source": [
    "gStyle.SetOptStat(0)\n",
    "gStyle.SetHistLineWidth(2)\n",
    "gStyle.SetTitleXSize(0.045)\n",
    "gStyle.SetTitleYSize(0.035)\n",
    "gStyle.SetTitleYOffset(1.2)\n",
    "gStyle.SetPalette(55)\n",
    "gStyle.SetNumberContours(50)\n",
    "\n",
    "latex=TLatex()\n",
    "latex.SetTextSize(0.03)\n",
    "\n",
    "biglatex=TLatex()\n",
    "biglatex.SetTextSize(0.045)\n",
    "\n",
    "smalllatex=TLatex()\n",
    "smalllatex.SetTextSize(0.022)"
   ]
  },
  {
   "cell_type": "markdown",
   "id": "random-conversion",
   "metadata": {},
   "source": [
    "Create an RDataFrame by importing the root files from the analysis"
   ]
  },
  {
   "cell_type": "code",
   "execution_count": null,
   "id": "thousand-subscriber",
   "metadata": {},
   "outputs": [],
   "source": [
    "ROOT.EnableImplicitMT()\n",
    "d = RDataFrame(\"tree_postprocess\", {\"../../../data/fall2018-torus-1-v1-nSidis/may26_*.root\",\n",
    "                                    \"../../../data/fall2018-torus+1-v1-nSidis/may26_*.root\",\n",
    "                                    \"../../../data/spring2019-torus-1-v1-nSidis/may26_*.root\"})"
   ]
  },
  {
   "cell_type": "markdown",
   "id": "identified-preserve",
   "metadata": {},
   "source": [
    "Define cuts"
   ]
  },
  {
   "cell_type": "code",
   "execution_count": null,
   "id": "engaged-dylan",
   "metadata": {},
   "outputs": [],
   "source": [
    "beta_cut = \"abs(beta1-1)< 0.02 && abs(beta2-1) < 0.02\""
   ]
  },
  {
   "cell_type": "markdown",
   "id": "compound-highland",
   "metadata": {},
   "source": [
    "Load up Mdiphoton histogram"
   ]
  },
  {
   "cell_type": "code",
   "execution_count": null,
   "id": "innovative-porter",
   "metadata": {},
   "outputs": [],
   "source": [
    "h = d.Filter(beta_cut).Histo1D((\"h\",\";x;Counts\",1000,0,1),\"x\")\n",
    "hsig = d.Filter(beta_cut + \" && Mdiphoton > 0.108 && Mdiphoton < 0.16\").Histo1D((\"hsig\",\";x;Counts\",1000,0,1),\"x\")\n",
    "hbg = d.Filter(beta_cut + \" && Mdiphoton > 0.17 && Mdiphoton < 0.4\").Histo1D((\"hbg\",\";x;Counts\",1000,0,1),\"x\")\n",
    "helse = d.Filter(beta_cut + \" && (Mdiphoton < 0.108 || Mdiphoton > 0.4)\").Histo1D((\"helse\",\";x;Counts\",1000,0,1),\"x\")"
   ]
  },
  {
   "cell_type": "markdown",
   "id": "featured-chapel",
   "metadata": {},
   "source": [
    "Plot histogram"
   ]
  },
  {
   "cell_type": "code",
   "execution_count": null,
   "id": "competent-fleece",
   "metadata": {},
   "outputs": [],
   "source": [
    "c = TCanvas(\"c\",\"c\",1100,800)\n",
    "h.SetLineColor(1)\n",
    "hsig.SetLineColor(2)\n",
    "hbg.SetLineColor(41)\n",
    "h.Draw(\"hist\")\n",
    "hsig.Draw(\"hist same\")\n",
    "hbg.Draw(\"hist same\")\n",
    "smalllatex.DrawLatexNDC(.12,.87,\"#color[11]{/cache/clas12/rg-a/production/recon/*/torus*/pass1/v1/dst/train/nSidis/*.hipo}\")\n",
    "#latex.DrawLatexNDC(.54,.8,\"#it{CLAS}12 10.6 GeV Analysis\")\n",
    "latex.DrawLatexNDC(.6,.75,\"#color[2]{Cuts applied}\")\n",
    "latex.DrawLatexNDC(.55,.69,\"Q^{2}_{reco} > 1 GeV^{2}\")\n",
    "latex.DrawLatexNDC(.55,.65,\"W_{reco} > 2 GeV\")\n",
    "latex.DrawLatexNDC(.55,.61,\"y_{reco} < 0.8 \")\n",
    "latex.DrawLatexNDC(.55,.57,\"| #chi^{2}_{pid}(#pi+) | < 3 \")\n",
    "latex.DrawLatexNDC(.55,.53,\"E_{#gamma} > 0.6 GeV\")\n",
    "latex.DrawLatexNDC(.55,.49,\"N_{e} = 1 \")\n",
    "latex.DrawLatexNDC(.55,.45,\"N_{#gamma} >= 2 \")\n",
    "latex.DrawLatexNDC(.55,.41,\"N_{#pi+} = 1 \")\n",
    "latex.DrawLatexNDC(0.73,0.69,\"0.98 < #beta(#gamma) < 1.02\")\n",
    "latex.DrawLatexNDC(0.73,0.65,\"p(#pi+) > 1.25 GeV\")\n",
    "latex.DrawLatexNDC(0.73,0.61,\"Ang(e^{-},#gamma)>8^{o}\")\n",
    "latex.DrawLatexNDC(0.73,0.57,\"x_{F}(#pi^{+}),x_{F}(#pi^{0}) > 0\")\n",
    "latex.DrawLatexNDC(0.73,0.53,\"-8 < v_{z}(e^{-}) < 3 cm\")\n",
    "latex.DrawLatexNDC(0.73,0.49,\"|v_{z}^{#pi} - v_{z}^{e-}| < 20 cm\")\n",
    "latex.DrawLatexNDC(0.73,0.45,\"z_{pair} < 0.95\")\n",
    "latex.DrawLatexNDC(0.73,0.41,\"Fiducial cuts\")\n",
    "\n",
    "legend=TLegend(0.65,0.17,0.8,0.27)\n",
    "legend.AddEntry(h.GetValue(),\"Total\",\"l\")\n",
    "legend.AddEntry(hsig.GetValue(),\"Signal\",\"l\")\n",
    "legend.AddEntry(hbg.GetValue(),\"Sideband\",\"l\")\n",
    "legend.Draw(\"same\")\n",
    "c.Draw()"
   ]
  }
 ],
 "metadata": {
  "kernelspec": {
   "display_name": "Python 3",
   "language": "python",
   "name": "python3"
  },
  "language_info": {
   "codemirror_mode": {
    "name": "ipython",
    "version": 3
   },
   "file_extension": ".py",
   "mimetype": "text/x-python",
   "name": "python",
   "nbconvert_exporter": "python",
   "pygments_lexer": "ipython3",
   "version": "3.8.6"
  }
 },
 "nbformat": 4,
 "nbformat_minor": 5
}
