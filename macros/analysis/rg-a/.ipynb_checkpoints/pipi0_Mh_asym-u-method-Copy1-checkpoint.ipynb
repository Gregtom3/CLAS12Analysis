{
 "cells": [
  {
   "cell_type": "markdown",
   "id": "gothic-granny",
   "metadata": {},
   "source": [
    "Imports"
   ]
  },
  {
   "cell_type": "code",
   "execution_count": null,
   "id": "identical-lease",
   "metadata": {},
   "outputs": [],
   "source": [
    "from ROOT import TFile,TTree,TCanvas,TH1F, gStyle, TLatex, gPad, TLegend, TLorentzVector, TH2F, TLine, TF1, TBox, RDataFrame, TPad, TF2\n",
    "import ROOT\n",
    "import numpy as np\n",
    "%run ./toolkit/tools.ipynb"
   ]
  },
  {
   "cell_type": "markdown",
   "id": "listed-folks",
   "metadata": {},
   "source": [
    "\n",
    "Load up some basic plot settings and TLatex \n",
    "\n"
   ]
  },
  {
   "cell_type": "code",
   "execution_count": null,
   "id": "guilty-jewel",
   "metadata": {},
   "outputs": [],
   "source": [
    "gStyle.SetOptStat(0)\n",
    "gStyle.SetHistLineWidth(2)\n",
    "gStyle.SetTitleXSize(0.045)\n",
    "gStyle.SetTitleYSize(0.035)\n",
    "gStyle.SetTitleXOffset(1)\n",
    "gStyle.SetTitleYOffset(1.2)\n",
    "gStyle.SetPalette(55)\n",
    "gStyle.SetNumberContours(50)\n",
    "\n",
    "latex=TLatex()\n",
    "latex.SetTextSize(0.03)\n",
    "\n",
    "biglatex=TLatex()\n",
    "biglatex.SetTextSize(0.045)\n",
    "\n",
    "smalllatex=TLatex()\n",
    "smalllatex.SetTextSize(0.022)"
   ]
  },
  {
   "cell_type": "markdown",
   "id": "fourth-reader",
   "metadata": {},
   "source": [
    "Create an RDataFrame by importing the root files from the analysis"
   ]
  },
  {
   "cell_type": "code",
   "execution_count": null,
   "id": "declared-senator",
   "metadata": {},
   "outputs": [],
   "source": [
    "ROOT.EnableImplicitMT()\n",
    "d = RDataFrame(\"tree_postprocess\", {\"../../../data/fall2018-torus-1-v1-nSidis/may26_*.root\",\n",
    "                                    \"../../../data/fall2018-torus+1-v1-nSidis/may26_*.root\",\n",
    "                                    \"../../../data/spring2019-torus-1-v1-nSidis/may26_*.root\"})"
   ]
  },
  {
   "cell_type": "markdown",
   "id": "still-indonesia",
   "metadata": {},
   "source": [
    "Define cuts for the asymmetry plots"
   ]
  },
  {
   "cell_type": "code",
   "execution_count": null,
   "id": "productive-update",
   "metadata": {},
   "outputs": [],
   "source": [
    "beta_cut = \"abs(beta1-1)< 0.02 && abs(beta2-1) < 0.02\"\n",
    "sideband_cut = \"Mdiphoton > 0.17 && Mdiphoton < 0.4\"\n",
    "signal_cut = \"Mdiphoton > 0.108 && Mdiphoton < 0.160\""
   ]
  },
  {
   "cell_type": "markdown",
   "id": "fitting-luther",
   "metadata": {},
   "source": [
    "Define bins for Mh asymmetry"
   ]
  },
  {
   "cell_type": "code",
   "execution_count": null,
   "id": "insured-element",
   "metadata": {},
   "outputs": [],
   "source": [
    "Mhbins = np.linspace(0.3,1.3,7)"
   ]
  },
  {
   "cell_type": "markdown",
   "id": "geological-medicare",
   "metadata": {},
   "source": [
    "Get Mgg plots for each Mh range"
   ]
  },
  {
   "cell_type": "code",
   "execution_count": null,
   "id": "quality-process",
   "metadata": {},
   "outputs": [],
   "source": [
    "h_total, h_plus, h_minus = get_Mh_asym_plots(d,[beta_cut],Mhbins,100,0.08,0.4)"
   ]
  },
  {
   "cell_type": "markdown",
   "id": "joined-partition",
   "metadata": {},
   "source": [
    "Prepare Mgg plots for plotting (gets fit and residual plot)"
   ]
  },
  {
   "cell_type": "code",
   "execution_count": null,
   "id": "premium-puppy",
   "metadata": {},
   "outputs": [],
   "source": [
    "fittype = \"gaus(0)+pol4(3)\"\n",
    "fitpars = 8\n",
    "\n",
    "f_total,res_total = process_Mgg(h_total,fittype,fitpars,0.08,0.4)\n",
    "f_plus, res_plus = process_Mgg(h_plus,fittype,fitpars,0.08,0.4)\n",
    "f_minus, res_minus = process_Mgg(h_minus,fittype,fitpars,0.08,0.4)"
   ]
  },
  {
   "cell_type": "markdown",
   "id": "decent-thomas",
   "metadata": {},
   "source": [
    "Plot Mdiphoton distributions, fits, and residuals for helicity = +1 and -1"
   ]
  },
  {
   "cell_type": "code",
   "execution_count": null,
   "id": "confirmed-savings",
   "metadata": {},
   "outputs": [],
   "source": [
    "c = TCanvas(\"c\",\"c\",2400,1600)\n",
    "c.Divide(3,2)\n",
    "for i in range(6):\n",
    "    c.cd(i+1)\n",
    "    \n",
    "    # =========== Draw fit =========== #\n",
    "    p1 = TPad(\"p1{}\".format(i),\"p1{}\".format(i),0,0.3,1,1)\n",
    "    p1.Draw()\n",
    "    p1.cd()\n",
    "    p1.SetBottomMargin(0)\n",
    "    h_total[i].Draw(\"E1\")\n",
    "    f_total[i].Draw(\"same\")\n",
    "    gPad.SetGrid()\n",
    "    biglatex.DrawLatexNDC(0.35,0.84,\"{:.2f} < \".format(Mhbins[i]) + \"M_{h} <\"+\" {:.2f} GeV\".format(Mhbins[i+1]))\n",
    "    \n",
    "    u = get_u(3,h_total[i],f_total[i],fittype,[0.108,0.160])\n",
    "    drawFitLatex(latex,0.68,0.84,0.05,f_total[i],fittype,u)\n",
    "    c.cd(i+1)\n",
    "    # =========== Draw residuals =========== #\n",
    "    p2 = TPad(\"p2{}\".format(i),\"p2{}\".format(i),0,0.05,1,0.3)\n",
    "    p2.Draw()\n",
    "    p2.cd()\n",
    "    p2.SetTopMargin(0)\n",
    "    p2.SetBottomMargin(0.25)\n",
    "    res_total[i].Draw(\"APL\")\n",
    "    gPad.SetGrid()\n",
    "c.Draw()"
   ]
  },
  {
   "cell_type": "markdown",
   "id": "instrumental-packaging",
   "metadata": {},
   "source": [
    "Plot Mdiphoton distributions, fits, and residuals for helicity = +1"
   ]
  },
  {
   "cell_type": "code",
   "execution_count": null,
   "id": "voluntary-salem",
   "metadata": {},
   "outputs": [],
   "source": [
    "c = TCanvas(\"c\",\"c\",2400,1600)\n",
    "c.Divide(3,2)\n",
    "for i in range(6):\n",
    "    c.cd(i+1)\n",
    "    \n",
    "    # =========== Draw fit =========== #\n",
    "    p1 = TPad(\"p1{}\".format(i),\"p1{}\".format(i),0,0.3,1,1)\n",
    "    p1.Draw()\n",
    "    p1.cd()\n",
    "    p1.SetBottomMargin(0)\n",
    "    h_plus[i].Draw(\"E1\")\n",
    "    f_plus[i].Draw(\"same\")\n",
    "    gPad.SetGrid()\n",
    "    biglatex.DrawLatexNDC(0.35,0.84,\"{:.2f} < \".format(Mhbins[i]) + \"M_{h} <\"+\" {:.2f} GeV\".format(Mhbins[i+1]))\n",
    "    biglatex.DrawLatexNDC(0.35,0.78,\"#color[6]{hel=+1}\")\n",
    "    u = get_u(3,h_plus[i],f_plus[i],fittype,[0.108,0.160])\n",
    "    drawFitLatex(latex,0.68,0.84,0.05,f_plus[i],fittype,u)\n",
    "    c.cd(i+1)\n",
    "    \n",
    "    # =========== Draw residuals =========== #\n",
    "    p2 = TPad(\"p2{}\".format(i),\"p2{}\".format(i),0,0.05,1,0.3)\n",
    "    p2.Draw()\n",
    "    p2.cd()\n",
    "    p2.SetTopMargin(0)\n",
    "    p2.SetBottomMargin(0.25)\n",
    "    res_plus[i].Draw(\"APL\")\n",
    "    gPad.SetGrid()\n",
    "c.Draw()"
   ]
  },
  {
   "cell_type": "markdown",
   "id": "promotional-stationery",
   "metadata": {},
   "source": [
    "Plot Mdiphoton distributions, fits, and residuals for helicity = -1"
   ]
  },
  {
   "cell_type": "code",
   "execution_count": null,
   "id": "touched-assets",
   "metadata": {},
   "outputs": [],
   "source": [
    "c = TCanvas(\"c\",\"c\",2400,1600)\n",
    "c.Divide(3,2)\n",
    "for i in range(6):\n",
    "    c.cd(i+1)\n",
    "    \n",
    "    # =========== Draw fit =========== #\n",
    "    p1 = TPad(\"p1{}\".format(i),\"p1{}\".format(i),0,0.3,1,1)\n",
    "    p1.Draw()\n",
    "    p1.cd()\n",
    "    p1.SetBottomMargin(0)\n",
    "    h_minus[i].Draw(\"E1\")\n",
    "    f_minus[i].Draw(\"same\")\n",
    "    gPad.SetGrid()\n",
    "    biglatex.DrawLatexNDC(0.35,0.84,\"{:.2f} < \".format(Mhbins[i]) + \"M_{h} <\"+\" {:.2f} GeV\".format(Mhbins[i+1]))\n",
    "    biglatex.DrawLatexNDC(0.35,0.78,\"#color[6]{hel=-1}\")\n",
    "    u = get_u(3,h_minus[i],f_minus[i],fittype,[0.108,0.160])\n",
    "    drawFitLatex(latex,0.68,0.84,0.05,f_minus[i],fittype,u)\n",
    "    c.cd(i+1)\n",
    "    \n",
    "    # =========== Draw residuals =========== #\n",
    "    p2 = TPad(\"p2{}\".format(i),\"p2{}\".format(i),0,0.05,1,0.3)\n",
    "    p2.Draw()\n",
    "    p2.cd()\n",
    "    p2.SetTopMargin(0)\n",
    "    p2.SetBottomMargin(0.25)\n",
    "    res_minus[i].Draw(\"APL\")\n",
    "    gPad.SetGrid()\n",
    "c.Draw()"
   ]
  },
  {
   "cell_type": "markdown",
   "id": "alive-simon",
   "metadata": {},
   "source": [
    "Get \"u\" for the fits"
   ]
  },
  {
   "cell_type": "code",
   "execution_count": null,
   "id": "awful-challenge",
   "metadata": {},
   "outputs": [],
   "source": [
    "u_method0 = [get_u(0,h_total[i],f_total[i],fittype,[0.108,0.160]) for i in range(len(Mhbins)-1)]\n",
    "u_method1 = [get_u(1,h_total[i],f_total[i],fittype,[0.108,0.160]) for i in range(len(Mhbins)-1)]\n",
    "u_method2 = [get_u(2,h_total[i],f_total[i],fittype,[0.108,0.160]) for i in range(len(Mhbins)-1)]\n",
    "u_method3 = [get_u(3,h_total[i],f_total[i],fittype,[0.108,0.160]) for i in range(len(Mhbins)-1)]"
   ]
  },
  {
   "cell_type": "code",
   "execution_count": null,
   "id": "graphic-contest",
   "metadata": {},
   "outputs": [],
   "source": [
    "print(u_method0)\n",
    "print(u_method1)\n",
    "print(u_method2)\n",
    "print(u_method3)"
   ]
  },
  {
   "cell_type": "markdown",
   "id": "republican-navigator",
   "metadata": {},
   "source": [
    "Prepare Mh asymmetry histograms"
   ]
  },
  {
   "cell_type": "code",
   "execution_count": null,
   "id": "downtown-archive",
   "metadata": {},
   "outputs": [],
   "source": [
    "h_sig_plus, h_sig_minus, h_bg_plus, h_bg_minus = gethists_A_LU_Mh(d,[beta_cut],Mhbins,8,8,[0.108,0.160],[0.170,0.4])"
   ]
  },
  {
   "cell_type": "markdown",
   "id": "second-april",
   "metadata": {},
   "source": [
    "Process Mh asymmetry histograms"
   ]
  },
  {
   "cell_type": "code",
   "execution_count": null,
   "id": "radical-syndicate",
   "metadata": {},
   "outputs": [],
   "source": [
    "h_sigs, h_bgs, f_sigs, f_bgs, fitpars, errors = process_A_LU_Mh(u_method0,h_sig_plus,h_sig_minus,h_bg_plus,h_bg_minus)"
   ]
  },
  {
   "cell_type": "markdown",
   "id": "spoken-piano",
   "metadata": {},
   "source": [
    "Create three asymmetry plots"
   ]
  },
  {
   "cell_type": "code",
   "execution_count": null,
   "id": "initial-single",
   "metadata": {},
   "outputs": [],
   "source": [
    "idx_mods = [1,0,3]\n",
    "#ranges = [[-0.06,0.06],[-0.03,0.03],[-0.014,0.014]]\n",
    "c = TCanvas(\"c\",\"c\",1600,600)\n",
    "c.Divide(3,1)\n",
    "tges=[]\n",
    "line=TLine(Mhbins[0],0,Mhbins[-1],0)\n",
    "line.SetLineStyle(7)\n",
    "for i in range(3):\n",
    "    c.cd(i+1)\n",
    "    \n",
    "    idx = idx_mods[i]\n",
    "    modulation_name = mods[idx]\n",
    "    \n",
    "    # Create TGraphErrors for plotting\n",
    "    tges.append(TGraphErrors(len(Mhbins)-1))\n",
    "    tges[i].SetMarkerStyle(20)\n",
    "    tges[i].SetTitle(\"{}\".format(modulation_name)+\";M_{h} [GeV];\")\n",
    "    for j in range(tges[i].GetN()):\n",
    "        x = np.mean(Mhbins[j:j+2])\n",
    "        y = fitpars[j,idx]\n",
    "        yerr = errors[j,idx]\n",
    "        tges[i].SetPoint(j,x,y)\n",
    "        tges[i].SetPointError(j,0,yerr)\n",
    "        tges[i].GetYaxis().SetRangeUser(ranges[i][0],ranges[i][1])\n",
    "    tges[i].Draw(\"APE\")\n",
    "    line.Draw(\"same\")\n",
    "c.Draw()"
   ]
  }
 ],
 "metadata": {
  "kernelspec": {
   "display_name": "Python 3",
   "language": "python",
   "name": "python3"
  },
  "language_info": {
   "codemirror_mode": {
    "name": "ipython",
    "version": 3
   },
   "file_extension": ".py",
   "mimetype": "text/x-python",
   "name": "python",
   "nbconvert_exporter": "python",
   "pygments_lexer": "ipython3",
   "version": "3.8.6"
  }
 },
 "nbformat": 4,
 "nbformat_minor": 5
}
