{
 "cells": [
  {
   "cell_type": "markdown",
   "id": "comparable-impossible",
   "metadata": {},
   "source": [
    "Imports"
   ]
  },
  {
   "cell_type": "code",
   "execution_count": null,
   "id": "stupid-sweet",
   "metadata": {},
   "outputs": [],
   "source": [
    "from ROOT import TFile,TTree,TCanvas,TH1F, gStyle, TLatex, gPad, TLegend, TLorentzVector, TH2F, TLine, TF1, TBox, RDataFrame, TPad, TF2\n",
    "import ROOT\n",
    "import numpy as np\n",
    "%run ./toolkit/tools.ipynb"
   ]
  },
  {
   "cell_type": "markdown",
   "id": "reasonable-pressing",
   "metadata": {},
   "source": [
    "\n",
    "Load up some basic plot settings and TLatex \n",
    "\n"
   ]
  },
  {
   "cell_type": "code",
   "execution_count": null,
   "id": "english-seller",
   "metadata": {},
   "outputs": [],
   "source": [
    "gStyle.SetOptStat(0)\n",
    "gStyle.SetHistLineWidth(2)\n",
    "gStyle.SetTitleXSize(0.045)\n",
    "gStyle.SetTitleYSize(0.035)\n",
    "gStyle.SetTitleYOffset(1.2)\n",
    "gStyle.SetPalette(55)\n",
    "gStyle.SetNumberContours(50)\n",
    "\n",
    "latex=TLatex()\n",
    "latex.SetTextSize(0.03)\n",
    "\n",
    "biglatex=TLatex()\n",
    "biglatex.SetTextSize(0.045)\n",
    "\n",
    "smalllatex=TLatex()\n",
    "smalllatex.SetTextSize(0.022)"
   ]
  },
  {
   "cell_type": "markdown",
   "id": "located-freedom",
   "metadata": {},
   "source": [
    "Create an RDataFrame by importing the root files from the analysis"
   ]
  },
  {
   "cell_type": "code",
   "execution_count": null,
   "id": "fifty-salon",
   "metadata": {},
   "outputs": [],
   "source": [
    "ROOT.EnableImplicitMT()\n",
    "d = RDataFrame(\"tree_postprocess\", {\"../../../data/fall2018-torus-1-v1-nSidis/may24_*.root\",\n",
    "                                    \"../../../data/fall2018-torus+1-v1-nSidis/may25_*.root\"})"
   ]
  },
  {
   "cell_type": "markdown",
   "id": "residential-netherlands",
   "metadata": {},
   "source": [
    "Define cuts for the asymmetry plots"
   ]
  },
  {
   "cell_type": "code",
   "execution_count": null,
   "id": "stainless-uncertainty",
   "metadata": {},
   "outputs": [],
   "source": [
    "beta_cut = \"abs(beta1-1)< 0.01 && abs(beta2-1) < 0.01\"\n",
    "sideband_cut = \"Mdiphoton > 0.17 && Mdiphoton < 0.4\"\n",
    "signal_cut = \"Mdiphoton > 0.108 && Mdiphoton < 0.160\""
   ]
  },
  {
   "cell_type": "markdown",
   "id": "different-assist",
   "metadata": {},
   "source": [
    "Define bins for Mh asymmetry"
   ]
  },
  {
   "cell_type": "code",
   "execution_count": null,
   "id": "prescribed-firmware",
   "metadata": {},
   "outputs": [],
   "source": [
    "Mhbins = np.linspace(0.3,1.3,7)"
   ]
  },
  {
   "cell_type": "markdown",
   "id": "copyrighted-equation",
   "metadata": {},
   "source": [
    "Get Mgg plots for each Mh range"
   ]
  },
  {
   "cell_type": "code",
   "execution_count": null,
   "id": "revolutionary-computer",
   "metadata": {},
   "outputs": [],
   "source": [
    "h_plus, h_minus = get_Mh_asym_plots(d,[beta_cut],Mhbins,100,0.08,0.2)"
   ]
  },
  {
   "cell_type": "markdown",
   "id": "laughing-knitting",
   "metadata": {},
   "source": [
    "Prepare Mgg plots for plotting (gets fit and residual plot)"
   ]
  },
  {
   "cell_type": "code",
   "execution_count": null,
   "id": "certain-documentation",
   "metadata": {},
   "outputs": [],
   "source": [
    "f_plus, res_plus = process_Mgg(h_plus,\"crystalball(0)+pol2(5)\",7,0.08,0.2)\n",
    "f_minus, res_minus = process_Mgg(h_minus,\"crystalball(0)+pol2(5)\",7,0.08,0.2)"
   ]
  },
  {
   "cell_type": "markdown",
   "id": "greatest-laptop",
   "metadata": {},
   "source": [
    "Plot Mdiphoton distributions, fits, and residuals for helicity = +1"
   ]
  },
  {
   "cell_type": "code",
   "execution_count": null,
   "id": "organizational-oasis",
   "metadata": {},
   "outputs": [],
   "source": [
    "c = TCanvas(\"c\",\"c\",2400,1600)\n",
    "c.Divide(3,2)\n",
    "for i in range(6):\n",
    "    c.cd(i+1)\n",
    "    \n",
    "    # =========== Draw fit =========== #\n",
    "    p1 = TPad(\"p1{}\".format(i),\"p1{}\".format(i),0,0.3,1,1)\n",
    "    p1.Draw()\n",
    "    p1.cd()\n",
    "    p1.SetBottomMargin(0)\n",
    "    h_plus[i].Draw(\"E1\")\n",
    "    f_plus[i].Draw(\"same\")\n",
    "    gPad.SetGrid()\n",
    "    biglatex.DrawLatexNDC(0.15,0.84,\"{:.2f} < \".format(Mhbins[i]) + \"M_{h} <\"+\" {:.2f} GeV\".format(Mhbins[i+1]))\n",
    "    biglatex.DrawLatexNDC(0.15,0.78,\"#color[6]{hel=+1}\")\n",
    "    drawFitLatex(latex,0.68,0.84,0.05,f_plus[i],\"crystalball(0)+pol2(5)\")\n",
    "    c.cd(i+1)\n",
    "    \n",
    "    # =========== Draw residuals =========== #\n",
    "    p2 = TPad(\"p2{}\".format(i),\"p2{}\".format(i),0,0.05,1,0.3)\n",
    "    p2.Draw()\n",
    "    p2.cd()\n",
    "    p2.SetTopMargin(0)\n",
    "    p2.SetBottomMargin(0.25)\n",
    "    res_plus[i].Draw(\"APL\")\n",
    "    gPad.SetGrid()\n",
    "c.Draw()"
   ]
  },
  {
   "cell_type": "markdown",
   "id": "micro-symbol",
   "metadata": {},
   "source": [
    "Plot Mdiphoton distributions, fits, and residuals for helicity = -1"
   ]
  },
  {
   "cell_type": "code",
   "execution_count": null,
   "id": "cardiac-equipment",
   "metadata": {},
   "outputs": [],
   "source": [
    "c = TCanvas(\"c\",\"c\",2400,1600)\n",
    "c.Divide(3,2)\n",
    "for i in range(6):\n",
    "    c.cd(i+1)\n",
    "    \n",
    "    # =========== Draw fit =========== #\n",
    "    p1 = TPad(\"p1{}\".format(i),\"p1{}\".format(i),0,0.3,1,1)\n",
    "    p1.Draw()\n",
    "    p1.cd()\n",
    "    p1.SetBottomMargin(0)\n",
    "    h_minus[i].Draw(\"E1\")\n",
    "    f_minus[i].Draw(\"same\")\n",
    "    gPad.SetGrid()\n",
    "    biglatex.DrawLatexNDC(0.15,0.84,\"{:.2f} < \".format(Mhbins[i]) + \"M_{h} <\"+\" {:.2f} GeV\".format(Mhbins[i+1]))\n",
    "    biglatex.DrawLatexNDC(0.15,0.78,\"#color[6]{hel=-1}\")\n",
    "    drawFitLatex(latex,0.68,0.84,0.05,f_minus[i],\"crystalball(0)+pol2(5)\")\n",
    "    c.cd(i+1)\n",
    "    \n",
    "    # =========== Draw residuals =========== #\n",
    "    p2 = TPad(\"p2{}\".format(i),\"p2{}\".format(i),0,0.05,1,0.3)\n",
    "    p2.Draw()\n",
    "    p2.cd()\n",
    "    p2.SetTopMargin(0)\n",
    "    p2.SetBottomMargin(0.25)\n",
    "    res_minus[i].Draw(\"APL\")\n",
    "    gPad.SetGrid()\n",
    "c.Draw()"
   ]
  },
  {
   "cell_type": "markdown",
   "id": "honest-archives",
   "metadata": {},
   "source": [
    "Prepare Mh asymmetry histograms"
   ]
  },
  {
   "cell_type": "code",
   "execution_count": null,
   "id": "major-female",
   "metadata": {},
   "outputs": [],
   "source": [
    "h_plus, h_minus = get_A_LU_Mh(d,[beta_cut],Mhbins,10,10,0.08,0.2,\"1\")"
   ]
  },
  {
   "cell_type": "markdown",
   "id": "scenic-christian",
   "metadata": {},
   "source": [
    "Process Mh asymmetry histograms"
   ]
  },
  {
   "cell_type": "code",
   "execution_count": null,
   "id": "electronic-enterprise",
   "metadata": {},
   "outputs": [],
   "source": [
    "fitpars,errors = process_A_LU_Mh(h_plus,h_minus)"
   ]
  },
  {
   "cell_type": "markdown",
   "id": "illegal-removal",
   "metadata": {},
   "source": [
    "Create three asymmetry plots"
   ]
  },
  {
   "cell_type": "code",
   "execution_count": null,
   "id": "heavy-germany",
   "metadata": {},
   "outputs": [],
   "source": [
    "idx_mods = [1,0,3]\n",
    "\n",
    "c = TCanvas(\"c\",\"c\",1600,600)\n",
    "c.Divide(3,1)\n",
    "tges=[]\n",
    "for i in range(3):\n",
    "    c.cd(i+1)\n",
    "    \n",
    "    idx = idx_mods[i]\n",
    "    modulation_name = mods[idx]\n",
    "    \n",
    "    # Create TGraphErrors for plotting\n",
    "    tges.append(TGraphErrors(len(Mhbins)-1))\n",
    "    tges[i].SetMarkerStyle(20)\n",
    "    tges[i].SetTitle(\"{}\".format(modulation_name)+\";M_{h} [GeV];\")\n",
    "    for j in range(tges[i].GetN()):\n",
    "        x = np.mean(Mhbins[j:j+2])\n",
    "        y = fitpars[j,idx]\n",
    "        yerr = errors[j,idx]\n",
    "        tges[i].SetPoint(j,x,y)\n",
    "        tges[i].SetPointError(j,0,yerr)\n",
    "    tges[i].Draw(\"APE\")\n",
    "c.Draw()"
   ]
  },
  {
   "cell_type": "markdown",
   "id": "figured-sword",
   "metadata": {},
   "source": []
  },
  {
   "cell_type": "code",
   "execution_count": null,
   "id": "better-underground",
   "metadata": {},
   "outputs": [],
   "source": []
  }
 ],
 "metadata": {
  "kernelspec": {
   "display_name": "Python 3",
   "language": "python",
   "name": "python3"
  },
  "language_info": {
   "codemirror_mode": {
    "name": "ipython",
    "version": 3
   },
   "file_extension": ".py",
   "mimetype": "text/x-python",
   "name": "python",
   "nbconvert_exporter": "python",
   "pygments_lexer": "ipython3",
   "version": "3.8.6"
  }
 },
 "nbformat": 4,
 "nbformat_minor": 5
}
