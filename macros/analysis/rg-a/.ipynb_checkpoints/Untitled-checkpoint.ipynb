{
 "cells": [
  {
   "cell_type": "code",
   "execution_count": null,
   "id": "worse-lotus",
   "metadata": {},
   "outputs": [],
   "source": [
    "import ROOT"
   ]
  },
  {
   "cell_type": "code",
   "execution_count": null,
   "id": "optional-chancellor",
   "metadata": {},
   "outputs": [],
   "source": [
    "fasym = ROOT.TFile(\"/work/clas12/users/gmat/CLAS12Analysis/data/rg-a/july18/asymmetry.root\",\"READ\")"
   ]
  },
  {
   "cell_type": "code",
   "execution_count": null,
   "id": "effective-polyester",
   "metadata": {},
   "outputs": [],
   "source": [
    "c = ROOT.TCanvas(\"c\",\"c\",800,600)\n",
    "tasym = fasym.Get(\"sideband_Mdihadron_sig_1\")\n",
    "tasym.Draw(\"APE\")\n",
    "tasym.GetXaxis().SetRangeUser(0.3,1.3)\n",
    "tasym.GetYaxis().SetRangeUser(-0.06,0.06)\n",
    "c.Draw()"
   ]
  },
  {
   "cell_type": "code",
   "execution_count": null,
   "id": "motivated-infrastructure",
   "metadata": {},
   "outputs": [],
   "source": [
    "f = ROOT.TFile(\"/work/clas12/users/gmat/CLAS12Analysis/data/rg-a/july18/sideband_bin_Mdihadron_0.300000_0.442857/sidebandMethod.root\",\"READ\")\n",
    "f.ls()"
   ]
  },
  {
   "cell_type": "code",
   "execution_count": null,
   "id": "flying-healing",
   "metadata": {},
   "outputs": [],
   "source": [
    "c = ROOT.TCanvas(\"c\",\"c\",800,600)\n",
    "h = f.Get(\"h1_sbnd\")\n",
    "#fit_sig = f.Get(\"f_diphoton_sig\")\n",
    "fit = ROOT.TF1(\"fit\",\"gaus(0)+pol4(3)\",0.08,0.28)\n",
    "fit.SetParameters(100,0.13,0.01,1,1,1,1,1)\n",
    "fit.SetParLimits(1,0.128,0.135)\n",
    "fit.SetParLimits(2,0.001,0.2)\n",
    "h.Fit(fit,\"SR\")\n",
    "#print(fit_sig.GetParameter(2))\n",
    "fit.Draw(\"same\")\n",
    "#h.Draw(\"hist same\")\n",
    "#fit_sig.Draw(\"same\")\n",
    "c.Draw()"
   ]
  },
  {
   "cell_type": "code",
   "execution_count": null,
   "id": "solved-arrest",
   "metadata": {},
   "outputs": [],
   "source": [
    "fit = ROOT.TF1(\"f1\",\"pol4\",0,1)"
   ]
  },
  {
   "cell_type": "code",
   "execution_count": null,
   "id": "tested-karma",
   "metadata": {},
   "outputs": [],
   "source": [
    "fit.GetNpar()"
   ]
  },
  {
   "cell_type": "code",
   "execution_count": null,
   "id": "accessible-inquiry",
   "metadata": {},
   "outputs": [],
   "source": [
    "f = ROOT.TFile(\"/volatile/clas12/users/gmat/clas12analysis.sidis.data/rg-a/july14/merged_july14.root\",\"READ\")\n",
    "f.ls()"
   ]
  },
  {
   "cell_type": "code",
   "execution_count": null,
   "id": "literary-adams",
   "metadata": {},
   "outputs": [],
   "source": [
    "t = f.Get(\"bin_x_0.130000_0.160000\")\n",
    "c = ROOT.TCanvas(\"c\",\"c\",800,600)\n",
    "t.Draw(\"Mdiphoton\")\n",
    "c.Draw()"
   ]
  },
  {
   "cell_type": "code",
   "execution_count": null,
   "id": "surprised-thesis",
   "metadata": {},
   "outputs": [],
   "source": [
    "f = ROOT.TFile(\"/volatile/clas12/users/gmat/clas12analysis.sidis.data/rg-a/july14/sideband_bin_x_0.130000_0.160000/sidebandMethod.root\",\"READ\")\n",
    "f.ls()"
   ]
  },
  {
   "cell_type": "code",
   "execution_count": null,
   "id": "african-breathing",
   "metadata": {},
   "outputs": [],
   "source": [
    "ff = f.Get(\"f_diphoton_sig\")\n",
    "hh = f.Get(\"h1_sbnd\")\n",
    "ff.GetChisquare()/ff.GetNDF()"
   ]
  },
  {
   "cell_type": "code",
   "execution_count": null,
   "id": "lucky-revision",
   "metadata": {},
   "outputs": [],
   "source": [
    "ff.Draw()\n",
    "hh.Draw(\"same hist\")\n",
    "c.Draw()"
   ]
  },
  {
   "cell_type": "code",
   "execution_count": null,
   "id": "spectacular-baptist",
   "metadata": {},
   "outputs": [],
   "source": [
    "ff.GetBinContent(2)\n",
    "ff.GetBinCenter(16)"
   ]
  },
  {
   "cell_type": "code",
   "execution_count": null,
   "id": "middle-valve",
   "metadata": {},
   "outputs": [],
   "source": [
    "f = ROOT.TFile(\"/volatile/clas12/users/gmat/clas12analysis.sidis.data/rg-a/july14/merged_july14.root\",\"READ\")\n",
    "f.ls()"
   ]
  },
  {
   "cell_type": "code",
   "execution_count": null,
   "id": "juvenile-battle",
   "metadata": {},
   "outputs": [],
   "source": [
    "t = f.Get(\"tree_postprocess\")"
   ]
  },
  {
   "cell_type": "code",
   "execution_count": null,
   "id": "wound-prayer",
   "metadata": {},
   "outputs": [],
   "source": [
    "t.Draw(\"Mdiphoton:Mdihadron\",\"Mdihadron>0.5&&Mdihadron<1\",\"colz\")\n",
    "c.Draw()"
   ]
  },
  {
   "cell_type": "code",
   "execution_count": null,
   "id": "valid-research",
   "metadata": {},
   "outputs": [],
   "source": [
    "t.Draw(\"Mdihadron\",\"Mdiphoton>0.108 && Mdiphoton < 0.16\")\n",
    "c.Draw()"
   ]
  },
  {
   "cell_type": "code",
   "execution_count": null,
   "id": "breathing-bangladesh",
   "metadata": {},
   "outputs": [],
   "source": []
  }
 ],
 "metadata": {
  "kernelspec": {
   "display_name": "Python 3",
   "language": "python",
   "name": "python3"
  },
  "language_info": {
   "codemirror_mode": {
    "name": "ipython",
    "version": 3
   },
   "file_extension": ".py",
   "mimetype": "text/x-python",
   "name": "python",
   "nbconvert_exporter": "python",
   "pygments_lexer": "ipython3",
   "version": "3.8.6"
  }
 },
 "nbformat": 4,
 "nbformat_minor": 5
}
