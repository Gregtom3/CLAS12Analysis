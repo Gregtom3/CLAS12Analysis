{
 "cells": [
  {
   "cell_type": "code",
   "execution_count": null,
   "id": "dangerous-discussion",
   "metadata": {},
   "outputs": [],
   "source": [
    "import ROOT, shutil\n",
    "ROOT.gROOT.ProcessLine(\".x $BRUFIT/macros/LoadBru.C\")\n",
    "pwd = ROOT.gSystem.pwd()"
   ]
  },
  {
   "cell_type": "markdown",
   "id": "improved-registration",
   "metadata": {},
   "source": [
    "# sPlot with Gaussian signal and Polynomial background"
   ]
  },
  {
   "cell_type": "markdown",
   "id": "demographic-breast",
   "metadata": {},
   "source": [
    "First, we must create a new, weighted phi asymmetry observable fit using \"RooFitSkeleton\". This is accomplished by first **make-ing** the brufit repository using JLab's Jupyterhub (not via ssh). Then, you must 'cd' into the macros directory, run **root**, and execute the line **.L LoadBru.C**. Then, you can safely run the necessary commands to generate the asymmetry observable. See (https://github.com/dglazier/brufit/tree/dev/tutorials/WeightedObservable) for more details on that."
   ]
  },
  {
   "cell_type": "markdown",
   "id": "functional-execution",
   "metadata": {},
   "source": [
    "Create the sPlot fit manager and set the ouput directory for fit results, plots and weights"
   ]
  },
  {
   "cell_type": "code",
   "execution_count": null,
   "id": "sound-digit",
   "metadata": {},
   "outputs": [],
   "source": [
    "splot = ROOT.sPlot()\n",
    "try:\n",
    "    shutil.rmtree(pwd+\"/outSplot\")\n",
    "except OSError as e:\n",
    "    print(e)\n",
    "splot.SetUp().SetOutDir(pwd+\"/outSplot\")\n",
    "splot.SetRedirectOutput() # Forces minimal output when fitting diphoton peaks"
   ]
  },
  {
   "cell_type": "markdown",
   "id": "graduate-daisy",
   "metadata": {},
   "source": [
    "Load up the diphoton mass fitting variable, the exact variable responsible for identifying background from signal"
   ]
  },
  {
   "cell_type": "code",
   "execution_count": null,
   "id": "assumed-mayor",
   "metadata": {},
   "outputs": [],
   "source": [
    "splot.SetUp().LoadVariable(\"Mdiphoton[0.08,0.22]\");\n",
    "splot.SetUp().SetIDBranchName(\"fidmerge\");"
   ]
  },
  {
   "cell_type": "markdown",
   "id": "paperback-holly",
   "metadata": {},
   "source": [
    "Create the basic signal for the diphoton mass"
   ]
  },
  {
   "cell_type": "code",
   "execution_count": null,
   "id": "considerable-printing",
   "metadata": {},
   "outputs": [],
   "source": [
    "splot.SetUp().FactoryPDF(\"Gaussian::Signal(Mdiphoton,#mu[0.131,0.129,0.136],#sigma[0.1,0.001,0.2])\")\n",
    "splot.SetUp().LoadSpeciesPDF(\"Signal\")"
   ]
  },
  {
   "cell_type": "markdown",
   "id": "norman-cleanup",
   "metadata": {},
   "source": [
    "Create the basic background fit (4th order chebychev)"
   ]
  },
  {
   "cell_type": "code",
   "execution_count": null,
   "id": "afraid-savannah",
   "metadata": {},
   "outputs": [],
   "source": [
    "#splot.SetUp().FactoryPDF(\"Polynomial::BG(Mdiphoton,{a0,a1[1,-100000,100000],a2[1,-100000,100000],a3[1,-100000,100000]})\")\n",
    "splot.SetUp().FactoryPDF(\"Polynomial::BG(Mdiphoton,{a0[0.1,-100,100],a1[0.1,-100,100],a2[0.1,-100,100],a3[0.1,-100,100]})\")\n",
    "splot.SetUp().LoadSpeciesPDF(\"BG\",1)"
   ]
  },
  {
   "cell_type": "markdown",
   "id": "dense-insulin",
   "metadata": {},
   "source": [
    "Bin the data 6 times in {Mh}"
   ]
  },
  {
   "cell_type": "code",
   "execution_count": null,
   "id": "crucial-story",
   "metadata": {},
   "outputs": [],
   "source": [
    "splot.Bins().LoadBinVar(\"Mdihadron\",6,0.3,1.3)"
   ]
  },
  {
   "cell_type": "markdown",
   "id": "arranged-scoop",
   "metadata": {},
   "source": [
    "Load data with TTree name and file location\n",
    "\n",
    "Can try to suppress output in Binner.cpp"
   ]
  },
  {
   "cell_type": "code",
   "execution_count": null,
   "id": "danish-share",
   "metadata": {},
   "outputs": [],
   "source": [
    "splot.LoadData(\"tree_postprocess\",\"/work/clas12/users/gmat/CLAS12Analysis/data/rg-a/june8.root\")"
   ]
  },
  {
   "cell_type": "code",
   "execution_count": null,
   "id": "accurate-needle",
   "metadata": {},
   "outputs": [],
   "source": [
    "ROOT.Here.Go(splot)"
   ]
  },
  {
   "cell_type": "code",
   "execution_count": null,
   "id": "coordinated-methodology",
   "metadata": {},
   "outputs": [],
   "source": [
    "splot.MergeWeights()"
   ]
  },
  {
   "cell_type": "code",
   "execution_count": null,
   "id": "polyphonic-meeting",
   "metadata": {},
   "outputs": [],
   "source": [
    "splot.saveWeightedTree(pwd+\"/outSplot/DataWeightedTree.root\")"
   ]
  },
  {
   "cell_type": "markdown",
   "id": "postal-hammer",
   "metadata": {},
   "source": [
    "Complete sPlots of the azimuthal angles"
   ]
  },
  {
   "cell_type": "markdown",
   "id": "specialized-australia",
   "metadata": {},
   "source": [
    "Setup fit manager"
   ]
  },
  {
   "cell_type": "markdown",
   "id": "sublime-circular",
   "metadata": {},
   "source": [
    "Load data and the sWeights from the above diphoton fits"
   ]
  },
  {
   "cell_type": "code",
   "execution_count": null,
   "id": "theoretical-shareware",
   "metadata": {},
   "outputs": [],
   "source": [
    "c=ROOT.TCanvas(\"c\",\"c\",1200,1200)\n",
    "ROOT.gStyle.SetOptStat(0)\n",
    "c.Divide(2,2)\n",
    "hp=ROOT.TH2F(\"hp\",\"Signal Helicity=+1;phi_h\",100,-3.1415,3.1415,100,-3.1415,3.1415)\n",
    "hm=ROOT.TH2F(\"hm\",\"Signal Helicity=-1;phi_R\",100,-3.1415,3.1415,100,-3.1415,3.1415)\n",
    "hp_bg=ROOT.TH2F(\"hp_bg\",\"BG Helicity=+1;phi_h\",100,-3.1415,3.1415,100,-3.1415,3.1415)\n",
    "hm_bg=ROOT.TH2F(\"hm_bg\",\"BG Helicity=-1;phi_R\",100,-3.1415,3.1415,100,-3.1415,3.1415)\n",
    "splot.DrawWeighted(\"phi_h:phi_R>>hp\",\"Signal\",\"helicity==1\",\"goff\");\n",
    "splot.DrawWeighted(\"phi_h:phi_R>>hm\",\"Signal\",\"helicity==-1\",\"goff\");\n",
    "splot.DrawWeighted(\"phi_h:phi_R>>hp_bg\",\"BG\",\"helicity==1\",\"goff\");\n",
    "splot.DrawWeighted(\"phi_h:phi_R>>hm_bg\",\"BG\",\"helicity==-1\",\"goff\");\n",
    "c.cd(1)\n",
    "hp.Draw(\"colz\")\n",
    "c.cd(2)\n",
    "hm.Draw(\"colz\")\n",
    "c.cd(3)\n",
    "hp_bg.Draw(\"colz\")\n",
    "c.cd(4)\n",
    "hm_bg.Draw(\"colz\")\n",
    "c.Draw()"
   ]
  },
  {
   "cell_type": "code",
   "execution_count": null,
   "id": "fantastic-camping",
   "metadata": {},
   "outputs": [],
   "source": [
    "c=ROOT.TCanvas(\"c\",\"c\",1200,1200)\n",
    "#f=ROOT.TFile(\"../../../data/rg-a/june5.root\",\"READ\")\n",
    "#f=ROOT.TFile(\"../../../data/rg-a/june5.root\",\"READ\")\n",
    "#t=f.Get(\"tree_postprocess\")\n",
    "h1=ROOT.TH1F(\"h1\",\"h1\",100,0,0.4)\n",
    "h2=ROOT.TH1F(\"h2\",\"h2\",100,0,0.4)\n",
    "h3=ROOT.TH1F(\"h3\",\"h3\",100,0,0.4)\n",
    "h1.SetLineColor(2)\n",
    "h2.SetLineColor(1)\n",
    "h3.SetLineColor(4)\n",
    "splot.DrawWeighted(\"Mdiphoton>>h1\",\"Signal\",\"Mdihadron>0.3&&Mdihadron<0.8\");\n",
    "splot.DrawWeighted(\"Mdiphoton>>h2\",\"BG\",\"Mdihadron>0.3&&Mdihadron<0.8\",\"same\");\n",
    "#t.Draw(\"Mdiphoton>>h3\",\"\",\"same\")\n",
    "c.Draw()"
   ]
  },
  {
   "cell_type": "code",
   "execution_count": null,
   "id": "helpful-programmer",
   "metadata": {},
   "outputs": [],
   "source": [
    "f=ROOT.TFile(\"../../../data/rg-a/june5.root\",\"READ\")\n",
    "t=f.Get(\"tree_postprocess\")"
   ]
  },
  {
   "cell_type": "code",
   "execution_count": null,
   "id": "perceived-schedule",
   "metadata": {},
   "outputs": [],
   "source": [
    "fm = ROOT.FitManager()\n",
    "fm.SetUp().SetOutDir(pwd+\"/outObs1/\");\n",
    "fm.Data().LoadWeights(\"Signal\",pwd+\"/outSplot/Tweights.root\");"
   ]
  },
  {
   "cell_type": "code",
   "execution_count": null,
   "id": "vertical-scratch",
   "metadata": {},
   "outputs": [],
   "source": [
    "f=ROOT.TFile(\"outSplot2/test.root\",\"READ\")\n",
    "f.ls()"
   ]
  },
  {
   "cell_type": "code",
   "execution_count": null,
   "id": "binary-verification",
   "metadata": {},
   "outputs": [],
   "source": [
    "t.Print()"
   ]
  },
  {
   "cell_type": "code",
   "execution_count": null,
   "id": "eight-despite",
   "metadata": {},
   "outputs": [],
   "source": [
    "fm = ROOT.FitManager()"
   ]
  },
  {
   "cell_type": "code",
   "execution_count": null,
   "id": "european-square",
   "metadata": {},
   "outputs": [],
   "source": []
  }
 ],
 "metadata": {
  "kernelspec": {
   "display_name": "Python 3",
   "language": "python",
   "name": "python3"
  },
  "language_info": {
   "codemirror_mode": {
    "name": "ipython",
    "version": 3
   },
   "file_extension": ".py",
   "mimetype": "text/x-python",
   "name": "python",
   "nbconvert_exporter": "python",
   "pygments_lexer": "ipython3",
   "version": "3.8.6"
  }
 },
 "nbformat": 4,
 "nbformat_minor": 5
}
