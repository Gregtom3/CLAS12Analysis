{
 "cells": [
  {
   "cell_type": "code",
   "execution_count": null,
   "id": "tested-defendant",
   "metadata": {},
   "outputs": [],
   "source": [
    "from ROOT import TFile,TTree,TCanvas,TH1F, gStyle, TLatex, gPad, TLegend, TLorentzVector, TH2F, TLine, TF1, TBox, RDataFrame, TPad, TF2, TChain\n",
    "import ROOT\n",
    "import numpy as np\n",
    "%run ./toolkit/splot_tools.ipynb"
   ]
  },
  {
   "cell_type": "code",
   "execution_count": null,
   "id": "concerned-album",
   "metadata": {},
   "outputs": [],
   "source": [
    "gStyle.SetOptStat(0)\n",
    "gStyle.SetHistLineWidth(2)\n",
    "gStyle.SetTitleXSize(0.045)\n",
    "gStyle.SetTitleYSize(0.035)\n",
    "gStyle.SetTitleXOffset(1)\n",
    "gStyle.SetTitleYOffset(1.2)\n",
    "gStyle.SetPalette(55)\n",
    "gStyle.SetNumberContours(50)\n",
    "\n",
    "latex=TLatex()\n",
    "latex.SetTextSize(0.03)\n",
    "\n",
    "biglatex=TLatex()\n",
    "biglatex.SetTextSize(0.045)\n",
    "\n",
    "smalllatex=TLatex()\n",
    "smalllatex.SetTextSize(0.022)"
   ]
  },
  {
   "cell_type": "code",
   "execution_count": null,
   "id": "charitable-namibia",
   "metadata": {},
   "outputs": [],
   "source": [
    "ROOT.EnableImplicitMT()"
   ]
  },
  {
   "cell_type": "markdown",
   "id": "enormous-sympathy",
   "metadata": {},
   "source": [
    "Create an RDataFrame containing tree_postprocess as well as the Signal and BG weights from the sPlot-setup code"
   ]
  },
  {
   "cell_type": "code",
   "execution_count": null,
   "id": "refined-adrian",
   "metadata": {},
   "outputs": [],
   "source": [
    "d = RDataFrame(\"tree_postprocess\",\"outSplot/DataWeightedTree.root\")\n",
    "signal_range=np.array([0.08,0.22]) # Define by the range of the sPlot fitting\n"
   ]
  },
  {
   "cell_type": "markdown",
   "id": "chief-remark",
   "metadata": {},
   "source": [
    "Define the polarizations and their uncertainties"
   ]
  },
  {
   "cell_type": "code",
   "execution_count": null,
   "id": "backed-finger",
   "metadata": {},
   "outputs": [],
   "source": [
    "pol=0.86\n",
    "polerr=0.01"
   ]
  },
  {
   "cell_type": "markdown",
   "id": "continent-jimmy",
   "metadata": {},
   "source": [
    "Define the {Mh, x, z} binnings for the asymmetries"
   ]
  },
  {
   "cell_type": "code",
   "execution_count": null,
   "id": "economic-turner",
   "metadata": {},
   "outputs": [],
   "source": [
    "Mhbins = np.linspace(0.3,1.3,7)\n",
    "xbins = np.array([0.1,0.13,0.16,0.19,0.235,0.3,0.5])\n",
    "zbins = np.array([0.35,0.43,0.49,0.55,0.62,0.7,0.83])"
   ]
  },
  {
   "cell_type": "markdown",
   "id": "political-canada",
   "metadata": {},
   "source": [
    "Get (phiH, phiR) plots for each {Mh , x , z} binning"
   ]
  },
  {
   "cell_type": "code",
   "execution_count": null,
   "id": "prepared-translator",
   "metadata": {},
   "outputs": [],
   "source": [
    "h_asym_Mh = gethists_A_LU(d,\"Mdihadron\",Mhbins,8,8,signal_range)\n",
    "#h_asym_x = gethists_A_LU(d,\"x\",xbins,8,8,signal_range)\n",
    "h_asym_z = gethists_A_LU(d,\"z\",zbins,8,8,signal_range)"
   ]
  },
  {
   "cell_type": "markdown",
   "id": "acute-retro",
   "metadata": {},
   "source": [
    "Construct A_LU histograms for each of the binnings"
   ]
  },
  {
   "cell_type": "code",
   "execution_count": null,
   "id": "cleared-dayton",
   "metadata": {},
   "outputs": [],
   "source": [
    "asym_Mh = process_A_LU(h_asym_Mh,pol,polerr)\n",
    "#asym_x = process_A_LU(h_asym_x,pol,polerr)\n",
    "asym_z = process_A_LU(h_asym_z,pol,polerr)"
   ]
  },
  {
   "cell_type": "markdown",
   "id": "united-filing",
   "metadata": {},
   "source": [
    "# 0. Define some useful parameters for later"
   ]
  },
  {
   "cell_type": "code",
   "execution_count": null,
   "id": "ready-rebate",
   "metadata": {},
   "outputs": [],
   "source": [
    "sigbg_color = 2\n",
    "sig_color = 8\n",
    "bg_color = 9\n",
    "\n",
    "sigbg_marker = 22\n",
    "sig_marker = 20\n",
    "bg_marker = 23"
   ]
  },
  {
   "cell_type": "markdown",
   "id": "impressive-investor",
   "metadata": {},
   "source": [
    "# 1. Mh asymmetry plots"
   ]
  },
  {
   "cell_type": "code",
   "execution_count": null,
   "id": "advisory-provider",
   "metadata": {},
   "outputs": [],
   "source": [
    "bins, fitpars_sig,errors_sig, plotstr = Mhbins, asym_Mh[0], asym_Mh[1], \"Mdihadron\"\n",
    "\n",
    "idx_mods = [1,0,3]\n",
    "ranges = [[-0.06,0.06],[-0.06,0.06],[-0.06,0.06]]\n",
    "\n",
    "c = TCanvas(\"c\",\"c\",1600,600)\n",
    "c.Divide(3,1)\n",
    "tges_sig=get_asym_graph(bins,fitpars_sig,errors_sig,1,20,ranges,idx_mods,plotstr)\n",
    "\n",
    "line=TLine(bins[0],0,bins[-1],0)\n",
    "line.SetLineStyle(7)\n",
    "\n",
    "for i in range(len(idx_mods)):\n",
    "    c.cd(i+1)\n",
    "    \n",
    "    idx = idx_mods[i]\n",
    "    modulation_name = mods[idx]\n",
    "    tges_sig[i].Draw(\"APE same\")\n",
    "    \n",
    "    line.Draw(\"same\")\n",
    "c.Draw()"
   ]
  },
  {
   "cell_type": "markdown",
   "id": "million-cover",
   "metadata": {},
   "source": [
    "# 2. x asymmetry plots"
   ]
  },
  {
   "cell_type": "markdown",
   "id": "developmental-patient",
   "metadata": {},
   "source": [
    "# 3. z asymmetry plots"
   ]
  },
  {
   "cell_type": "code",
   "execution_count": null,
   "id": "floral-assumption",
   "metadata": {},
   "outputs": [],
   "source": [
    "bins, fitpars_sig,errors_sig, plotstr = zbins, asym_z[0], asym_z[1], \"z\"\n",
    "\n",
    "idx_mods = [1,0,3]\n",
    "ranges = [[-0.06,0.06],[-0.06,0.06],[-0.06,0.06]]\n",
    "\n",
    "c = TCanvas(\"c\",\"c\",1600,600)\n",
    "c.Divide(3,1)\n",
    "tges_sig=get_asym_graph(bins,fitpars_sig,errors_sig,1,20,ranges,idx_mods,plotstr)\n",
    "\n",
    "line=TLine(bins[0],0,bins[-1],0)\n",
    "line.SetLineStyle(7)\n",
    "\n",
    "for i in range(len(idx_mods)):\n",
    "    c.cd(i+1)\n",
    "    \n",
    "    idx = idx_mods[i]\n",
    "    modulation_name = mods[idx]\n",
    "    tges_sig[i].Draw(\"APE same\")\n",
    "    \n",
    "    line.Draw(\"same\")\n",
    "c.Draw()"
   ]
  },
  {
   "cell_type": "code",
   "execution_count": null,
   "id": "maritime-loading",
   "metadata": {},
   "outputs": [],
   "source": []
  }
 ],
 "metadata": {
  "kernelspec": {
   "display_name": "Python 3",
   "language": "python",
   "name": "python3"
  },
  "language_info": {
   "codemirror_mode": {
    "name": "ipython",
    "version": 3
   },
   "file_extension": ".py",
   "mimetype": "text/x-python",
   "name": "python",
   "nbconvert_exporter": "python",
   "pygments_lexer": "ipython3",
   "version": "3.8.6"
  }
 },
 "nbformat": 4,
 "nbformat_minor": 5
}
