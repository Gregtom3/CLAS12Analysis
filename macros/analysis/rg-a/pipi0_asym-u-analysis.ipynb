{
 "cells": [
  {
   "cell_type": "markdown",
   "id": "prerequisite-shipping",
   "metadata": {},
   "source": [
    "Imports"
   ]
  },
  {
   "cell_type": "code",
   "execution_count": null,
   "id": "collected-wright",
   "metadata": {},
   "outputs": [],
   "source": [
    "from ROOT import TFile,TTree,TCanvas,TH1F, gStyle, TLatex, gPad, TLegend, TLorentzVector, TH2F, TLine, TF1, TBox, RDataFrame, TPad, TF2, TChain\n",
    "import ROOT\n",
    "import numpy as np\n",
    "%run ./toolkit/sideband_tools.ipynb"
   ]
  },
  {
   "cell_type": "markdown",
   "id": "present-anaheim",
   "metadata": {},
   "source": [
    "\n",
    "Load up some basic plot settings and TLatex \n",
    "\n"
   ]
  },
  {
   "cell_type": "code",
   "execution_count": null,
   "id": "dominican-clause",
   "metadata": {},
   "outputs": [],
   "source": [
    "gStyle.SetOptStat(0)\n",
    "gStyle.SetHistLineWidth(2)\n",
    "gStyle.SetTitleXSize(0.045)\n",
    "gStyle.SetTitleYSize(0.035)\n",
    "gStyle.SetTitleXOffset(1)\n",
    "gStyle.SetTitleYOffset(1.2)\n",
    "gStyle.SetPalette(55)\n",
    "gStyle.SetNumberContours(50)\n",
    "\n",
    "latex=TLatex()\n",
    "latex.SetTextSize(0.03)\n",
    "\n",
    "biglatex=TLatex()\n",
    "biglatex.SetTextSize(0.045)\n",
    "\n",
    "smalllatex=TLatex()\n",
    "smalllatex.SetTextSize(0.022)"
   ]
  },
  {
   "cell_type": "markdown",
   "id": "wireless-initial",
   "metadata": {},
   "source": [
    "Create an RDataFrame by importing the root files from the analysis"
   ]
  },
  {
   "cell_type": "code",
   "execution_count": null,
   "id": "ongoing-commander",
   "metadata": {},
   "outputs": [],
   "source": [
    "ROOT.EnableImplicitMT(32)\n",
    "#d = RDataFrame(\"tree_postprocess\", {\"../../../data/fall2018-torus-1-v1-nSidis/june3_*.root\",\n",
    "#                                          \"../../../data/fall2018-torus+1-v1-nSidis/june3_*.root\",\n",
    "#                                          \"../../../data/spring2019-torus-1-v1-nSidis/june3_*.root\"})\n",
    "d = RDataFrame(\"tree_postprocess\", \"/volatile/clas12/users/gmat/clas12analysis.sidis.data/rg-a/july14/july14*.root\")"
   ]
  },
  {
   "cell_type": "markdown",
   "id": "measured-american",
   "metadata": {},
   "source": [
    "Define the polarizations and errors for each dataset"
   ]
  },
  {
   "cell_type": "code",
   "execution_count": null,
   "id": "sought-pharmacy",
   "metadata": {},
   "outputs": [],
   "source": [
    "pol=np.array([0.8592,0.8922,0.8453])\n",
    "polerr=np.array([0.01290,0.02509,0.01474])"
   ]
  },
  {
   "cell_type": "markdown",
   "id": "finnish-replica",
   "metadata": {},
   "source": [
    "Define cuts for the asymmetry plots"
   ]
  },
  {
   "cell_type": "code",
   "execution_count": null,
   "id": "lovely-mechanics",
   "metadata": {},
   "outputs": [],
   "source": [
    "beta_cut = \"abs(beta1-1)< 0.1 && abs(beta2-1) < 0.1\"\n",
    "sideband_cut = \"Mdiphoton > 0.17 && Mdiphoton < 0.4\"\n",
    "signal_cut = \"Mdiphoton > 0.108 && Mdiphoton < 0.160\""
   ]
  },
  {
   "cell_type": "markdown",
   "id": "accomplished-confidentiality",
   "metadata": {},
   "source": [
    "Define bins for {Mh , x , z} asymmetry"
   ]
  },
  {
   "cell_type": "code",
   "execution_count": null,
   "id": "tamil-judge",
   "metadata": {},
   "outputs": [],
   "source": [
    "Mhbins = np.linspace(0.3,1.3,7)\n",
    "xbins = np.array([0.1,0.13,0.16,0.19,0.235,0.3,0.5])\n",
    "zbins = np.array([0.35,0.43,0.49,0.55,0.62,0.7,0.83])"
   ]
  },
  {
   "cell_type": "markdown",
   "id": "ranking-sociology",
   "metadata": {},
   "source": [
    "Get Mgg plots for each {Mh, x, z} bin range"
   ]
  },
  {
   "cell_type": "code",
   "execution_count": null,
   "id": "several-optics",
   "metadata": {},
   "outputs": [],
   "source": [
    "h_total_Mh = get_asym_plots(d,[beta_cut],\"Mdihadron\",Mhbins,100,0.08,0.4)\n",
    "h_total_x = get_asym_plots(d,[beta_cut],\"x\",xbins,100,0.08,0.4)\n",
    "h_total_z = get_asym_plots(d,[beta_cut],\"z\",zbins,100,0.08,0.4)"
   ]
  },
  {
   "cell_type": "markdown",
   "id": "improving-coalition",
   "metadata": {},
   "source": [
    "Get (phiH, phiR) plots for each {Mh , x , z} binning"
   ]
  },
  {
   "cell_type": "code",
   "execution_count": null,
   "id": "internal-withdrawal",
   "metadata": {},
   "outputs": [],
   "source": [
    "h_asym_Mh = gethists_A_LU(d,[beta_cut],\"Mdihadron\",Mhbins,8,8,[0.108,0.160],[0.170,0.4])\n",
    "h_asym_x = gethists_A_LU(d,[beta_cut],\"x\",xbins,8,8,[0.108,0.160],[0.170,0.4])\n",
    "h_asym_z = gethists_A_LU(d,[beta_cut],\"z\",zbins,8,8,[0.108,0.160],[0.170,0.4])"
   ]
  },
  {
   "cell_type": "markdown",
   "id": "split-uniform",
   "metadata": {},
   "source": [
    "Prepare Mgg plots for plotting (gets fit and residual plot)"
   ]
  },
  {
   "cell_type": "code",
   "execution_count": null,
   "id": "adopted-anxiety",
   "metadata": {},
   "outputs": [],
   "source": [
    "%%time\n",
    "fittype = \"gaus(0)+pol4(3)\"\n",
    "fitpars = 8\n",
    "\n",
    "f_total_Mh,res_total_Mh = process_Mgg(h_total_Mh,fittype,fitpars,0.08,0.4)\n",
    "f_total_x,res_total_x = process_Mgg(h_total_x,fittype,fitpars,0.08,0.4)\n",
    "f_total_z,res_total_z = process_Mgg(h_total_z,fittype,fitpars,0.08,0.4)"
   ]
  },
  {
   "cell_type": "markdown",
   "id": "indoor-portrait",
   "metadata": {},
   "source": [
    "Get purity \"u\" for each {Mh , x , z}"
   ]
  },
  {
   "cell_type": "code",
   "execution_count": null,
   "id": "running-milton",
   "metadata": {},
   "outputs": [],
   "source": [
    "u_Mh = [get_u(3,h_total_Mh[i],f_total_Mh[i],fittype,[0.108,0.160]) for i in range(len(Mhbins)-1)]\n",
    "u_x = [get_u(3,h_total_x[i],f_total_x[i],fittype,[0.108,0.160]) for i in range(len(xbins)-1)]\n",
    "u_z = [get_u(3,h_total_z[i],f_total_z[i],fittype,[0.108,0.160]) for i in range(len(zbins)-1)]"
   ]
  },
  {
   "cell_type": "markdown",
   "id": "prospective-entrance",
   "metadata": {},
   "source": [
    "For each {Mh, x, z} find the total weighted polarization (w/ error) for the signal+sideband region\n",
    "\n",
    "This requires us to split the dataframes into three pieces"
   ]
  },
  {
   "cell_type": "code",
   "execution_count": null,
   "id": "fleet-cleanup",
   "metadata": {},
   "outputs": [],
   "source": [
    "#chains = [TChain(\"tree_postprocess\"),TChain(\"tree_postprocess\"),TChain(\"tree_postprocess\")]\n",
    "#chains[0].Add(\"../../../data/fall2018-torus-1-v1-nSidis/june3_3.root\")\n",
    "#chains[1].Add(\"../../../data/fall2018-torus+1-v1-nSidis/june3_3.root\")\n",
    "#chains[2].Add(\"../../../data/spring2019-torus-1-v1-nSidis/june3_3.root\")\n",
    "chains = [TChain(\"tree_postprocess\"),TChain(\"tree_postprocess\"),TChain(\"tree_postprocess\")]\n",
    "chains[0].Add(\"/volatile/clas12/users/gmat/clas12analysis.sidis.data/rg-a/july14/july14_0.root\")\n",
    "chains[1].Add(\"/volatile/clas12/users/gmat/clas12analysis.sidis.data/rg-a/july14/july14_200.root\")\n",
    "chains[2].Add(\"/volatile/clas12/users/gmat/clas12analysis.sidis.data/rg-a/july14/july14_350.root\")\n",
    "p_Mh = get_weighted_polarization(chains,\"Mdihadron\",Mhbins,pol,polerr,[beta_cut],[0.108,0.160],[0.170,0.4])\n",
    "p_x = get_weighted_polarization(chains,\"x\",xbins,pol,polerr,[beta_cut],[0.108,0.160],[0.170,0.4])\n",
    "p_z = get_weighted_polarization(chains,\"z\",zbins,pol,polerr,[beta_cut],[0.108,0.160],[0.170,0.4])"
   ]
  },
  {
   "cell_type": "markdown",
   "id": "conservative-tackle",
   "metadata": {},
   "source": [
    "Get final asymmetry plots"
   ]
  },
  {
   "cell_type": "code",
   "execution_count": null,
   "id": "productive-wednesday",
   "metadata": {},
   "outputs": [],
   "source": [
    "asym_Mh = process_A_LU(u_Mh,h_asym_Mh,p_Mh)\n",
    "asym_x = process_A_LU(u_x,h_asym_x,p_x)\n",
    "asym_z = process_A_LU(u_z,h_asym_z,p_z)"
   ]
  },
  {
   "cell_type": "code",
   "execution_count": null,
   "id": "occupied-chapter",
   "metadata": {},
   "outputs": [],
   "source": [
    "print(p_Mh,\"\\n\",p_x,\"\\n\",p_z)"
   ]
  },
  {
   "cell_type": "markdown",
   "id": "intermediate-immune",
   "metadata": {},
   "source": [
    "Plot Mdiphoton distributions, fits, and residuals for helicity = +1 and -1"
   ]
  },
  {
   "cell_type": "markdown",
   "id": "australian-bankruptcy",
   "metadata": {},
   "source": [
    "# 0. Define some useful parameters for later"
   ]
  },
  {
   "cell_type": "code",
   "execution_count": null,
   "id": "surgical-garbage",
   "metadata": {},
   "outputs": [],
   "source": [
    "sigbg_color = 2\n",
    "sig_color = 8\n",
    "bg_color = 9\n",
    "\n",
    "sigbg_marker = 22\n",
    "sig_marker = 20\n",
    "bg_marker = 23\n",
    "\n",
    "Mh_1a = [Mhbins, h_total_Mh, f_total_Mh, res_total_Mh, u_Mh, \"M_{h} [GeV]\"]\n",
    "Mh_1b = [Mhbins,asym_Mh[0],asym_Mh[1],asym_Mh[2],asym_Mh[3],asym_Mh[4],asym_Mh[5],u_Mh,\"M_{h} [GeV]\"]\n",
    "Mh_1c = [Mhbins,asym_Mh[4],asym_Mh[5],u_Mh,\"M_{h} [GeV]\"]\n",
    "\n",
    "x_2a = [xbins, h_total_x, f_total_x, res_total_x, u_x, \"x\"]\n",
    "x_2b = [xbins,asym_x[0],asym_x[1],asym_x[2],asym_x[3],asym_x[4],asym_x[5],u_x,\"x\"]\n",
    "x_2c = [xbins,asym_x[4],asym_x[5],u_x,\"x\"]\n",
    "\n",
    "z_3a = [zbins, h_total_z, f_total_z, res_total_z, u_z, \"z\"]\n",
    "z_3b = [zbins,asym_z[0],asym_z[1],asym_z[2],asym_z[3],asym_z[4],asym_z[5],u_z,\"z\"]\n",
    "z_3c = [zbins,asym_z[4],asym_z[5],u_z,\"z\"]\n",
    "\n",
    "d_f18_0 = RDataFrame(\"tree_postprocess\", \"../../../data/fall2018-torus-1-v1-nSidis/may26_*.root\")\n",
    "d_f18_1 = RDataFrame(\"tree_postprocess\",\"../../../data/fall2018-torus+1-v1-nSidis/may26_*.root\")\n",
    "d_s19_0 = RDataFrame(\"tree_postprocess\",\"../../../data/spring2019-torus-1-v1-nSidis/may26_*.root\")\n",
    "\n",
    "d = [d_f18_0, d_f18_1, d_s19_0]\n",
    "\n"
   ]
  },
  {
   "cell_type": "markdown",
   "id": "beautiful-portal",
   "metadata": {},
   "source": [
    "# 1: Mdihadron binning\n",
    "---\n",
    "## 1a: Purity fits "
   ]
  },
  {
   "cell_type": "code",
   "execution_count": null,
   "id": "improving-indication",
   "metadata": {},
   "outputs": [],
   "source": [
    "bins, h_total, f_total, res_total, u ,plotstr = Mh_1a\n",
    "\n",
    "c = TCanvas(\"c\",\"c\",2400,1600)\n",
    "c.Divide(3,2)\n",
    "for i in range(6):\n",
    "    c.cd(i+1)\n",
    "    \n",
    "    # =========== Draw fit =========== #\n",
    "    p1 = TPad(\"p1{}\".format(i),\"p1{}\".format(i),0,0.3,1,1)\n",
    "    p1.Draw()\n",
    "    p1.cd()\n",
    "    p1.SetBottomMargin(0)\n",
    "    h_total[i].Draw(\"E1\")\n",
    "    f_total[i].Draw(\"same\")\n",
    "    gPad.SetGrid()\n",
    "    biglatex.DrawLatexNDC(0.3,0.84,\"{:.2f} < \".format(bins[i]) + \"{} <\".format(\"M_{h}\")+\" {:.2f} GeV\".format(bins[i+1]))\n",
    "    \n",
    "    u = get_u(3,h_total[i],f_total[i],fittype,[0.108,0.160])\n",
    "    drawFitLatex(latex,0.68,0.84,0.05,f_total[i],fittype,u)\n",
    "    c.cd(i+1)\n",
    "    # =========== Draw residuals =========== #\n",
    "    p2 = TPad(\"p2{}\".format(i),\"p2{}\".format(i),0,0.05,1,0.3)\n",
    "    p2.Draw()\n",
    "    p2.cd()\n",
    "    p2.SetTopMargin(0)\n",
    "    p2.SetBottomMargin(0.25)\n",
    "    res_total[i].Draw(\"APL\")\n",
    "    gPad.SetGrid()\n",
    "c.Draw()"
   ]
  },
  {
   "cell_type": "markdown",
   "id": "criminal-teacher",
   "metadata": {},
   "source": [
    "## 1b: Asymmetry plots (signal,  bg, signal+bg)"
   ]
  },
  {
   "cell_type": "code",
   "execution_count": null,
   "id": "selective-manhattan",
   "metadata": {},
   "outputs": [],
   "source": [
    "bins, fitpars_sigbg, errors_sigbg,fitpars_bg,errors_bg,fitpars_sig,errors_sig, u, plotstr = Mh_1b\n",
    "\n",
    "idx_mods = [1,0,3]\n",
    "ranges = [[-0.06,0.06],[-0.06,0.06],[-0.06,0.06]]\n",
    "\n",
    "c = TCanvas(\"c\",\"c\",1600,600)\n",
    "c.Divide(3,1)\n",
    "tges_sigbg=get_asym_graph(bins,fitpars_sigbg,errors_sigbg,sigbg_color,sigbg_marker,ranges,idx_mods,plotstr)\n",
    "tges_sig=get_asym_graph(bins,fitpars_sig,errors_sig,sig_color,sig_marker,ranges,idx_mods,plotstr)\n",
    "tges_bg=get_asym_graph(bins,fitpars_bg,errors_bg,bg_color,bg_marker,ranges,idx_mods,plotstr)\n",
    "\n",
    "line=TLine(bins[0],0,bins[-1],0)\n",
    "line.SetLineStyle(7)\n",
    "\n",
    "for i in range(len(idx_mods)):\n",
    "    c.cd(i+1)\n",
    "    \n",
    "    idx = idx_mods[i]\n",
    "    modulation_name = mods[idx]\n",
    "    tges_sigbg[i].Draw(\"APE\")\n",
    "    tges_sig[i].Draw(\"PE same\")\n",
    "    tges_bg[i].Draw(\"PE same\")\n",
    "    if(i==0):\n",
    "        legend=TLegend(0.5,0.17,0.8,0.3)\n",
    "        legend.AddEntry(tges_sigbg[i],\"Signal+Bkg\",\"PE\")\n",
    "        legend.AddEntry(tges_sig[i],\"Signal\",\"PE\")\n",
    "        legend.AddEntry(tges_bg[i],\"Bkg\",\"PE\")\n",
    "        legend.Draw(\"same\")\n",
    "    line.Draw(\"same\")\n",
    "c.Draw()"
   ]
  },
  {
   "cell_type": "markdown",
   "id": "bacterial-strand",
   "metadata": {},
   "source": [
    "## 1c. Asymmetry plots (Sig only)"
   ]
  },
  {
   "cell_type": "code",
   "execution_count": null,
   "id": "satisfactory-palace",
   "metadata": {},
   "outputs": [],
   "source": [
    "bins, fitpars_sig,errors_sig, u, plotstr = Mh_1c\n",
    "\n",
    "idx_mods = [1,0,3]\n",
    "ranges = [[-0.06,0.06],[-0.06,0.06],[-0.06,0.06]]\n",
    "\n",
    "c = TCanvas(\"c\",\"c\",1600,600)\n",
    "c.Divide(3,1)\n",
    "tges_sig=get_asym_graph(bins,fitpars_sig,errors_sig,1,20,ranges,idx_mods,plotstr)\n",
    "\n",
    "line=TLine(bins[0],0,bins[-1],0)\n",
    "line.SetLineStyle(7)\n",
    "\n",
    "for i in range(len(idx_mods)):\n",
    "    c.cd(i+1)\n",
    "    \n",
    "    idx = idx_mods[i]\n",
    "    modulation_name = mods[idx]\n",
    "    tges_sig[i].Draw(\"APE same\")\n",
    "    \n",
    "    line.Draw(\"same\")\n",
    "c.Draw()"
   ]
  },
  {
   "cell_type": "markdown",
   "id": "sustainable-swift",
   "metadata": {},
   "source": [
    "# 2: x binning\n",
    "---\n",
    "## 2a: Purity fits"
   ]
  },
  {
   "cell_type": "code",
   "execution_count": null,
   "id": "suspended-hello",
   "metadata": {},
   "outputs": [],
   "source": [
    "bins, h_total, f_total, res_total, u ,plotstr = x_2a\n",
    "\n",
    "c = TCanvas(\"c\",\"c\",2400,1600)\n",
    "c.Divide(3,2)\n",
    "for i in range(6):\n",
    "    c.cd(i+1)\n",
    "    \n",
    "    # =========== Draw fit =========== #\n",
    "    p1 = TPad(\"p1{}\".format(i),\"p1{}\".format(i),0,0.3,1,1)\n",
    "    p1.Draw()\n",
    "    p1.cd()\n",
    "    p1.SetBottomMargin(0)\n",
    "    h_total[i].Draw(\"E1\")\n",
    "    f_total[i].Draw(\"same\")\n",
    "    gPad.SetGrid()\n",
    "    biglatex.DrawLatexNDC(0.3,0.84,\"{:.2f} < \".format(bins[i]) + \"{} <\".format(plotstr)+\" {:.2f}\".format(bins[i+1]))\n",
    "    \n",
    "    u = get_u(3,h_total[i],f_total[i],fittype,[0.108,0.160])\n",
    "    drawFitLatex(latex,0.68,0.84,0.05,f_total[i],fittype,u)\n",
    "    c.cd(i+1)\n",
    "    # =========== Draw residuals =========== #\n",
    "    p2 = TPad(\"p2{}\".format(i),\"p2{}\".format(i),0,0.05,1,0.3)\n",
    "    p2.Draw()\n",
    "    p2.cd()\n",
    "    p2.SetTopMargin(0)\n",
    "    p2.SetBottomMargin(0.25)\n",
    "    res_total[i].Draw(\"APL\")\n",
    "    gPad.SetGrid()\n",
    "c.Draw()"
   ]
  },
  {
   "cell_type": "markdown",
   "id": "understood-trinity",
   "metadata": {},
   "source": [
    "## 2b: Asymmetry plots (signal,  bg, signal+bg)"
   ]
  },
  {
   "cell_type": "code",
   "execution_count": null,
   "id": "optical-bargain",
   "metadata": {},
   "outputs": [],
   "source": [
    "bins, fitpars_sigbg, errors_sigbg,fitpars_bg,errors_bg,fitpars_sig,errors_sig, u, plotstr = x_2b\n",
    "\n",
    "idx_mods = [1,0,3]\n",
    "ranges = [[-0.06,0.06],[-0.06,0.06],[-0.06,0.06]]\n",
    "\n",
    "c = TCanvas(\"c\",\"c\",1600,600)\n",
    "c.Divide(3,1)\n",
    "tges_sigbg=get_asym_graph(bins,fitpars_sigbg,errors_sigbg,sigbg_color,sigbg_marker,ranges,idx_mods,plotstr)\n",
    "tges_sig=get_asym_graph(bins,fitpars_sig,errors_sig,sig_color,sig_marker,ranges,idx_mods,plotstr)\n",
    "tges_bg=get_asym_graph(bins,fitpars_bg,errors_bg,bg_color,bg_marker,ranges,idx_mods,plotstr)\n",
    "\n",
    "line=TLine(bins[0],0,bins[-1],0)\n",
    "line.SetLineStyle(7)\n",
    "\n",
    "for i in range(len(idx_mods)):\n",
    "    c.cd(i+1)\n",
    "    \n",
    "    idx = idx_mods[i]\n",
    "    modulation_name = mods[idx]\n",
    "    tges_sigbg[i].Draw(\"APE\")\n",
    "    tges_sig[i].Draw(\"PE same\")\n",
    "    tges_bg[i].Draw(\"PE same\")\n",
    "    if(i==0):\n",
    "        legend=TLegend(0.5,0.17,0.8,0.3)\n",
    "        legend.AddEntry(tges_sigbg[i],\"Signal+Bkg\",\"PE\")\n",
    "        legend.AddEntry(tges_sig[i],\"Signal\",\"PE\")\n",
    "        legend.AddEntry(tges_bg[i],\"Bkg\",\"PE\")\n",
    "        legend.Draw(\"same\")\n",
    "    line.Draw(\"same\")\n",
    "c.Draw()"
   ]
  },
  {
   "cell_type": "markdown",
   "id": "invisible-laptop",
   "metadata": {},
   "source": [
    "## 2c: Asymmetry plots (sig only)"
   ]
  },
  {
   "cell_type": "code",
   "execution_count": null,
   "id": "numeric-atlantic",
   "metadata": {},
   "outputs": [],
   "source": [
    "bins, fitpars_sig,errors_sig, u, plotstr = x_2c\n",
    "\n",
    "idx_mods = [1,0,3]\n",
    "ranges = [[-0.06,0.06],[-0.06,0.06],[-0.06,0.06]]\n",
    "\n",
    "c = TCanvas(\"c\",\"c\",1600,600)\n",
    "c.Divide(3,1)\n",
    "tges_sig=get_asym_graph(bins,fitpars_sig,errors_sig,1,20,ranges,idx_mods,plotstr)\n",
    "\n",
    "line=TLine(bins[0],0,bins[-1],0)\n",
    "line.SetLineStyle(7)\n",
    "\n",
    "for i in range(len(idx_mods)):\n",
    "    c.cd(i+1)\n",
    "    \n",
    "    idx = idx_mods[i]\n",
    "    modulation_name = mods[idx]\n",
    "    tges_sig[i].Draw(\"APE same\")\n",
    "    \n",
    "    line.Draw(\"same\")\n",
    "c.Draw()"
   ]
  },
  {
   "cell_type": "markdown",
   "id": "educated-steel",
   "metadata": {},
   "source": [
    "# 3: z binning\n",
    "---\n",
    "## 3a: Purity fits"
   ]
  },
  {
   "cell_type": "code",
   "execution_count": null,
   "id": "confidential-tribute",
   "metadata": {},
   "outputs": [],
   "source": [
    "bins, h_total, f_total, res_total, u ,plotstr = z_3a\n",
    "\n",
    "c = TCanvas(\"c\",\"c\",2400,1600)\n",
    "c.Divide(3,2)\n",
    "for i in range(6):\n",
    "    c.cd(i+1)\n",
    "    \n",
    "    # =========== Draw fit =========== #\n",
    "    p1 = TPad(\"p1{}\".format(i),\"p1{}\".format(i),0,0.3,1,1)\n",
    "    p1.Draw()\n",
    "    p1.cd()\n",
    "    p1.SetBottomMargin(0)\n",
    "    h_total[i].Draw(\"E1\")\n",
    "    f_total[i].Draw(\"same\")\n",
    "    gPad.SetGrid()\n",
    "    biglatex.DrawLatexNDC(0.3,0.84,\"{:.2f} < \".format(bins[i]) + \"{} <\".format(plotstr)+\" {:.2f}\".format(bins[i+1]))\n",
    "    \n",
    "    u = get_u(3,h_total[i],f_total[i],fittype,[0.108,0.160])\n",
    "    drawFitLatex(latex,0.68,0.84,0.05,f_total[i],fittype,u)\n",
    "    c.cd(i+1)\n",
    "    # =========== Draw residuals =========== #\n",
    "    p2 = TPad(\"p2{}\".format(i),\"p2{}\".format(i),0,0.05,1,0.3)\n",
    "    p2.Draw()\n",
    "    p2.cd()\n",
    "    p2.SetTopMargin(0)\n",
    "    p2.SetBottomMargin(0.25)\n",
    "    res_total[i].Draw(\"APL\")\n",
    "    gPad.SetGrid()\n",
    "c.Draw()"
   ]
  },
  {
   "cell_type": "markdown",
   "id": "closing-trading",
   "metadata": {},
   "source": [
    "## 3b: Asymmetry plots (signal,  bg, signal+bg)"
   ]
  },
  {
   "cell_type": "code",
   "execution_count": null,
   "id": "disabled-merchant",
   "metadata": {},
   "outputs": [],
   "source": [
    "bins, fitpars_sigbg, errors_sigbg,fitpars_bg,errors_bg,fitpars_sig,errors_sig, u, plotstr = z_3b\n",
    "\n",
    "idx_mods = [1,0,3]\n",
    "ranges = [[-0.06,0.06],[-0.06,0.06],[-0.06,0.06]]\n",
    "\n",
    "c = TCanvas(\"c\",\"c\",1600,600)\n",
    "c.Divide(3,1)\n",
    "tges_sigbg=get_asym_graph(bins,fitpars_sigbg,errors_sigbg,sigbg_color,sigbg_marker,ranges,idx_mods,plotstr)\n",
    "tges_sig=get_asym_graph(bins,fitpars_sig,errors_sig,sig_color,sig_marker,ranges,idx_mods,plotstr)\n",
    "tges_bg=get_asym_graph(bins,fitpars_bg,errors_bg,bg_color,bg_marker,ranges,idx_mods,plotstr)\n",
    "\n",
    "line=TLine(bins[0],0,bins[-1],0)\n",
    "line.SetLineStyle(7)\n",
    "\n",
    "for i in range(len(idx_mods)):\n",
    "    c.cd(i+1)\n",
    "    \n",
    "    idx = idx_mods[i]\n",
    "    modulation_name = mods[idx]\n",
    "    tges_sigbg[i].Draw(\"APE\")\n",
    "    tges_sig[i].Draw(\"PE same\")\n",
    "    tges_bg[i].Draw(\"PE same\")\n",
    "    if(i==0):\n",
    "        legend=TLegend(0.5,0.17,0.8,0.3)\n",
    "        legend.AddEntry(tges_sigbg[i],\"Signal+Bkg\",\"PE\")\n",
    "        legend.AddEntry(tges_sig[i],\"Signal\",\"PE\")\n",
    "        legend.AddEntry(tges_bg[i],\"Bkg\",\"PE\")\n",
    "        legend.Draw(\"same\")\n",
    "    line.Draw(\"same\")\n",
    "c.Draw()"
   ]
  },
  {
   "cell_type": "markdown",
   "id": "optional-mathematics",
   "metadata": {},
   "source": [
    "## 3c: Asymmetry plots (sig only)"
   ]
  },
  {
   "cell_type": "code",
   "execution_count": null,
   "id": "micro-metallic",
   "metadata": {},
   "outputs": [],
   "source": [
    "bins, fitpars_sig,errors_sig, u, plotstr = z_3c\n",
    "\n",
    "idx_mods = [1,0,3]\n",
    "ranges = [[-0.06,0.06],[-0.06,0.06],[-0.06,0.06]]\n",
    "\n",
    "c = TCanvas(\"c\",\"c\",1600,600)\n",
    "c.Divide(3,1)\n",
    "tges_sig=get_asym_graph(bins,fitpars_sig,errors_sig,1,20,ranges,idx_mods,plotstr)\n",
    "\n",
    "line=TLine(bins[0],0,bins[-1],0)\n",
    "line.SetLineStyle(7)\n",
    "\n",
    "for i in range(len(idx_mods)):\n",
    "    c.cd(i+1)\n",
    "    \n",
    "    idx = idx_mods[i]\n",
    "    modulation_name = mods[idx]\n",
    "    tges_sig[i].Draw(\"APE same\")\n",
    "    \n",
    "    line.Draw(\"same\")\n",
    "c.Draw()"
   ]
  },
  {
   "cell_type": "code",
   "execution_count": null,
   "id": "amino-walker",
   "metadata": {},
   "outputs": [],
   "source": []
  }
 ],
 "metadata": {
  "kernelspec": {
   "display_name": "Python 3",
   "language": "python",
   "name": "python3"
  },
  "language_info": {
   "codemirror_mode": {
    "name": "ipython",
    "version": 3
   },
   "file_extension": ".py",
   "mimetype": "text/x-python",
   "name": "python",
   "nbconvert_exporter": "python",
   "pygments_lexer": "ipython3",
   "version": "3.8.6"
  }
 },
 "nbformat": 4,
 "nbformat_minor": 5
}
