{
 "cells": [
  {
   "cell_type": "code",
   "execution_count": 1,
   "id": "personal-nation",
   "metadata": {},
   "outputs": [
    {
     "name": "stdout",
     "output_type": "stream",
     "text": [
      "Welcome to JupyROOT 6.22/06\n"
     ]
    }
   ],
   "source": [
    "import ROOT\n",
    "%run ./toolkit/kin_tools.ipynb"
   ]
  },
  {
   "cell_type": "code",
   "execution_count": 2,
   "id": "amazing-portland",
   "metadata": {},
   "outputs": [
    {
     "name": "stdout",
     "output_type": "stream",
     "text": [
      "['x', 'y', 'Q2', 'W', 'Mmiss', 'Ptmiss', 'Ee', 'Pp', 'Epiplus', 'thetae', 'thetap', 'thetap_predict', 'phie', 'phip', 'vze', 'vzp', 'pte', 'p_e:theta_e', 'p_p:theta_p', 'Dy', 'Dy:xB']\n"
     ]
    }
   ],
   "source": [
    "print(draw_options())"
   ]
  },
  {
   "cell_type": "code",
   "execution_count": null,
   "id": "operating-treasury",
   "metadata": {},
   "outputs": [],
   "source": [
    "tfile = ROOT.TFile(\"/volatile/clas12/users/gmat/clas12analysis.sidis.data/rg-a/aug23/merged_aug23.root\",\"READ\")\n",
    "tfile.Get(\"tree_postprocess\").Print()"
   ]
  },
  {
   "cell_type": "markdown",
   "id": "diverse-hayes",
   "metadata": {},
   "source": [
    "# Elastic Scattering Data\n",
    "---\n",
    "From the gmn train"
   ]
  },
  {
   "cell_type": "code",
   "execution_count": 18,
   "id": "ambient-football",
   "metadata": {},
   "outputs": [
    {
     "name": "stdout",
     "output_type": "stream",
     "text": [
      "Directory 'plots/kin/sept1_elastic' already exists...Continuing...\n"
     ]
    }
   ],
   "source": [
    "create_kin_plots(rootdir_data = \"/volatile/clas12/users/gmat/clas12analysis.sidis.data/rgc-su-train/sept1_elastic/\",\n",
    "                     rootdir_MC = \"\",\n",
    "                     target = \"NH3\",\n",
    "                     runMin = 16700,\n",
    "                     runMax = 16771,\n",
    "                     runList = [],\n",
    "                     plotList = [\"x\",\"y\",\"Q2\",\"W\",\n",
    "                                 \"Mmiss\",\"Ptmiss\",\"thetap_predict\",\"pte\",\n",
    "                                 \"Ee\",\"thetae\",\"phie\",\"p_e:theta_e\",\n",
    "                                 \"Pp\",\"thetap\",\"phip\",\"p_p:theta_p\",\n",
    "                                 \"vze\",\"vzp\"],\n",
    "                     outdir = \"sept1_elastic\")"
   ]
  },
  {
   "cell_type": "markdown",
   "id": "atomic-assistant",
   "metadata": {},
   "source": [
    "With exclusive cuts placed"
   ]
  },
  {
   "cell_type": "code",
   "execution_count": 19,
   "id": "elementary-student",
   "metadata": {},
   "outputs": [
    {
     "name": "stdout",
     "output_type": "stream",
     "text": [
      "Creating directory 'plots/kin/sept1_elastic_cuts'\n"
     ]
    }
   ],
   "source": [
    "create_kin_plots(rootdir_data = \"/volatile/clas12/users/gmat/clas12analysis.sidis.data/rgc-su-train/sept1_elastic/\",\n",
    "                     rootdir_MC = \"\",\n",
    "                     target = \"NH3\",\n",
    "                     runMin = 16700,\n",
    "                     runMax = 16771,\n",
    "                     runList = [],\n",
    "                     plotList = [\"x\",\"y\",\"Q2\",\"W\",\n",
    "                                 \"Mmiss\",\"Ptmiss\",\"thetap_predict\",\"pte\",\n",
    "                                 \"Ee\",\"thetae\",\"phie\",\"p_e:theta_e\",\n",
    "                                 \"Pp\",\"thetap\",\"phip\",\"p_p:theta_p\",\n",
    "                                 \"vze\",\"vzp\"],\n",
    "                     outdir = \"sept1_elastic_cuts\",\n",
    "                     #cuts = [\"W > 0.84 && W < 1.02\",\"abs(Ptmiss)<0.05\",\"abs(th_p_predict*180/3.1415)<1.1\"])\n",
    "                     cuts = [\"W > 0.84 && W < 1.02\",\"abs(Ptmiss)<0.05\",\"abs(th_p_predict*180/3.1415)<1.1\"])"
   ]
  },
  {
   "cell_type": "markdown",
   "id": "through-study",
   "metadata": {},
   "source": [
    "# Inclusive Scattering Data\n",
    "---"
   ]
  },
  {
   "cell_type": "code",
   "execution_count": 4,
   "id": "subsequent-space",
   "metadata": {},
   "outputs": [
    {
     "name": "stdout",
     "output_type": "stream",
     "text": [
      "Directory 'plots/kin/sept5_inclusive' already exists...Continuing...\n",
      "ERROR: get_files() found a .root file (run 16755 ) without a tree_reco...skipping...\n",
      "ERROR: get_files() found a **MONTECARLO** .root file without a tree_reco...skipping...\n"
     ]
    }
   ],
   "source": [
    "%run ./toolkit/kin_tools.ipynb\n",
    "\n",
    "create_kin_plots(rootdir_data = \"/volatile/clas12/users/gmat/clas12analysis.sidis.data/rgc-su-train/sept1_inclusive/\",\n",
    "                     rootdir_MC = \"/volatile/clas12/users/gmat/clas12analysis.sidis.data/rgc-mc/sept1_mc_inclusive/sept1_mc_inclusive_*_proton_*.root\",\n",
    "                     target = \"NH3\",\n",
    "                     runMin = 16700,\n",
    "                     runMax = 16771,\n",
    "                     runList = [],\n",
    "                     plotList = [\"x\",\"y\",\"Q2\",\"W\",\n",
    "                                \"Ee\",\"thetae\",\"phie\",\"vze\",\n",
    "                                \"Dy\",\"Dy:xB\"],\n",
    "                     outdir = \"sept5_inclusive\",\n",
    "                     cuts = [\"p_e > 2.6 && th_e > 0.14 && th_e < 0.611 && abs(vz_e+4.5) < 4\"])"
   ]
  },
  {
   "cell_type": "code",
   "execution_count": null,
   "id": "ultimate-casino",
   "metadata": {},
   "outputs": [],
   "source": []
  }
 ],
 "metadata": {
  "kernelspec": {
   "display_name": "Python 3",
   "language": "python",
   "name": "python3"
  },
  "language_info": {
   "codemirror_mode": {
    "name": "ipython",
    "version": 3
   },
   "file_extension": ".py",
   "mimetype": "text/x-python",
   "name": "python",
   "nbconvert_exporter": "python",
   "pygments_lexer": "ipython3",
   "version": "3.8.6"
  }
 },
 "nbformat": 4,
 "nbformat_minor": 5
}
