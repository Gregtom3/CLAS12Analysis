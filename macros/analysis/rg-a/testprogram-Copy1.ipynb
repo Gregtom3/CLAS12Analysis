{
 "cells": [
  {
   "cell_type": "code",
   "execution_count": 1,
   "id": "acknowledged-limitation",
   "metadata": {},
   "outputs": [
    {
     "name": "stdout",
     "output_type": "stream",
     "text": [
      "Welcome to JupyROOT 6.22/06\n"
     ]
    }
   ],
   "source": [
    "import ROOT\n",
    "%run ./toolkit/binner.ipynb\n",
    "%run ./toolkit/fitter.ipynb"
   ]
  },
  {
   "cell_type": "markdown",
   "id": "secondary-binding",
   "metadata": {},
   "source": [
    "# Creating Binnings\n",
    "---"
   ]
  },
  {
   "cell_type": "markdown",
   "id": "premium-bunny",
   "metadata": {},
   "source": [
    "Input File (Merged from many parallel runs of CLAS12Analysis)"
   ]
  },
  {
   "cell_type": "code",
   "execution_count": 2,
   "id": "typical-omaha",
   "metadata": {},
   "outputs": [],
   "source": [
    "infile = \"/volatile/clas12/users/gmat/clas12analysis.sidis.data/rga/MC/testall/merged_run.root\""
   ]
  },
  {
   "cell_type": "markdown",
   "id": "warming-johnson",
   "metadata": {},
   "source": [
    "Create the bingrids"
   ]
  },
  {
   "cell_type": "code",
   "execution_count": 3,
   "id": "historical-relation",
   "metadata": {},
   "outputs": [],
   "source": [
    "bc1=BinGrid()\n",
    "bc1.setBins(\"x\",[0.1,0.13,0.16,0.19,0.235,0.3,0.5])\n",
    "bc2=BinGrid()\n",
    "bc2.setBins(\"z\",[0.35,0.43,0.49,0.55,0.62,0.7,0.83])\n",
    "bc3=BinGrid()\n",
    "bc3.setBins(\"Mdihadron\",np.linspace(0.3,1.3,8))"
   ]
  },
  {
   "cell_type": "markdown",
   "id": "relative-tablet",
   "metadata": {},
   "source": [
    "Create Binnify master class which stores multiple bin grids"
   ]
  },
  {
   "cell_type": "code",
   "execution_count": 4,
   "id": "industrial-challenge",
   "metadata": {},
   "outputs": [],
   "source": [
    "BINNIFY=Binnify(\"reco\",infile,\"tree_postprocess\")\n",
    "BINNIFY.addGrid(bc1)\n",
    "BINNIFY.addGrid(bc2)\n",
    "BINNIFY.addGrid(bc3)"
   ]
  },
  {
   "cell_type": "markdown",
   "id": "agreed-hobby",
   "metadata": {},
   "source": [
    "Executing binning program, splitting merged TTree into smaller bins"
   ]
  },
  {
   "cell_type": "code",
   "execution_count": 5,
   "id": "former-hamburg",
   "metadata": {},
   "outputs": [
    {
     "name": "stdout",
     "output_type": "stream",
     "text": [
      "Completed 10000\n",
      "Completed 20000\n",
      "Completed 30000\n",
      "Completed 40000\n",
      "Completed 50000\n",
      "Completed 60000\n",
      "Completed 70000\n",
      "Completed 80000\n",
      "Completed 90000\n",
      "Completed 100000\n",
      "Completed 110000\n",
      "Completed 120000\n",
      "Completed 130000\n",
      "Completed 140000\n",
      "Completed 150000\n",
      "Completed 160000\n",
      "Completed 170000\n",
      "Completed 180000\n",
      "Completed 190000\n",
      "Completed 200000\n",
      "Completed 210000\n",
      "Completed 220000\n",
      "Completed 230000\n",
      "Completed 240000\n",
      "Completed 250000\n",
      "Completed 260000\n",
      "Completed 270000\n",
      "Completed 280000\n",
      "Completed 290000\n",
      "Completed 300000\n",
      "Completed 310000\n",
      "Completed 320000\n",
      "Completed 330000\n",
      "Completed 340000\n",
      "Completed 350000\n",
      "353153\n"
     ]
    }
   ],
   "source": [
    "BINNIFY.Binnify()"
   ]
  },
  {
   "cell_type": "markdown",
   "id": "dental-scratch",
   "metadata": {},
   "source": [
    "Test output"
   ]
  },
  {
   "cell_type": "code",
   "execution_count": 10,
   "id": "intensive-camcorder",
   "metadata": {},
   "outputs": [
    {
     "name": "stdout",
     "output_type": "stream",
     "text": [
      "TFile**\t\t/volatile/clas12/users/gmat/clas12analysis.sidis.data/rga/nSidis/testmedium/merged_run_binned.root\t\n",
      " TFile*\t\t/volatile/clas12/users/gmat/clas12analysis.sidis.data/rga/nSidis/testmedium/merged_run_binned.root\t\n",
      "  KEY: TTree\tbin1d_x_0.1_0.13;1\tBinned TTree\n",
      "  KEY: TTree\tbin1d_x_0.13_0.16;1\tBinned TTree\n",
      "  KEY: TTree\tbin1d_x_0.16_0.19;1\tBinned TTree\n",
      "  KEY: TTree\tbin1d_x_0.19_0.235;1\tBinned TTree\n",
      "  KEY: TTree\tbin1d_x_0.235_0.3;1\tBinned TTree\n",
      "  KEY: TTree\tbin1d_x_0.3_0.5;1\tBinned TTree\n",
      "  KEY: TTree\tbin1d_z_0.35_0.43;1\tBinned TTree\n",
      "  KEY: TTree\tbin1d_z_0.43_0.49;1\tBinned TTree\n",
      "  KEY: TTree\tbin1d_z_0.49_0.55;1\tBinned TTree\n",
      "  KEY: TTree\tbin1d_z_0.55_0.62;1\tBinned TTree\n",
      "  KEY: TTree\tbin1d_z_0.62_0.7;1\tBinned TTree\n",
      "  KEY: TTree\tbin1d_z_0.7_0.83;1\tBinned TTree\n",
      "  KEY: TTree\tbin1d_Mdihadron_0.3_0.44285714285714284;1\tBinned TTree\n",
      "  KEY: TTree\tbin1d_Mdihadron_0.44285714285714284_0.5857142857142856;1\tBinned TTree\n",
      "  KEY: TTree\tbin1d_Mdihadron_0.5857142857142856_0.7285714285714285;1\tBinned TTree\n",
      "  KEY: TTree\tbin1d_Mdihadron_0.7285714285714285_0.8714285714285714;1\tBinned TTree\n",
      "  KEY: TTree\tbin1d_Mdihadron_0.8714285714285714_1.0142857142857142;1\tBinned TTree\n",
      "  KEY: TTree\tbin1d_Mdihadron_1.0142857142857142_1.157142857142857;1\tBinned TTree\n",
      "  KEY: TTree\tbin1d_Mdihadron_1.157142857142857_1.3;1\tBinned TTree\n"
     ]
    },
    {
     "name": "stderr",
     "output_type": "stream",
     "text": [
      "Warning in <TCanvas::Constructor>: Deleting canvas with same name: c\n"
     ]
    },
    {
     "data": {
      "image/png": "[encoded data removed]",
      "text/plain": [
       "<IPython.core.display.Image object>"
      ]
     },
     "metadata": {},
     "output_type": "display_data"
    }
   ],
   "source": [
    "outfile=ROOT.TFile(\"/volatile/clas12/users/gmat/clas12analysis.sidis.data/rga/nSidis/testmedium/merged_run_binned.root\",\"READ\")\n",
    "outfile.ls()\n",
    "\n",
    "t=outfile.Get(\"bin1d_z_0.7_0.83\")\n",
    "\n",
    "c=ROOT.TCanvas(\"c\",\"c\",600,600)\n",
    "ROOT.gStyle.SetPalette(ROOT.kRainBow)\n",
    "t.Draw(\"z\",\"\",\"same PLC\")\n",
    "t.Draw(\"truez\",\"\",\"same PLC\")\n",
    "\n",
    "c.Draw()"
   ]
  },
  {
   "cell_type": "code",
   "execution_count": 4,
   "id": "polyphonic-soundtrack",
   "metadata": {},
   "outputs": [],
   "source": [
    "f=Fittify(\"/volatile/clas12/users/gmat/clas12analysis.sidis.data/rga/nSidis/testall/merged_run_binned_save.root\",1)"
   ]
  },
  {
   "cell_type": "code",
   "execution_count": 4,
   "id": "purple-rugby",
   "metadata": {},
   "outputs": [
    {
     "data": {
      "text/html": [
       "<div>\n",
       "<style scoped>\n",
       "    .dataframe tbody tr th:only-of-type {\n",
       "        vertical-align: middle;\n",
       "    }\n",
       "\n",
       "    .dataframe tbody tr th {\n",
       "        vertical-align: top;\n",
       "    }\n",
       "\n",
       "    .dataframe thead th {\n",
       "        text-align: right;\n",
       "    }\n",
       "</style>\n",
       "<table border=\"1\" class=\"dataframe\">\n",
       "  <thead>\n",
       "    <tr style=\"text-align: right;\">\n",
       "      <th></th>\n",
       "      <th>sigParam0_u3</th>\n",
       "      <th>bintype1</th>\n",
       "      <th>binlower1</th>\n",
       "      <th>binupper1</th>\n",
       "    </tr>\n",
       "  </thead>\n",
       "  <tbody>\n",
       "    <tr>\n",
       "      <th>0</th>\n",
       "      <td>0.003407</td>\n",
       "      <td>x</td>\n",
       "      <td>0.300000</td>\n",
       "      <td>0.500000</td>\n",
       "    </tr>\n",
       "    <tr>\n",
       "      <th>1</th>\n",
       "      <td>0.003407</td>\n",
       "      <td>x</td>\n",
       "      <td>0.300000</td>\n",
       "      <td>0.500000</td>\n",
       "    </tr>\n",
       "    <tr>\n",
       "      <th>2</th>\n",
       "      <td>0.004243</td>\n",
       "      <td>z</td>\n",
       "      <td>0.700000</td>\n",
       "      <td>0.830000</td>\n",
       "    </tr>\n",
       "    <tr>\n",
       "      <th>3</th>\n",
       "      <td>0.004243</td>\n",
       "      <td>z</td>\n",
       "      <td>0.700000</td>\n",
       "      <td>0.830000</td>\n",
       "    </tr>\n",
       "    <tr>\n",
       "      <th>4</th>\n",
       "      <td>0.010776</td>\n",
       "      <td>x</td>\n",
       "      <td>0.235000</td>\n",
       "      <td>0.300000</td>\n",
       "    </tr>\n",
       "    <tr>\n",
       "      <th>5</th>\n",
       "      <td>0.010776</td>\n",
       "      <td>x</td>\n",
       "      <td>0.235000</td>\n",
       "      <td>0.300000</td>\n",
       "    </tr>\n",
       "    <tr>\n",
       "      <th>6</th>\n",
       "      <td>0.004304</td>\n",
       "      <td>z</td>\n",
       "      <td>0.620000</td>\n",
       "      <td>0.700000</td>\n",
       "    </tr>\n",
       "    <tr>\n",
       "      <th>7</th>\n",
       "      <td>0.004304</td>\n",
       "      <td>z</td>\n",
       "      <td>0.620000</td>\n",
       "      <td>0.700000</td>\n",
       "    </tr>\n",
       "    <tr>\n",
       "      <th>8</th>\n",
       "      <td>0.021182</td>\n",
       "      <td>Mdihadron</td>\n",
       "      <td>0.728571</td>\n",
       "      <td>0.871429</td>\n",
       "    </tr>\n",
       "    <tr>\n",
       "      <th>9</th>\n",
       "      <td>0.021182</td>\n",
       "      <td>Mdihadron</td>\n",
       "      <td>0.728571</td>\n",
       "      <td>0.871429</td>\n",
       "    </tr>\n",
       "    <tr>\n",
       "      <th>10</th>\n",
       "      <td>0.000342</td>\n",
       "      <td>x</td>\n",
       "      <td>0.190000</td>\n",
       "      <td>0.235000</td>\n",
       "    </tr>\n",
       "    <tr>\n",
       "      <th>11</th>\n",
       "      <td>0.000342</td>\n",
       "      <td>x</td>\n",
       "      <td>0.190000</td>\n",
       "      <td>0.235000</td>\n",
       "    </tr>\n",
       "    <tr>\n",
       "      <th>12</th>\n",
       "      <td>0.010068</td>\n",
       "      <td>z</td>\n",
       "      <td>0.550000</td>\n",
       "      <td>0.620000</td>\n",
       "    </tr>\n",
       "    <tr>\n",
       "      <th>13</th>\n",
       "      <td>0.010068</td>\n",
       "      <td>z</td>\n",
       "      <td>0.550000</td>\n",
       "      <td>0.620000</td>\n",
       "    </tr>\n",
       "    <tr>\n",
       "      <th>14</th>\n",
       "      <td>-0.014586</td>\n",
       "      <td>Mdihadron</td>\n",
       "      <td>0.300000</td>\n",
       "      <td>0.442857</td>\n",
       "    </tr>\n",
       "    <tr>\n",
       "      <th>15</th>\n",
       "      <td>-0.014586</td>\n",
       "      <td>Mdihadron</td>\n",
       "      <td>0.300000</td>\n",
       "      <td>0.442857</td>\n",
       "    </tr>\n",
       "    <tr>\n",
       "      <th>16</th>\n",
       "      <td>0.004014</td>\n",
       "      <td>Mdihadron</td>\n",
       "      <td>0.585714</td>\n",
       "      <td>0.728571</td>\n",
       "    </tr>\n",
       "    <tr>\n",
       "      <th>17</th>\n",
       "      <td>0.004014</td>\n",
       "      <td>Mdihadron</td>\n",
       "      <td>0.585714</td>\n",
       "      <td>0.728571</td>\n",
       "    </tr>\n",
       "    <tr>\n",
       "      <th>18</th>\n",
       "      <td>0.003312</td>\n",
       "      <td>Mdihadron</td>\n",
       "      <td>0.871429</td>\n",
       "      <td>1.014286</td>\n",
       "    </tr>\n",
       "    <tr>\n",
       "      <th>19</th>\n",
       "      <td>0.003312</td>\n",
       "      <td>Mdihadron</td>\n",
       "      <td>0.871429</td>\n",
       "      <td>1.014286</td>\n",
       "    </tr>\n",
       "    <tr>\n",
       "      <th>20</th>\n",
       "      <td>0.015387</td>\n",
       "      <td>z</td>\n",
       "      <td>0.490000</td>\n",
       "      <td>0.550000</td>\n",
       "    </tr>\n",
       "    <tr>\n",
       "      <th>21</th>\n",
       "      <td>0.015387</td>\n",
       "      <td>z</td>\n",
       "      <td>0.490000</td>\n",
       "      <td>0.550000</td>\n",
       "    </tr>\n",
       "    <tr>\n",
       "      <th>22</th>\n",
       "      <td>0.004168</td>\n",
       "      <td>x</td>\n",
       "      <td>0.160000</td>\n",
       "      <td>0.190000</td>\n",
       "    </tr>\n",
       "    <tr>\n",
       "      <th>23</th>\n",
       "      <td>0.004168</td>\n",
       "      <td>x</td>\n",
       "      <td>0.160000</td>\n",
       "      <td>0.190000</td>\n",
       "    </tr>\n",
       "    <tr>\n",
       "      <th>24</th>\n",
       "      <td>0.007913</td>\n",
       "      <td>x</td>\n",
       "      <td>0.130000</td>\n",
       "      <td>0.160000</td>\n",
       "    </tr>\n",
       "    <tr>\n",
       "      <th>25</th>\n",
       "      <td>0.007913</td>\n",
       "      <td>x</td>\n",
       "      <td>0.130000</td>\n",
       "      <td>0.160000</td>\n",
       "    </tr>\n",
       "    <tr>\n",
       "      <th>26</th>\n",
       "      <td>-0.022907</td>\n",
       "      <td>Mdihadron</td>\n",
       "      <td>0.442857</td>\n",
       "      <td>0.585714</td>\n",
       "    </tr>\n",
       "    <tr>\n",
       "      <th>27</th>\n",
       "      <td>-0.022907</td>\n",
       "      <td>Mdihadron</td>\n",
       "      <td>0.442857</td>\n",
       "      <td>0.585714</td>\n",
       "    </tr>\n",
       "    <tr>\n",
       "      <th>28</th>\n",
       "      <td>0.011978</td>\n",
       "      <td>x</td>\n",
       "      <td>0.100000</td>\n",
       "      <td>0.130000</td>\n",
       "    </tr>\n",
       "    <tr>\n",
       "      <th>29</th>\n",
       "      <td>0.011978</td>\n",
       "      <td>x</td>\n",
       "      <td>0.100000</td>\n",
       "      <td>0.130000</td>\n",
       "    </tr>\n",
       "    <tr>\n",
       "      <th>30</th>\n",
       "      <td>0.019437</td>\n",
       "      <td>z</td>\n",
       "      <td>0.430000</td>\n",
       "      <td>0.490000</td>\n",
       "    </tr>\n",
       "    <tr>\n",
       "      <th>31</th>\n",
       "      <td>0.019437</td>\n",
       "      <td>z</td>\n",
       "      <td>0.430000</td>\n",
       "      <td>0.490000</td>\n",
       "    </tr>\n",
       "    <tr>\n",
       "      <th>32</th>\n",
       "      <td>0.002777</td>\n",
       "      <td>Mdihadron</td>\n",
       "      <td>1.014286</td>\n",
       "      <td>1.157143</td>\n",
       "    </tr>\n",
       "    <tr>\n",
       "      <th>33</th>\n",
       "      <td>0.002777</td>\n",
       "      <td>Mdihadron</td>\n",
       "      <td>1.014286</td>\n",
       "      <td>1.157143</td>\n",
       "    </tr>\n",
       "    <tr>\n",
       "      <th>34</th>\n",
       "      <td>0.005219</td>\n",
       "      <td>Mdihadron</td>\n",
       "      <td>1.157143</td>\n",
       "      <td>1.300000</td>\n",
       "    </tr>\n",
       "    <tr>\n",
       "      <th>35</th>\n",
       "      <td>0.005219</td>\n",
       "      <td>Mdihadron</td>\n",
       "      <td>1.157143</td>\n",
       "      <td>1.300000</td>\n",
       "    </tr>\n",
       "    <tr>\n",
       "      <th>36</th>\n",
       "      <td>-0.000256</td>\n",
       "      <td>z</td>\n",
       "      <td>0.350000</td>\n",
       "      <td>0.430000</td>\n",
       "    </tr>\n",
       "    <tr>\n",
       "      <th>37</th>\n",
       "      <td>-0.000256</td>\n",
       "      <td>z</td>\n",
       "      <td>0.350000</td>\n",
       "      <td>0.430000</td>\n",
       "    </tr>\n",
       "  </tbody>\n",
       "</table>\n",
       "</div>"
      ],
      "text/plain": [
       "    sigParam0_u3   bintype1  binlower1  binupper1\n",
       "0       0.003407          x   0.300000   0.500000\n",
       "1       0.003407          x   0.300000   0.500000\n",
       "2       0.004243          z   0.700000   0.830000\n",
       "3       0.004243          z   0.700000   0.830000\n",
       "4       0.010776          x   0.235000   0.300000\n",
       "5       0.010776          x   0.235000   0.300000\n",
       "6       0.004304          z   0.620000   0.700000\n",
       "7       0.004304          z   0.620000   0.700000\n",
       "8       0.021182  Mdihadron   0.728571   0.871429\n",
       "9       0.021182  Mdihadron   0.728571   0.871429\n",
       "10      0.000342          x   0.190000   0.235000\n",
       "11      0.000342          x   0.190000   0.235000\n",
       "12      0.010068          z   0.550000   0.620000\n",
       "13      0.010068          z   0.550000   0.620000\n",
       "14     -0.014586  Mdihadron   0.300000   0.442857\n",
       "15     -0.014586  Mdihadron   0.300000   0.442857\n",
       "16      0.004014  Mdihadron   0.585714   0.728571\n",
       "17      0.004014  Mdihadron   0.585714   0.728571\n",
       "18      0.003312  Mdihadron   0.871429   1.014286\n",
       "19      0.003312  Mdihadron   0.871429   1.014286\n",
       "20      0.015387          z   0.490000   0.550000\n",
       "21      0.015387          z   0.490000   0.550000\n",
       "22      0.004168          x   0.160000   0.190000\n",
       "23      0.004168          x   0.160000   0.190000\n",
       "24      0.007913          x   0.130000   0.160000\n",
       "25      0.007913          x   0.130000   0.160000\n",
       "26     -0.022907  Mdihadron   0.442857   0.585714\n",
       "27     -0.022907  Mdihadron   0.442857   0.585714\n",
       "28      0.011978          x   0.100000   0.130000\n",
       "29      0.011978          x   0.100000   0.130000\n",
       "30      0.019437          z   0.430000   0.490000\n",
       "31      0.019437          z   0.430000   0.490000\n",
       "32      0.002777  Mdihadron   1.014286   1.157143\n",
       "33      0.002777  Mdihadron   1.014286   1.157143\n",
       "34      0.005219  Mdihadron   1.157143   1.300000\n",
       "35      0.005219  Mdihadron   1.157143   1.300000\n",
       "36     -0.000256          z   0.350000   0.430000\n",
       "37     -0.000256          z   0.350000   0.430000"
      ]
     },
     "execution_count": 4,
     "metadata": {},
     "output_type": "execute_result"
    }
   ],
   "source": [
    "f.df_sdbnd[[\"sigParam0_u3\",\"bintype1\",\"binlower1\",\"binupper1\"]]"
   ]
  },
  {
   "cell_type": "code",
   "execution_count": 5,
   "id": "french-trinity",
   "metadata": {},
   "outputs": [],
   "source": [
    "name=\"Mdihadron\"\n",
    "x=0.5*(f.df_sdbnd[f.df_sdbnd.bintype1==name].binlower1 + f.df_sdbnd[f.df_sdbnd.bintype1==name].binupper1)\n",
    "y=f.df_sdbnd[f.df_sdbnd.bintype1==name].sigParam0_u3\n",
    "yerr=f.df_sdbnd[f.df_sdbnd.bintype1==name].sigError0_u3"
   ]
  },
  {
   "cell_type": "code",
   "execution_count": 6,
   "id": "needed-murder",
   "metadata": {},
   "outputs": [
    {
     "name": "stderr",
     "output_type": "stream",
     "text": [
      "Matplotlib created a temporary config/cache directory at /tmp/matplotlib-urt7wl85 because the default path (/home/jovyan/.cache/matplotlib) is not a writable directory; it is highly recommended to set the MPLCONFIGDIR environment variable to a writable directory, in particular to speed up the import of Matplotlib and to better support multiprocessing.\n"
     ]
    }
   ],
   "source": [
    "import matplotlib.pyplot as plt"
   ]
  },
  {
   "cell_type": "code",
   "execution_count": 7,
   "id": "knowing-breathing",
   "metadata": {},
   "outputs": [
    {
     "data": {
      "text/plain": [
       "<ErrorbarContainer object of 3 artists>"
      ]
     },
     "execution_count": 7,
     "metadata": {},
     "output_type": "execute_result"
    },
    {
     "data": {
      "image/png": "[encoded data removed]",
      "text/plain": [
       "<Figure size 432x288 with 1 Axes>"
      ]
     },
     "metadata": {
      "needs_background": "light"
     },
     "output_type": "display_data"
    }
   ],
   "source": [
    "plt.errorbar(x,y,yerr,fmt=\".\")"
   ]
  },
  {
   "cell_type": "code",
   "execution_count": 2,
   "id": "graphic-camel",
   "metadata": {},
   "outputs": [
    {
     "name": "stdout",
     "output_type": "stream",
     "text": [
      "TFile**\t\t/volatile/clas12/users/gmat/clas12analysis.sidis.data/rg-a/sept19_beta_0.02/asymmetry.root\t\n",
      " TFile*\t\t/volatile/clas12/users/gmat/clas12analysis.sidis.data/rg-a/sept19_beta_0.02/asymmetry.root\t\n",
      "  KEY: TGraphErrors\tsideband_x_sig_0;1\tGraph\n",
      "  KEY: TGraphErrors\tsideband_x_sigbg_0;1\tGraph\n",
      "  KEY: TGraphErrors\tsideband_x_bg_0;1\tGraph\n",
      "  KEY: TGraphErrors\tsplot_x_sig_0;1\tGraph\n",
      "  KEY: TGraphErrors\tsplot_x_sigbg_0;1\tGraph\n",
      "  KEY: TGraphErrors\tsplot_x_bg_0;1\tGraph\n",
      "  KEY: TGraphErrors\tsideband_x_sig_1;1\tGraph\n",
      "  KEY: TGraphErrors\tsideband_x_sigbg_1;1\tGraph\n",
      "  KEY: TGraphErrors\tsideband_x_bg_1;1\tGraph\n",
      "  KEY: TGraphErrors\tsplot_x_sig_1;1\tGraph\n",
      "  KEY: TGraphErrors\tsplot_x_sigbg_1;1\tGraph\n",
      "  KEY: TGraphErrors\tsplot_x_bg_1;1\tGraph\n",
      "  KEY: TGraphErrors\tsideband_x_sig_2;1\tGraph\n",
      "  KEY: TGraphErrors\tsideband_x_sigbg_2;1\tGraph\n",
      "  KEY: TGraphErrors\tsideband_x_bg_2;1\tGraph\n",
      "  KEY: TGraphErrors\tsplot_x_sig_2;1\tGraph\n",
      "  KEY: TGraphErrors\tsplot_x_sigbg_2;1\tGraph\n",
      "  KEY: TGraphErrors\tsplot_x_bg_2;1\tGraph\n",
      "  KEY: TGraphErrors\tsideband_x_sig_3;1\tGraph\n",
      "  KEY: TGraphErrors\tsideband_x_sigbg_3;1\tGraph\n",
      "  KEY: TGraphErrors\tsideband_x_bg_3;1\tGraph\n",
      "  KEY: TGraphErrors\tsplot_x_sig_3;1\tGraph\n",
      "  KEY: TGraphErrors\tsplot_x_sigbg_3;1\tGraph\n",
      "  KEY: TGraphErrors\tsplot_x_bg_3;1\tGraph\n",
      "  KEY: TGraphErrors\tsideband_x_sig_4;1\tGraph\n",
      "  KEY: TGraphErrors\tsideband_x_sigbg_4;1\tGraph\n",
      "  KEY: TGraphErrors\tsideband_x_bg_4;1\tGraph\n",
      "  KEY: TGraphErrors\tsplot_x_sig_4;1\tGraph\n",
      "  KEY: TGraphErrors\tsplot_x_sigbg_4;1\tGraph\n",
      "  KEY: TGraphErrors\tsplot_x_bg_4;1\tGraph\n",
      "  KEY: TGraphErrors\tsideband_x_sig_5;1\tGraph\n",
      "  KEY: TGraphErrors\tsideband_x_sigbg_5;1\tGraph\n",
      "  KEY: TGraphErrors\tsideband_x_bg_5;1\tGraph\n",
      "  KEY: TGraphErrors\tsplot_x_sig_5;1\tGraph\n",
      "  KEY: TGraphErrors\tsplot_x_sigbg_5;1\tGraph\n",
      "  KEY: TGraphErrors\tsplot_x_bg_5;1\tGraph\n",
      "  KEY: TGraphErrors\tsideband_x_sig_6;1\tGraph\n",
      "  KEY: TGraphErrors\tsideband_x_sigbg_6;1\tGraph\n",
      "  KEY: TGraphErrors\tsideband_x_bg_6;1\tGraph\n",
      "  KEY: TGraphErrors\tsplot_x_sig_6;1\tGraph\n",
      "  KEY: TGraphErrors\tsplot_x_sigbg_6;1\tGraph\n",
      "  KEY: TGraphErrors\tsplot_x_bg_6;1\tGraph\n",
      "  KEY: TGraphErrors\tsideband_z_sig_0;1\tGraph\n",
      "  KEY: TGraphErrors\tsideband_z_sigbg_0;1\tGraph\n",
      "  KEY: TGraphErrors\tsideband_z_bg_0;1\tGraph\n",
      "  KEY: TGraphErrors\tsplot_z_sig_0;1\tGraph\n",
      "  KEY: TGraphErrors\tsplot_z_sigbg_0;1\tGraph\n",
      "  KEY: TGraphErrors\tsplot_z_bg_0;1\tGraph\n",
      "  KEY: TGraphErrors\tsideband_z_sig_1;1\tGraph\n",
      "  KEY: TGraphErrors\tsideband_z_sigbg_1;1\tGraph\n",
      "  KEY: TGraphErrors\tsideband_z_bg_1;1\tGraph\n",
      "  KEY: TGraphErrors\tsplot_z_sig_1;1\tGraph\n",
      "  KEY: TGraphErrors\tsplot_z_sigbg_1;1\tGraph\n",
      "  KEY: TGraphErrors\tsplot_z_bg_1;1\tGraph\n",
      "  KEY: TGraphErrors\tsideband_z_sig_2;1\tGraph\n",
      "  KEY: TGraphErrors\tsideband_z_sigbg_2;1\tGraph\n",
      "  KEY: TGraphErrors\tsideband_z_bg_2;1\tGraph\n",
      "  KEY: TGraphErrors\tsplot_z_sig_2;1\tGraph\n",
      "  KEY: TGraphErrors\tsplot_z_sigbg_2;1\tGraph\n",
      "  KEY: TGraphErrors\tsplot_z_bg_2;1\tGraph\n",
      "  KEY: TGraphErrors\tsideband_z_sig_3;1\tGraph\n",
      "  KEY: TGraphErrors\tsideband_z_sigbg_3;1\tGraph\n",
      "  KEY: TGraphErrors\tsideband_z_bg_3;1\tGraph\n",
      "  KEY: TGraphErrors\tsplot_z_sig_3;1\tGraph\n",
      "  KEY: TGraphErrors\tsplot_z_sigbg_3;1\tGraph\n",
      "  KEY: TGraphErrors\tsplot_z_bg_3;1\tGraph\n",
      "  KEY: TGraphErrors\tsideband_z_sig_4;1\tGraph\n",
      "  KEY: TGraphErrors\tsideband_z_sigbg_4;1\tGraph\n",
      "  KEY: TGraphErrors\tsideband_z_bg_4;1\tGraph\n",
      "  KEY: TGraphErrors\tsplot_z_sig_4;1\tGraph\n",
      "  KEY: TGraphErrors\tsplot_z_sigbg_4;1\tGraph\n",
      "  KEY: TGraphErrors\tsplot_z_bg_4;1\tGraph\n",
      "  KEY: TGraphErrors\tsideband_z_sig_5;1\tGraph\n",
      "  KEY: TGraphErrors\tsideband_z_sigbg_5;1\tGraph\n",
      "  KEY: TGraphErrors\tsideband_z_bg_5;1\tGraph\n",
      "  KEY: TGraphErrors\tsplot_z_sig_5;1\tGraph\n",
      "  KEY: TGraphErrors\tsplot_z_sigbg_5;1\tGraph\n",
      "  KEY: TGraphErrors\tsplot_z_bg_5;1\tGraph\n",
      "  KEY: TGraphErrors\tsideband_z_sig_6;1\tGraph\n",
      "  KEY: TGraphErrors\tsideband_z_sigbg_6;1\tGraph\n",
      "  KEY: TGraphErrors\tsideband_z_bg_6;1\tGraph\n",
      "  KEY: TGraphErrors\tsplot_z_sig_6;1\tGraph\n",
      "  KEY: TGraphErrors\tsplot_z_sigbg_6;1\tGraph\n",
      "  KEY: TGraphErrors\tsplot_z_bg_6;1\tGraph\n",
      "  KEY: TGraphErrors\tsideband_Mdihadron_sig_0;1\tGraph\n",
      "  KEY: TGraphErrors\tsideband_Mdihadron_sigbg_0;1\tGraph\n",
      "  KEY: TGraphErrors\tsideband_Mdihadron_bg_0;1\tGraph\n",
      "  KEY: TGraphErrors\tsplot_Mdihadron_sig_0;1\tGraph\n",
      "  KEY: TGraphErrors\tsplot_Mdihadron_sigbg_0;1\tGraph\n",
      "  KEY: TGraphErrors\tsplot_Mdihadron_bg_0;1\tGraph\n",
      "  KEY: TGraphErrors\tsideband_Mdihadron_sig_1;1\tGraph\n",
      "  KEY: TGraphErrors\tsideband_Mdihadron_sigbg_1;1\tGraph\n",
      "  KEY: TGraphErrors\tsideband_Mdihadron_bg_1;1\tGraph\n",
      "  KEY: TGraphErrors\tsplot_Mdihadron_sig_1;1\tGraph\n",
      "  KEY: TGraphErrors\tsplot_Mdihadron_sigbg_1;1\tGraph\n",
      "  KEY: TGraphErrors\tsplot_Mdihadron_bg_1;1\tGraph\n",
      "  KEY: TGraphErrors\tsideband_Mdihadron_sig_2;1\tGraph\n",
      "  KEY: TGraphErrors\tsideband_Mdihadron_sigbg_2;1\tGraph\n",
      "  KEY: TGraphErrors\tsideband_Mdihadron_bg_2;1\tGraph\n",
      "  KEY: TGraphErrors\tsplot_Mdihadron_sig_2;1\tGraph\n",
      "  KEY: TGraphErrors\tsplot_Mdihadron_sigbg_2;1\tGraph\n",
      "  KEY: TGraphErrors\tsplot_Mdihadron_bg_2;1\tGraph\n",
      "  KEY: TGraphErrors\tsideband_Mdihadron_sig_3;1\tGraph\n",
      "  KEY: TGraphErrors\tsideband_Mdihadron_sigbg_3;1\tGraph\n",
      "  KEY: TGraphErrors\tsideband_Mdihadron_bg_3;1\tGraph\n",
      "  KEY: TGraphErrors\tsplot_Mdihadron_sig_3;1\tGraph\n",
      "  KEY: TGraphErrors\tsplot_Mdihadron_sigbg_3;1\tGraph\n",
      "  KEY: TGraphErrors\tsplot_Mdihadron_bg_3;1\tGraph\n",
      "  KEY: TGraphErrors\tsideband_Mdihadron_sig_4;1\tGraph\n",
      "  KEY: TGraphErrors\tsideband_Mdihadron_sigbg_4;1\tGraph\n",
      "  KEY: TGraphErrors\tsideband_Mdihadron_bg_4;1\tGraph\n",
      "  KEY: TGraphErrors\tsplot_Mdihadron_sig_4;1\tGraph\n",
      "  KEY: TGraphErrors\tsplot_Mdihadron_sigbg_4;1\tGraph\n",
      "  KEY: TGraphErrors\tsplot_Mdihadron_bg_4;1\tGraph\n",
      "  KEY: TGraphErrors\tsideband_Mdihadron_sig_5;1\tGraph\n",
      "  KEY: TGraphErrors\tsideband_Mdihadron_sigbg_5;1\tGraph\n",
      "  KEY: TGraphErrors\tsideband_Mdihadron_bg_5;1\tGraph\n",
      "  KEY: TGraphErrors\tsplot_Mdihadron_sig_5;1\tGraph\n",
      "  KEY: TGraphErrors\tsplot_Mdihadron_sigbg_5;1\tGraph\n",
      "  KEY: TGraphErrors\tsplot_Mdihadron_bg_5;1\tGraph\n",
      "  KEY: TGraphErrors\tsideband_Mdihadron_sig_6;1\tGraph\n",
      "  KEY: TGraphErrors\tsideband_Mdihadron_sigbg_6;1\tGraph\n",
      "  KEY: TGraphErrors\tsideband_Mdihadron_bg_6;1\tGraph\n",
      "  KEY: TGraphErrors\tsplot_Mdihadron_sig_6;1\tGraph\n",
      "  KEY: TGraphErrors\tsplot_Mdihadron_sigbg_6;1\tGraph\n",
      "  KEY: TGraphErrors\tsplot_Mdihadron_bg_6;1\tGraph\n"
     ]
    }
   ],
   "source": [
    "F = ROOT.TFile(\"/volatile/clas12/users/gmat/clas12analysis.sidis.data/rg-a/sept19_beta_0.02/si\",\"READ\")\n",
    "F.ls()"
   ]
  },
  {
   "cell_type": "code",
   "execution_count": 25,
   "id": "eight-concern",
   "metadata": {},
   "outputs": [
    {
     "name": "stdout",
     "output_type": "stream",
     "text": [
      "0.9428575038909912 0.0019733908120542765\n",
      "1.08571457862854 0.00624548876658082\n",
      "0.800000011920929 0.022137107327580452\n",
      "0.6571425199508667 0.0033982652239501476\n",
      "0.3714284896850586 -0.02530694752931595\n",
      "0.5142855048179626 -0.012391491793096066\n",
      "0.0 0.0\n"
     ]
    },
    {
     "data": {
      "image/png": "[encoded data removed]",
      "text/plain": [
       "<IPython.core.display.Image object>"
      ]
     },
     "metadata": {},
     "output_type": "display_data"
    }
   ],
   "source": [
    "c = ROOT.TCanvas()\n",
    "c.Draw()\n",
    "tg=F.Get(\"sideband_Mdihadron_sig_0\")\n",
    "tg.SetMarkerStyle(20)\n",
    "tg.Draw(\"AP\")\n",
    "for i in range(7):\n",
    "    print(tg.GetPointX(i),tg.GetPointY(i))"
   ]
  },
  {
   "cell_type": "code",
   "execution_count": 24,
   "id": "cognitive-harris",
   "metadata": {},
   "outputs": [
    {
     "name": "stdout",
     "output_type": "stream",
     "text": [
      "TFile**\t\t/volatile/clas12/users/gmat/clas12analysis.sidis.data/rg-a/sept19_beta_0.02/sideband_bin_z_0.350000_0.430000/sidebandMethod.root\t\n",
      " TFile*\t\t/volatile/clas12/users/gmat/clas12analysis.sidis.data/rg-a/sept19_beta_0.02/sideband_bin_z_0.350000_0.430000/sidebandMethod.root\t\n",
      "  KEY: TTree\ttree;1\tSideband Method Related Variables\n",
      "  KEY: TF1\tf_diphoton_sig;1\tgaus(0)+pol4(3)\n",
      "  KEY: TF2\tf_sigbg;1\t[0]*sin(2*x-2*y)+[1]*sin(x-y)+[2]*sin(-x+2*y)+[3]*sin(y)+[4]*sin(x)+[5]*sin(2*x-y)+[6]*sin(3*x-2*y)\n",
      "  KEY: TF2\tf_bg;1\t[0]*sin(2*x-2*y)+[1]*sin(x-y)+[2]*sin(-x+2*y)+[3]*sin(y)+[4]*sin(x)+[5]*sin(2*x-y)+[6]*sin(3*x-2*y)\n",
      "  KEY: TH1F\th1_sbnd;1\t\n"
     ]
    }
   ],
   "source": [
    "F = ROOT.TFile(\"/volatile/clas12/users/gmat/clas12analysis.sidis.data/rg-a/sept19_beta_0.02/sideband_bin_z_0.350000_0.430000/sidebandMethod.root\",\"READ\")\n",
    "F.ls()"
   ]
  },
  {
   "cell_type": "code",
   "execution_count": 25,
   "id": "institutional-prime",
   "metadata": {},
   "outputs": [
    {
     "data": {
      "text/plain": [
       "100"
      ]
     },
     "execution_count": 25,
     "metadata": {},
     "output_type": "execute_result"
    },
    {
     "data": {
      "image/png": "[encoded data removed]",
      "text/plain": [
       "<IPython.core.display.Image object>"
      ]
     },
     "metadata": {},
     "output_type": "display_data"
    }
   ],
   "source": [
    "F.Get(\"h1_sbnd\").Draw()\n",
    "c.Draw()\n",
    "F.Get(\"h1_sbnd\").GetNbinsX()"
   ]
  },
  {
   "cell_type": "code",
   "execution_count": 8,
   "id": "intensive-pizza",
   "metadata": {},
   "outputs": [
    {
     "data": {
      "text/plain": [
       "7904709"
      ]
     },
     "execution_count": 8,
     "metadata": {},
     "output_type": "execute_result"
    }
   ],
   "source": [
    "\n",
    "FF=ROOT.TFile(\"/volatile/clas12/users/gmat/clas12analysis.sidis.data/rga/nSidis/testall/merged_run.root\",\"READ\")\n",
    "TT=FF.Get(\"tree_postprocess\")\n",
    "TT.GetEntries()"
   ]
  },
  {
   "cell_type": "code",
   "execution_count": 10,
   "id": "better-nebraska",
   "metadata": {},
   "outputs": [
    {
     "name": "stderr",
     "output_type": "stream",
     "text": [
      "Warning in <TFile::Append>: Replacing existing TH1: hh (Potential memory leak).\n"
     ]
    },
    {
     "data": {
      "image/png": "[encoded data removed]",
      "text/plain": [
       "<IPython.core.display.Image object>"
      ]
     },
     "metadata": {},
     "output_type": "display_data"
    }
   ],
   "source": [
    "c = ROOT.TCanvas()\n",
    "h=ROOT.TH1F(\"hh\",\"h\",100,0.08,0.4)\n",
    "TT.Draw(\"Mdiphoton>>hh\",\"\",\"goff\")\n",
    "h.Scale(1.0/h.Integral())\n",
    "h.Draw(\"\")\n",
    "c.Draw()"
   ]
  },
  {
   "cell_type": "code",
   "execution_count": 23,
   "id": "capital-painting",
   "metadata": {},
   "outputs": [
    {
     "data": {
      "text/plain": [
       "5399722"
      ]
     },
     "execution_count": 23,
     "metadata": {},
     "output_type": "execute_result"
    }
   ],
   "source": [
    "FFF=ROOT.TFile(\"/volatile/clas12/users/gmat/clas12analysis.sidis.data/rg-a/sept14/merged_sept14.root\",\"READ\")\n",
    "TTT=FFF.Get(\"tree_postprocess\")\n",
    "TTT.GetEntries()"
   ]
  },
  {
   "cell_type": "code",
   "execution_count": null,
   "id": "behavioral-magnet",
   "metadata": {},
   "outputs": [],
   "source": []
  }
 ],
 "metadata": {
  "kernelspec": {
   "display_name": "Python 3",
   "language": "python",
   "name": "python3"
  },
  "language_info": {
   "codemirror_mode": {
    "name": "ipython",
    "version": 3
   },
   "file_extension": ".py",
   "mimetype": "text/x-python",
   "name": "python",
   "nbconvert_exporter": "python",
   "pygments_lexer": "ipython3",
   "version": "3.8.6"
  }
 },
 "nbformat": 4,
 "nbformat_minor": 5
}
