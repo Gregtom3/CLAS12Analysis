{
 "cells": [
  {
   "cell_type": "code",
   "execution_count": null,
   "id": "heavy-bunch",
   "metadata": {},
   "outputs": [],
   "source": [
    "from ROOT import TFile,TTree,TCanvas,TH1F, gStyle, TLatex, gPad, TLegend, TLorentzVector, TH2F, TLine, TF1, TBox, RDataFrame, TGraphErrors, TFitResultPtr, TF2, TChain\n",
    "import ROOT\n",
    "import numpy as np\n",
    "from math import log10, floor"
   ]
  },
  {
   "cell_type": "code",
   "execution_count": 37,
   "id": "wound-citizen",
   "metadata": {},
   "outputs": [],
   "source": [
    "def round_sig(x, sig=2):\n",
    "    if(x==0):\n",
    "        return x\n",
    "    return round(x, sig-int(floor(log10(abs(x))))-1)\n",
    "\n",
    "def round_to_reference(x, y):\n",
    "    if(y==0):\n",
    "        return x\n",
    "    return round(x, -int(floor(log10(y))))\n",
    "\n",
    "def val_and_err(val,err,sig=2):\n",
    "    err = round_sig(err,sig)\n",
    "    val = round_to_reference(val,err)\n",
    "    return val,err"
   ]
  },
  {
   "cell_type": "code",
   "execution_count": null,
   "id": "touched-gardening",
   "metadata": {},
   "outputs": [],
   "source": [
    "def gethists_A_LU(d,bintype,bins,phihbins,phiRbins,signal_range):\n",
    "    nPlots = len(bins-1)\n",
    "    hists_sig_plus = []\n",
    "    hists_sig_minus = []\n",
    "    \n",
    "    for i in range(nPlots-1):\n",
    "        final_cut = \" {} > {:.5f} && {} < {:.5f}\".format(bintype,bins[i],bintype,bins[i+1])\n",
    "        hists_sig_plus.append(d.Filter(final_cut + \" && helicity == 1 && Mdiphoton > {} && Mdiphoton < {}\".format(signal_range[0],signal_range[1]))\n",
    "                      .Histo2D((\"h1\",\"h1\",phihbins,-3.141592,3.141592,phiRbins,-3.141592,3.141592),\"phi_h\",\"phi_R\",\"Signal\"))\n",
    "\n",
    "        hists_sig_minus.append(d.Filter(final_cut + \" && helicity == -1 && Mdiphoton > {} && Mdiphoton < {}\".format(signal_range[0],signal_range[1]))\n",
    "                      .Histo2D((\"h2\",\"h2\",phihbins,-3.141592,3.141592,phiRbins,-3.141592,3.141592),\"phi_h\",\"phi_R\",\"Signal\"))\n",
    "    \n",
    "    \n",
    "    return hists_sig_plus, hists_sig_minus"
   ]
  },
  {
   "cell_type": "code",
   "execution_count": null,
   "id": "indoor-replacement",
   "metadata": {},
   "outputs": [],
   "source": [
    "def process_A_LU(hists,pol,polerr):\n",
    "    \n",
    "    hists_sig_plus = hists[0]\n",
    "    hists_sig_minus = hists[1]\n",
    "    \n",
    "    f_=TF2(\"f_\",\"[0]*sin(2*x-2*y)+[1]*sin(x-y)+[2]*sin(-x+2*y)+[3]*sin(y)+[4]*sin(x)+[5]*sin(2*x-y)+[6]*sin(3*x-2*y)\",-3.141592,3.141592,-3.141592,3.141592)\n",
    "    \n",
    "    \n",
    "    fitparams = np.zeros((len(hists[0]),7))\n",
    "    fiterrors = np.zeros((len(hists[0]),7))\n",
    "    \n",
    "    for i in range(len(hists[0])):\n",
    "        hsp1 = hists_sig_plus[i].GetValue().Clone()\n",
    "        hsp2 = hists_sig_plus[i].GetValue().Clone()\n",
    "        hsm = hists_sig_minus[i].GetValue().Clone()\n",
    "        \n",
    "        # Set Sumw2 for proper error propagation when dividing\n",
    "        hsp1.Sumw2()\n",
    "        hsp2.Sumw2()\n",
    "        hsm.Sumw2()\n",
    "        \n",
    "        # For the sig+bg range (N+ - N-)/(N+ + N-)\n",
    "        hsp1.Add(hsm,-1)\n",
    "        hsp2.Add(hsm,+1)\n",
    "        hsp1.Divide(hsp2)\n",
    "               # Divide by weighted polarization\n",
    "        h_sig = hsp1.Clone()\n",
    "        h_sig.Scale(1/pol)\n",
    "        h_sig.Fit(f_,\"SR Q0\")\n",
    "        fitparams[i] = np.array([f_.GetParameter(i) for i in range(7)])\n",
    "        fiterrors[i] = np.array([f_.GetParError(i) for i in range(7)])\n",
    "\n",
    "    return fitparams, fiterrors"
   ]
  },
  {
   "cell_type": "code",
   "execution_count": null,
   "id": "disabled-wiring",
   "metadata": {},
   "outputs": [],
   "source": [
    "mods = [\"sin(2#phi_{h}-2#phi_{R})\",\"sin(#phi_{h}-#phi_{R})\", \"sin(-#phi_{h}+2#phi_{R})\" , \"sin(#phi_{R})\", \"sin(#phi_{h})\", \"sin(2#phi_{h}-#phi{R})\" , \"sin(3#phi_{h}-2#phi_{R})\"]"
   ]
  },
  {
   "cell_type": "code",
   "execution_count": null,
   "id": "worst-caribbean",
   "metadata": {},
   "outputs": [],
   "source": [
    "def get_asym_graph(bins,fitpars,errors,color,marker,plotyranges,idx_mods,plotstr):\n",
    "    tges=[]\n",
    "\n",
    "    for i in range(len(idx_mods)):\n",
    "\n",
    "        idx = idx_mods[i]\n",
    "        modulation_name = mods[idx]\n",
    "\n",
    "        # Create TGraphErrors for plotting\n",
    "        tges.append(TGraphErrors(len(bins)-1))\n",
    "        tges[i].SetMarkerStyle(marker)\n",
    "        tges[i].SetMarkerColor(color)\n",
    "        tges[i].SetLineColor(color)\n",
    "        tges[i].SetTitle(\"{}\".format(modulation_name)+\";{};\".format(plotstr))\n",
    "\n",
    "        for j in range(tges[i].GetN()):\n",
    "            x = np.mean(bins[j:j+2])\n",
    "            y = fitpars[j,idx]\n",
    "            yerr = errors[j,idx]\n",
    "            tges[i].SetPoint(j,x,y)\n",
    "            tges[i].SetPointError(j,0,yerr)\n",
    "            tges[i].GetYaxis().SetRangeUser(plotyranges[i][0],plotyranges[i][1])\n",
    "    return tges"
   ]
  }
 ],
 "metadata": {
  "kernelspec": {
   "display_name": "Python 3",
   "language": "python",
   "name": "python3"
  },
  "language_info": {
   "codemirror_mode": {
    "name": "ipython",
    "version": 3
   },
   "file_extension": ".py",
   "mimetype": "text/x-python",
   "name": "python",
   "nbconvert_exporter": "python",
   "pygments_lexer": "ipython3",
   "version": "3.8.6"
  }
 },
 "nbformat": 4,
 "nbformat_minor": 5
}
