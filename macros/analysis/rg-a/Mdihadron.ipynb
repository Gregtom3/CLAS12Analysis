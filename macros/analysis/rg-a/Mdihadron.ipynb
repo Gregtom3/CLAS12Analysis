{
 "cells": [
  {
   "cell_type": "code",
   "execution_count": null,
   "id": "lightweight-colombia",
   "metadata": {},
   "outputs": [],
   "source": [
    "from ROOT import TFile,TTree,TCanvas,TH1F, gStyle, TLatex, gPad, TLegend, TLorentzVector, TH2F, TLine, TF1, TBox, RDataFrame, TPad, TF2\n",
    "import ROOT\n",
    "import numpy as np"
   ]
  },
  {
   "cell_type": "code",
   "execution_count": null,
   "id": "palestinian-filename",
   "metadata": {},
   "outputs": [],
   "source": [
    "gStyle.SetOptStat(0)\n",
    "gStyle.SetHistLineWidth(2)\n",
    "gStyle.SetTitleXSize(0.045)\n",
    "gStyle.SetTitleYSize(0.035)\n",
    "gStyle.SetTitleYOffset(1.2)\n",
    "gStyle.SetPalette(55)\n",
    "gStyle.SetNumberContours(50)\n",
    "\n",
    "latex=TLatex()\n",
    "latex.SetTextSize(0.03)\n",
    "\n",
    "biglatex=TLatex()\n",
    "biglatex.SetTextSize(0.045)\n",
    "\n",
    "smalllatex=TLatex()\n",
    "smalllatex.SetTextSize(0.022)"
   ]
  },
  {
   "cell_type": "markdown",
   "id": "waiting-mobile",
   "metadata": {},
   "source": [
    "Create an RDataFrame by importing the root files from the analysis"
   ]
  },
  {
   "cell_type": "code",
   "execution_count": null,
   "id": "working-workshop",
   "metadata": {},
   "outputs": [],
   "source": [
    "ROOT.EnableImplicitMT()\n",
    "d = RDataFrame(\"tree_postprocess\", {\"../../../data/fall2018-torus-1-v1-nSidis/may26_*.root\",\n",
    "                                    \"../../../data/fall2018-torus+1-v1-nSidis/may26_*.root\",\n",
    "                                    \"../../../data/spring2019-torus-1-v1-nSidis/may26_*.root\"})"
   ]
  },
  {
   "cell_type": "markdown",
   "id": "parliamentary-leave",
   "metadata": {},
   "source": [
    "Define cuts"
   ]
  },
  {
   "cell_type": "code",
   "execution_count": null,
   "id": "alternate-position",
   "metadata": {},
   "outputs": [],
   "source": [
    "beta_cut = \"abs(beta1-1)< 0.02 && abs(beta2-1) < 0.02\""
   ]
  },
  {
   "cell_type": "markdown",
   "id": "constant-demand",
   "metadata": {},
   "source": [
    "Load up Mdiphoton histogram"
   ]
  },
  {
   "cell_type": "code",
   "execution_count": null,
   "id": "statewide-oracle",
   "metadata": {},
   "outputs": [],
   "source": [
    "h = d.Filter(beta_cut).Histo1D((\"h\",\";M_{h} [GeV];Counts\",1000,0,2.5),\"Mdihadron\")\n",
    "hsig = d.Filter(beta_cut + \" && Mdiphoton > 0.108 && Mdiphoton < 0.16\").Histo1D((\"hsig\",\";M_{h} [GeV];Counts\",1000,0,2.5),\"Mdihadron\")\n",
    "hbg = d.Filter(beta_cut + \" && Mdiphoton > 0.17 && Mdiphoton < 0.4\").Histo1D((\"hbg\",\";M_{h} [GeV];Counts\",1000,0,2.5),\"Mdihadron\")\n",
    "helse = d.Filter(beta_cut + \" && (Mdiphoton < 0.108 || Mdiphoton > 0.4)\").Histo1D((\"helse\",\";M_{h} [GeV];Counts\",1000,0,2.5),\"Mdihadron\")"
   ]
  },
  {
   "cell_type": "markdown",
   "id": "multiple-holder",
   "metadata": {},
   "source": [
    "Plot histogram"
   ]
  },
  {
   "cell_type": "code",
   "execution_count": null,
   "id": "scientific-samba",
   "metadata": {},
   "outputs": [],
   "source": [
    "c = TCanvas(\"c\",\"c\",1100,800)\n",
    "h.SetLineColor(1)\n",
    "hsig.SetLineColor(2)\n",
    "hbg.SetLineColor(41)\n",
    "h.Draw(\"hist\")\n",
    "hsig.Draw(\"hist same\")\n",
    "hbg.Draw(\"hist same\")\n",
    "smalllatex.DrawLatexNDC(.12,.87,\"#color[11]{/cache/clas12/rg-a/production/recon/*/torus*/pass1/v1/dst/train/nSidis/*.hipo}\")\n",
    "#latex.DrawLatexNDC(.54,.8,\"#it{CLAS}12 10.6 GeV Analysis\")\n",
    "latex.DrawLatexNDC(.6,.75,\"#color[2]{Cuts applied}\")\n",
    "latex.DrawLatexNDC(.55,.69,\"Q^{2}_{reco} > 1 GeV^{2}\")\n",
    "latex.DrawLatexNDC(.55,.65,\"W_{reco} > 2 GeV\")\n",
    "latex.DrawLatexNDC(.55,.61,\"y_{reco} < 0.8 \")\n",
    "latex.DrawLatexNDC(.55,.57,\"| #chi^{2}_{pid}(#pi+) | < 3 \")\n",
    "latex.DrawLatexNDC(.55,.53,\"E_{#gamma} > 0.6 GeV\")\n",
    "latex.DrawLatexNDC(.55,.49,\"N_{e} = 1 \")\n",
    "latex.DrawLatexNDC(.55,.45,\"N_{#gamma} >= 2 \")\n",
    "latex.DrawLatexNDC(.55,.41,\"N_{#pi+} = 1 \")\n",
    "latex.DrawLatexNDC(0.73,0.69,\"0.98 < #beta(#gamma) < 1.02\")\n",
    "latex.DrawLatexNDC(0.73,0.65,\"p(#pi+) > 1.25 GeV\")\n",
    "latex.DrawLatexNDC(0.73,0.61,\"Ang(e^{-},#gamma)>8^{o}\")\n",
    "latex.DrawLatexNDC(0.73,0.57,\"x_{F}(#pi^{+}),x_{F}(#pi^{0}) > 0\")\n",
    "latex.DrawLatexNDC(0.73,0.53,\"-8 < v_{z}(e^{-}) < 3 cm\")\n",
    "latex.DrawLatexNDC(0.73,0.49,\"|v_{z}^{#pi} - v_{z}^{e-}| < 20 cm\")\n",
    "latex.DrawLatexNDC(0.73,0.45,\"z_{pair} < 0.95\")\n",
    "latex.DrawLatexNDC(0.73,0.41,\"Fiducial cuts\")\n",
    "\n",
    "legend=TLegend(0.65,0.17,0.8,0.27)\n",
    "legend.AddEntry(h.GetValue(),\"Total\",\"l\")\n",
    "legend.AddEntry(hsig.GetValue(),\"Signal\",\"l\")\n",
    "legend.AddEntry(hbg.GetValue(),\"Sideband\",\"l\")\n",
    "legend.Draw(\"same\")\n",
    "c.Draw()"
   ]
  },
  {
   "cell_type": "code",
   "execution_count": null,
   "id": "accurate-questionnaire",
   "metadata": {},
   "outputs": [],
   "source": [
    "h.Integral(h.FindBin(0.108),h.FindBin(0.160))"
   ]
  },
  {
   "cell_type": "code",
   "execution_count": null,
   "id": "ready-charger",
   "metadata": {},
   "outputs": [],
   "source": [
    "f = TF1(\"f\",\"crystalball(0)+pol4(5)\",0.07,0.5)\n",
    "f.SetParameters(10000,0.131,0.01,1,1,1,100,1)\n",
    "f.SetParLimits(1,0.129,0.133)\n",
    "f.SetParLimits(3,0,1000)\n",
    "f.SetParLimits(4,0,1000)\n",
    "f.SetParLimits(5,0,100000)"
   ]
  },
  {
   "cell_type": "code",
   "execution_count": null,
   "id": "intended-marble",
   "metadata": {},
   "outputs": [],
   "source": [
    "  1  p0           2.79953e+04   5.65620e+01  -0.00000e+00   7.73197e-05\n",
    "   2  p1           1.32591e-01   1.95250e-05  -0.00000e+00  -3.57688e+00\n",
    "   3  p2           1.05857e-02   1.90462e-05   0.00000e+00   1.28040e+03\n",
    "   4  p3           1.08231e+01   2.58722e-02  -0.00000e+00   3.99554e+02\n",
    "   5  p4           2.45278e+01   7.07075e-01  -0.00000e+00   0.00000e+00\n",
    "   6  p5           2.17977e+03   2.47847e+01   0.00000e+00   3.46337e+02\n",
    "   7  p6           1.91216e+04   2.66372e+02  -0.00000e+00   2.32039e-03\n",
    "   8  p7          -1.13092e+04   4.57292e+02   0.00000e+00   3.89086e-05\n",
    "   9  p8          -7.26600e+04   1.38360e+03   0.00000e+00   1.92876e-04\n",
    "  10  p9           7.04571e+04   3.05262e+03  -0.00000e+00   2.50924e-05"
   ]
  },
  {
   "cell_type": "code",
   "execution_count": null,
   "id": "static-diesel",
   "metadata": {},
   "outputs": [],
   "source": [
    "c = TCanvas(\"c\",\"c\",1600,800)\n",
    "f.SetNpx(10000)\n",
    "h.Fit(f,\"LSR\")\n",
    "f.Draw(\"same\")\n",
    "h.GetXaxis().SetRangeUser(0,1.4)\n",
    "c.Draw()"
   ]
  },
  {
   "cell_type": "code",
   "execution_count": null,
   "id": "stupid-grammar",
   "metadata": {},
   "outputs": [],
   "source": []
  },
  {
   "cell_type": "code",
   "execution_count": null,
   "id": "induced-behavior",
   "metadata": {},
   "outputs": [],
   "source": [
    "f.GetChisquare()/f.GetNDF()"
   ]
  },
  {
   "cell_type": "code",
   "execution_count": null,
   "id": "dietary-match",
   "metadata": {},
   "outputs": [],
   "source": []
  }
 ],
 "metadata": {
  "kernelspec": {
   "display_name": "Python 3",
   "language": "python",
   "name": "python3"
  },
  "language_info": {
   "codemirror_mode": {
    "name": "ipython",
    "version": 3
   },
   "file_extension": ".py",
   "mimetype": "text/x-python",
   "name": "python",
   "nbconvert_exporter": "python",
   "pygments_lexer": "ipython3",
   "version": "3.8.6"
  }
 },
 "nbformat": 4,
 "nbformat_minor": 5
}
