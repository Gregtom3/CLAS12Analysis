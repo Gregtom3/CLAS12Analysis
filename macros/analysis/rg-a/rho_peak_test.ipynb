{
 "cells": [
  {
   "cell_type": "code",
   "execution_count": null,
   "id": "everyday-tunisia",
   "metadata": {},
   "outputs": [],
   "source": [
    "import ROOT\n",
    "from scipy.optimize import curve_fit\n",
    "import numpy as np"
   ]
  },
  {
   "cell_type": "code",
   "execution_count": null,
   "id": "thirty-privacy",
   "metadata": {},
   "outputs": [],
   "source": [
    "def gaus(x,a,b,c):\n",
    "    return a*np.exp(-(x-b)**2/(2*c**2))\n",
    "\n",
    "def moyal(x,d,x0):\n",
    "    X = x-x0\n",
    "    return d*np.exp(-(X+np.exp(-X))/2)\n",
    "\n",
    "def fitfunc(x,a,b,c,d,x0):\n",
    "    return gaus(x,a,b,c) + moyal(x,d,x0)\n",
    "\n",
    "def get_points_from_TH1F(h):\n",
    "    N = h.GetNbinsX()\n",
    "    x_arr = np.zeros(N)\n",
    "    y_arr = np.zeros(N)\n",
    "    y_err = np.zeros(N)\n",
    "    for i in range(1,N+1):\n",
    "        x_arr[i-1]=h.GetBinCenter(i)\n",
    "        y_arr[i-1]=h.GetBinContent(i)\n",
    "        y_err[i-1]=h.GetBinError(i)\n",
    "    return x_arr, y_arr, y_err"
   ]
  },
  {
   "cell_type": "code",
   "execution_count": null,
   "id": "married-angle",
   "metadata": {},
   "outputs": [],
   "source": [
    "file = ROOT.TFile(\"/volatile/clas12/users/gmat/clas12analysis.sidis.data/rg-a/july22/merged_july22.root\",\"READ\")\n",
    "tree = file.Get(\"tree_postprocess\")"
   ]
  },
  {
   "cell_type": "code",
   "execution_count": null,
   "id": "worldwide-complaint",
   "metadata": {},
   "outputs": [],
   "source": [
    "c=ROOT.TCanvas(\"c\",\"c\",800,500)"
   ]
  },
  {
   "cell_type": "code",
   "execution_count": null,
   "id": "round-aging",
   "metadata": {},
   "outputs": [],
   "source": [
    "h = ROOT.TH1F(\"h\",\"RGA dataset;M_{h};Counts\",100,0,2.5)\n",
    "tree.Draw(\"Mdihadron>>h\",\"Mdiphoton>0.108 && Mdiphoton < 0.160\")\n",
    "h.Scale(1/h.Integral())\n",
    "h.Draw(\"hist\")\n",
    "c.Draw()"
   ]
  },
  {
   "cell_type": "code",
   "execution_count": null,
   "id": "persistent-pasta",
   "metadata": {},
   "outputs": [],
   "source": [
    "f = ROOT.TF1(\"fit\",\"[0]*exp(-((x-[1])/[2]+exp((-x+[1])/[2]))/2)+[3]*exp(-(x-[4])**2/2/[5]**2)\",0.25,2)\n",
    "f.SetParLimits(0,0.0,1) # Moyal amplitude\n",
    "f.SetParLimits(1,0.,1)  # Moyal peak\n",
    "f.SetParLimits(2,0.001,0.3)# Moyal spread\n",
    "f.SetParLimits(3,0,1)    # Gaussian amplitude\n",
    "f.SetParLimits(4,0.6,0.9)# Gaussian peak\n",
    "f.SetParLimits(5,0.1,0.5)# Gaussian sigma\n",
    "\n",
    "h.Fit(\"fit\")\n",
    "h.Draw(\"hist\")\n",
    "f.Draw(\"same\")\n",
    "c.Draw()"
   ]
  },
  {
   "cell_type": "code",
   "execution_count": null,
   "id": "tight-province",
   "metadata": {},
   "outputs": [],
   "source": [
    "f = ROOT.TF1(\"fit\",\"[0]*exp(-(log(x)-[1])**2/2/[2]**2)+[3]*exp(-(x-[4])**2/2/[5]**2)\",0.25,2)\n",
    "f.SetParLimits(0,0.0,1) # Moyal amplitude\n",
    "f.SetParLimits(1,-1,1)  # Moyal peak\n",
    "f.SetParLimits(2,0.001,1)# Moyal spread\n",
    "f.SetParLimits(3,0,1)    # Gaussian amplitude\n",
    "f.SetParLimits(4,0.6,0.9)# Gaussian peak\n",
    "f.SetParLimits(5,0.1,0.5)# Gaussian sigma\n",
    "\n",
    "h.Fit(\"fit\")\n",
    "h.Draw(\"hist\")\n",
    "f.Draw(\"same\")\n",
    "c.Draw()"
   ]
  },
  {
   "cell_type": "code",
   "execution_count": null,
   "id": "guided-immunology",
   "metadata": {},
   "outputs": [],
   "source": [
    "f = ROOT.TF1(\"fit\",\"[0]*exp(-(log(sqrt(x))-[1])**2/2/[2]**2)+[3]*exp(-(x-[4])**2/2/[5]**2)\",0.25,2)\n",
    "f.FixParameter(0,0.029)\n",
    "#f.FixParameter(1,-0.38)\n",
    "f.FixParameter(2,0.22)\n",
    "f.SetParameter(3,0.01)\n",
    "f.SetParLimits(3,0.01,1)\n",
    "f.SetParameter(4,0.77)\n",
    "f.SetParLimits(4,0.7,0.8)\n",
    "f.SetParameter(5,0.25)\n",
    "h.Fit(\"fit\")\n",
    "h.Draw(\"hist\")\n",
    "f.Draw(\"same\")\n",
    "c.Draw()"
   ]
  },
  {
   "cell_type": "code",
   "execution_count": null,
   "id": "revolutionary-fourth",
   "metadata": {},
   "outputs": [],
   "source": [
    "f = ROOT.TF1(\"fit\",\"[0]*exp(-(x-[1])**2/2/[2]**2)+[3]\",0.5,2)\n",
    "#f.SetParameters(0.01,0.01,0.01,0.01,0.01,0.01,0)\n",
    "f.SetParameter(1,0.787)\n",
    "f.SetParLimits(1,0.7,0.8)\n",
    "f.SetParameter(2,0.04)\n",
    "f.SetParLimits(2,0.01,0.2)\n",
    "h.Fit(\"fit\")\n",
    "h.Draw(\"hist\")\n",
    "f.Draw(\"same\")\n",
    "c.SetLogy(0)\n",
    "c.Draw()"
   ]
  },
  {
   "cell_type": "code",
   "execution_count": null,
   "id": "located-graham",
   "metadata": {},
   "outputs": [],
   "source": []
  }
 ],
 "metadata": {
  "kernelspec": {
   "display_name": "Python 3",
   "language": "python",
   "name": "python3"
  },
  "language_info": {
   "codemirror_mode": {
    "name": "ipython",
    "version": 3
   },
   "file_extension": ".py",
   "mimetype": "text/x-python",
   "name": "python",
   "nbconvert_exporter": "python",
   "pygments_lexer": "ipython3",
   "version": "3.8.6"
  }
 },
 "nbformat": 4,
 "nbformat_minor": 5
}
