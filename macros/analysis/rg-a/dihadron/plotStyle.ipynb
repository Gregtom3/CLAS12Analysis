{
 "cells": [
  {
   "cell_type": "code",
   "execution_count": 4,
   "id": "regulated-version",
   "metadata": {},
   "outputs": [
    {
     "name": "stderr",
     "output_type": "stream",
     "text": [
      "Warning in <TCanvas::Constructor>: Deleting canvas with same name: c\n",
      "Warning in <TROOT::Append>: Replacing existing TH1: h1 (Potential memory leak).\n"
     ]
    },
    {
     "data": {
      "image/png": "[encoded data removed]",
      "text/plain": [
       "<IPython.core.display.Image object>"
      ]
     },
     "metadata": {},
     "output_type": "display_data"
    }
   ],
   "source": [
    "import ROOT\n",
    "c=ROOT.TCanvas(\"c\",\"c\",800,600)\n",
    "h=ROOT.TH1F(\"h1\",\"h1;x;Counts\",100,-5,5)\n",
    "h.FillRandom(\"gaus\",10000)\n",
    "h.Draw()\n",
    "c.Draw()"
   ]
  },
  {
   "cell_type": "code",
   "execution_count": 3,
   "id": "alien-windows",
   "metadata": {},
   "outputs": [],
   "source": [
    "myStyle=ROOT.TStyle(\"myStyle\",\"myStyle\")\n",
    "gStyle.SetTitleX(0.1);\t\t//Title box x position (top left-hand corner)\t\n",
    "gStyle.SetTitleY(0.995); \t//Title box y position (default value)\t\t\n",
    "gStyle.SetTitleW(0.6);\t\t//Title box width as fraction of pad size\n",
    "gStyle.SetTitleH(0.08);\t//Title box height as fraction of pad size\t\n",
    "gStyle.SetTitleColor(0);\t//Title box fill color\n",
    "gStyle.SetTitleTextColor(4);\t//Title box text color\n",
    "gStyle.SetTitleStyle(1001);\n",
    "#TitleFont = 10*fontid + 2 (12 is normal, 22 bold 32 italic)\n",
    "gStyle.SetTitleFont(32);  \n",
    "gStyle.SetTitleBorderSize(2);\t\n",
    "gStyle.SetTitleOffset(0.8,\"x\");\n",
    "gStyle.SetTitleOffset(1.1,\"y\");\t\n",
    "gStyle.SetTitleSize(0.05,\"x\");\t\n",
    "gStyle.SetTitleSize(0.05,\"y\");\n",
    "gStyle.SetTitleSize(0.05,\"z\");\n",
    "gStyle.SetLabelOffset(0.025);\n",
    "\n",
    "\n",
    "gStyle.SetStatX(0.995);\t\n",
    "gStyle.SetStatY(0.995); \n",
    "gStyle.SetStatW(0.09);\n",
    "gStyle.SetStatH(0.09);\n",
    "gStyle.SetStatColor(0);\n",
    "gStyle.SetStatTextColor(1);\n",
    "gStyle.SetStatStyle(1001);\t\n",
    "#StatFont = 10*fontid + 2 (12 is normal, 22 bold 32 italic)\n",
    "gStyle.SetStatFont(62);  \t\n",
    "gStyle.SetStatBorderSize(2);\t\n",
    "gStyle.SetStatFormat(\"6.4g\");\n",
    "\n",
    "#Statistic box options \t\t(from left to right)\n",
    "gStyle.SetOptStat(1111111); \n",
    "gStyle.SetOptFit(1111);   \n",
    "\n",
    "#Go to view menu on canvas, select markers to view possible values\n",
    "gStyle.SetMarkerStyle(20);\t\t\n",
    "gStyle.SetMarkerSize(.5);  \t\n"
   ]
  },
  {
   "cell_type": "code",
   "execution_count": null,
   "id": "federal-substance",
   "metadata": {},
   "outputs": [],
   "source": []
  }
 ],
 "metadata": {
  "kernelspec": {
   "display_name": "Python 3",
   "language": "python",
   "name": "python3"
  },
  "language_info": {
   "codemirror_mode": {
    "name": "ipython",
    "version": 3
   },
   "file_extension": ".py",
   "mimetype": "text/x-python",
   "name": "python",
   "nbconvert_exporter": "python",
   "pygments_lexer": "ipython3",
   "version": "3.8.6"
  }
 },
 "nbformat": 4,
 "nbformat_minor": 5
}
